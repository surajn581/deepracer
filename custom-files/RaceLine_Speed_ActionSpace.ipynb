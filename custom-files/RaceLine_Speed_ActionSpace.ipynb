{
 "cells": [
  {
   "cell_type": "markdown",
   "metadata": {},
   "source": [
    "# INSTRUCTIONS\n",
    "\n",
    "#### Part 1: Computing the optimal speed from the optimal racing line\n",
    "- Part 1 of this notebook takes the optimal racing line, which can be generated with Race-Line-Calculation.ipynb ([GitHub](https://github.com/cdthompson/deepracer-k1999-race-lines)), and generates the optimal speed for each point on the racing line\n",
    "- Input: .py file with 2D array containing optimal racing line: 2 columns (x,y)\n",
    "- Output: .py file with 2D array: 4 columns (x,y,speed,expected time). This array can be inserted into the reward function\n",
    "- Note: The last point of the racing line is deleted because it is the same point as the first one\n",
    "\n",
    "#### Part 2: Computing the Action Space\n",
    "- Part 2 of this notebook takes the optimal racing line and speed, and uses K-Means with Gaussian Noise infused data, to calculate the action space"
   ]
  },
  {
   "cell_type": "code",
   "execution_count": 231,
   "metadata": {},
   "outputs": [],
   "source": [
    "%matplotlib inline\n",
    "\n",
    "import numpy as np\n",
    "import pandas as pd\n",
    "from scipy import stats\n",
    "import math\n",
    "\n",
    "# Ignore deprecation warnings we have no power over\n",
    "import warnings\n",
    "warnings.filterwarnings('ignore')"
   ]
  },
  {
   "cell_type": "code",
   "execution_count": 232,
   "metadata": {},
   "outputs": [],
   "source": [
    "from reward_function import Path"
   ]
  },
  {
   "cell_type": "code",
   "execution_count": 233,
   "metadata": {},
   "outputs": [],
   "source": [
    "# Path of the optimal racing line (.npy file)\n",
    "fpath = 'C:/Users/suraj/projects/deepracer24/FS_June2020.npy'\n",
    "\n",
    "# Change manually (this is only so that output files are named correctly)\n",
    "TRACK_NAME = \"FS_June2020\"\n",
    "\n",
    "waypoints = np.load(fpath)\n",
    "\n",
    "center_line = waypoints[:,0:2]\n",
    "inner_border = waypoints[:,2:4]\n",
    "outer_border = waypoints[:,4:6]\n",
    "\n",
    "center_line = Path(center_line, 2).get()\n",
    "\n",
    "# Convert np array to list and remove last point because it is the same point as the first one\n",
    "racing_track = center_line[:-1]\n",
    "# racing_track = center_line.tolist()[:-1]"
   ]
  },
  {
   "cell_type": "code",
   "execution_count": 234,
   "metadata": {},
   "outputs": [],
   "source": [
    "# racing_track"
   ]
  },
  {
   "cell_type": "markdown",
   "metadata": {},
   "source": [
    "# Helper functions for Part 1 and Part 2"
   ]
  },
  {
   "cell_type": "code",
   "execution_count": 235,
   "metadata": {},
   "outputs": [],
   "source": [
    "# Uses previous and next coords to calculate the radius of the curve\n",
    "# so you need to pass a list with form [[x1,y1],[x2,y2],[x3,y3]]\n",
    "# Input 3 coords [[x1,y1],[x2,y2],[x3,y3]]\n",
    "def circle_radius(coords):\n",
    "\n",
    "    # Flatten the list and assign to variables (makes code easier to read later)\n",
    "    x1, y1, x2, y2, x3, y3 = [i for sub in coords for i in sub]\n",
    "\n",
    "    a = x1*(y2-y3) - y1*(x2-x3) + x2*y3 - x3*y2\n",
    "    b = (x1**2+y1**2)*(y3-y2) + (x2**2+y2**2)*(y1-y3) + (x3**2+y3**2)*(y2-y1)\n",
    "    c = (x1**2+y1**2)*(x2-x3) + (x2**2+y2**2)*(x3-x1) + (x3**2+y3**2)*(x1-x2)\n",
    "    d = (x1**2+y1**2)*(x3*y2-x2*y3) + (x2**2+y2**2) * \\\n",
    "        (x1*y3-x3*y1) + (x3**2+y3**2)*(x2*y1-x1*y2)\n",
    "\n",
    "    # In case a is zero (so radius is infinity)\n",
    "    try:\n",
    "        r = abs((b**2+c**2-4*a*d) / abs(4*a**2)) ** 0.5\n",
    "    except:\n",
    "        r = 999\n",
    "\n",
    "    return r\n",
    "\n",
    "\n",
    "# Returns indexes of next index and index+lookfront\n",
    "# We need this to calculate the radius for next track section.\n",
    "def circle_indexes(mylist, index_car, add_index_1=0, add_index_2=0):\n",
    "\n",
    "    list_len = len(mylist)\n",
    "\n",
    "    # if index >= list_len:\n",
    "    #     raise ValueError(\"Index out of range in circle_indexes()\")\n",
    "\n",
    "    # Use modulo to consider that track is cyclical\n",
    "    index_1 = (index_car + add_index_1) % list_len\n",
    "    index_2 = (index_car + add_index_2) % list_len\n",
    "\n",
    "    return [index_car, index_1, index_2]\n",
    "\n",
    "\n",
    "def optimal_velocity(track, min_speed, max_speed, look_ahead_points):\n",
    "\n",
    "    # Calculate the radius for every point of the track\n",
    "    radius = []\n",
    "    for i in range(len(track)):\n",
    "        indexes = circle_indexes(track, i, add_index_1=-1, add_index_2=1)\n",
    "        coords = [track[indexes[0]],\n",
    "                  track[indexes[1]], track[indexes[2]]]\n",
    "        radius.append(circle_radius(coords))\n",
    "\n",
    "    # Get the max_velocity for the smallest radius\n",
    "    # That value should multiplied by a constant multiple\n",
    "    v_min_r = min(radius)**0.5\n",
    "    constant_multiple = min_speed / v_min_r\n",
    "    print(f\"Constant multiple for optimal speed: {constant_multiple}\")\n",
    "\n",
    "    if look_ahead_points == 0:\n",
    "        # Get the maximal velocity from radius\n",
    "        max_velocity = [(constant_multiple * i**0.5) for i in radius]\n",
    "        # Get velocity from max_velocity (cap at MAX_SPEED)\n",
    "        velocity = [min(v, max_speed) for v in max_velocity]\n",
    "        return velocity\n",
    "\n",
    "    else:\n",
    "        # Looks at the next n radii of points and takes the minimum\n",
    "        # goal: reduce lookahead until car crashes bc no time to break\n",
    "        LOOK_AHEAD_POINTS = look_ahead_points\n",
    "        radius_lookahead = []\n",
    "        for i in range(len(radius)):\n",
    "            next_n_radius = []\n",
    "            for j in range(LOOK_AHEAD_POINTS+1):\n",
    "                index = circle_indexes(\n",
    "                    mylist=radius, index_car=i, add_index_1=j)[1]\n",
    "                next_n_radius.append(radius[index])\n",
    "            radius_lookahead.append(min(next_n_radius))\n",
    "        max_velocity_lookahead = [(constant_multiple * i**0.5)\n",
    "                                  for i in radius_lookahead]\n",
    "        velocity_lookahead = [min(v, max_speed)\n",
    "                              for v in max_velocity_lookahead]\n",
    "        return velocity_lookahead\n",
    "\n",
    "\n",
    "# For each point in racing track, check if left curve (returns boolean)\n",
    "def is_left_curve(coords):\n",
    "\n",
    "    # Flatten the list and assign to variables (makes code easier to read later)\n",
    "    x1, y1, x2, y2, x3, y3 = [i for sub in coords for i in sub]\n",
    "\n",
    "    return ((x2-x1)*(y3-y1) - (y2-y1)*(x3-x1)) > 0\n",
    "\n",
    "\n",
    "# Calculate the distance between 2 points\n",
    "def dist_2_points(x1, x2, y1, y2):\n",
    "        return abs(abs(x1-x2)**2 + abs(y1-y2)**2)**0.5"
   ]
  },
  {
   "cell_type": "markdown",
   "metadata": {},
   "source": [
    "# Part 1: Calculate optimal speed\n",
    "\n",
    "- Change ```LOOK_AHEAD_POINTS``` to influence how many points the algorithm looks ahead (the higher, the sooner the car will start to break)\n",
    "- Change ```MIN_SPEED``` and ```MAX_SPEED``` to fit the track and model !"
   ]
  },
  {
   "cell_type": "code",
   "execution_count": 236,
   "metadata": {},
   "outputs": [
    {
     "name": "stdout",
     "output_type": "stream",
     "text": [
      "Constant multiple for optimal speed: 2.335045566716909\n"
     ]
    }
   ],
   "source": [
    "LOOK_AHEAD_POINTS = 12\n",
    "MIN_SPEED = 1.3\n",
    "MAX_SPEED = 5.0\n",
    "\n",
    "# Calculate optimal speed\n",
    "velocity = optimal_velocity(track=racing_track, \n",
    "    min_speed=MIN_SPEED, max_speed=MAX_SPEED, look_ahead_points=LOOK_AHEAD_POINTS)"
   ]
  },
  {
   "cell_type": "code",
   "execution_count": 237,
   "metadata": {},
   "outputs": [],
   "source": [
    "new_velocity = []\n",
    "rev_v = velocity[::-1]\n",
    "for i, vel in enumerate(rev_v, LOOK_AHEAD_POINTS):\n",
    "    vel = min(vel, 4)\n",
    "    meanN = np.mean(rev_v[i-LOOK_AHEAD_POINTS:i])\n",
    "    if vel > 2.1 and vel >= meanN:\n",
    "        new_velocity.append(meanN)\n",
    "    else:\n",
    "        new_velocity.append(vel)\n",
    "\n",
    "new_velocity = new_velocity[::-1]"
   ]
  },
  {
   "cell_type": "code",
   "execution_count": 238,
   "metadata": {},
   "outputs": [
    {
     "data": {
      "text/plain": [
       "False"
      ]
     },
     "execution_count": 238,
     "metadata": {},
     "output_type": "execute_result"
    }
   ],
   "source": [
    "velocity == new_velocity"
   ]
  },
  {
   "cell_type": "code",
   "execution_count": 239,
   "metadata": {},
   "outputs": [],
   "source": [
    "# for v in zip(velocity, new_velocity):\n",
    "#     print(v)"
   ]
  },
  {
   "cell_type": "markdown",
   "metadata": {},
   "source": [
    "#### Visualization"
   ]
  },
  {
   "cell_type": "code",
   "execution_count": 240,
   "metadata": {},
   "outputs": [
    {
     "data": {
      "image/png": "[encoded data removed]",
      "text/plain": [
       "<Figure size 576x360 with 1 Axes>"
      ]
     },
     "metadata": {
      "needs_background": "light"
     },
     "output_type": "display_data"
    },
    {
     "data": {
      "image/png": "[encoded data removed]",
      "text/plain": [
       "<Figure size 576x360 with 1 Axes>"
      ]
     },
     "metadata": {
      "needs_background": "light"
     },
     "output_type": "display_data"
    }
   ],
   "source": [
    "from matplotlib import pyplot as plt\n",
    "import seaborn as sns\n",
    "\n",
    "x = [i[0] for i in racing_track]\n",
    "y = [i[1] for i in racing_track]\n",
    "\n",
    "# # Without lookahead\n",
    "# velocity_no_lookahead = optimal_velocity(track=racing_track,\n",
    "#     min_speed=MIN_SPEED, max_speed=MAX_SPEED, look_ahead_points=LOOK_AHEAD_POINTS)\n",
    "\n",
    "fig, ax = plt.subplots(figsize=(8, 5))\n",
    "ax = sns.scatterplot(x=x, y=y, hue=new_velocity,\n",
    "                     palette=\"vlag\").set_title(\"New Velocity\")\n",
    "\n",
    "fig, ax = plt.subplots(figsize=(8, 5))\n",
    "ax = sns.scatterplot(x=x, y=y, hue=velocity, palette=\"vlag\").set_title(\n",
    "    f\"With lookahead: {LOOK_AHEAD_POINTS}\")"
   ]
  },
  {
   "cell_type": "code",
   "execution_count": 241,
   "metadata": {},
   "outputs": [],
   "source": [
    "velocity = new_velocity"
   ]
  },
  {
   "cell_type": "markdown",
   "metadata": {},
   "source": [
    "#### Calculate distance and optimal time between each racing point"
   ]
  },
  {
   "cell_type": "code",
   "execution_count": 242,
   "metadata": {},
   "outputs": [
    {
     "name": "stdout",
     "output_type": "stream",
     "text": [
      "Total time for track, if racing line and speeds are followed perfectly: 20.150554727902254 s\n"
     ]
    }
   ],
   "source": [
    "distance_to_prev = []\n",
    "for i in range(len(racing_track)):\n",
    "    indexes = circle_indexes(racing_track, i, add_index_1=-1, add_index_2=0)[0:2]\n",
    "    coords = [racing_track[indexes[0]],racing_track[indexes[1]]]\n",
    "    dist_to_prev = dist_2_points(x1=coords[0][0], x2=coords[1][0], y1=coords[0][1], y2=coords[1][1])\n",
    "    distance_to_prev.append(dist_to_prev)\n",
    "    \n",
    "time_to_prev = [(distance_to_prev[i]/velocity[i]) for i in range(len(racing_track))]\n",
    "\n",
    "total_time = sum(time_to_prev)\n",
    "print(f\"Total time for track, if racing line and speeds are followed perfectly: {total_time} s\")"
   ]
  },
  {
   "cell_type": "markdown",
   "metadata": {},
   "source": [
    "## Append everything together and save to .txt file"
   ]
  },
  {
   "cell_type": "code",
   "execution_count": 243,
   "metadata": {},
   "outputs": [],
   "source": [
    "# Now we have list with columns (x,y,speed,distance,time)\n",
    "racing_track_everything = []\n",
    "for i in range(len(racing_track)):\n",
    "    racing_track_everything.append([racing_track[i][0],\n",
    "                                    racing_track[i][1],\n",
    "                                    velocity[i],\n",
    "                                    time_to_prev[i]])\n",
    "# Round to 5 decimals\n",
    "racing_track_everything = np.around(racing_track_everything, 5).tolist()"
   ]
  },
  {
   "cell_type": "code",
   "execution_count": 244,
   "metadata": {},
   "outputs": [],
   "source": [
    "def getEverything(waypoints):\n",
    "    pass"
   ]
  },
  {
   "cell_type": "code",
   "execution_count": 245,
   "metadata": {},
   "outputs": [
    {
     "data": {
      "text/plain": [
       "[[1.26219, -2.79859, 4.0, 0.0714],\n",
       " [1.11939, -2.79603, 4.0, 0.03571],\n",
       " [0.97643, -2.79304, 4.0, 0.03575],\n",
       " [0.8332, -2.7896, 4.0, 0.03582],\n",
       " [0.68961, -2.78573, 4.0, 0.03591],\n",
       " [0.54558, -2.78142, 4.0, 0.03602],\n",
       " [0.40107, -2.77669, 4.0, 0.03615],\n",
       " [0.25603, -2.77153, 4.0, 0.03628],\n",
       " [0.11044, -2.76594, 4.0, 0.03642],\n",
       " [-0.0357, -2.75993, 4.0, 0.03656],\n",
       " [-0.18235, -2.75349, 4.0, 0.0367],\n",
       " [-0.32951, -2.74664, 4.0, 0.03683],\n",
       " [-0.47712, -2.73936, 4.0, 0.03695],\n",
       " [-0.62515, -2.73166, 4.0, 0.03706],\n",
       " [-0.77352, -2.72355, 4.0, 0.03715],\n",
       " [-0.92221, -2.71501, 4.0, 0.03723],\n",
       " [-1.07114, -2.70606, 4.0, 0.0373],\n",
       " [-1.22028, -2.69669, 4.0, 0.03736],\n",
       " [-1.36958, -2.6869, 4.0, 0.03741],\n",
       " [-1.51901, -2.67669, 4.0, 0.03744],\n",
       " [-1.66852, -2.66605, 4.0, 0.03747],\n",
       " [-1.8181, -2.655, 4.0, 0.0375],\n",
       " [-1.96771, -2.64351, 4.0, 0.03751],\n",
       " [-2.11734, -2.63159, 4.0, 0.03753],\n",
       " [-2.26697, -2.61924, 4.0, 0.03753],\n",
       " [-2.41659, -2.60645, 4.0, 0.03754],\n",
       " [-2.56618, -2.5932, 4.0, 0.03755],\n",
       " [-2.71575, -2.5795, 4.0, 0.03755],\n",
       " [-2.86529, -2.56533, 4.0, 0.03755],\n",
       " [-3.01477, -2.55069, 4.0, 0.03755],\n",
       " [-3.16421, -2.53556, 4.0, 0.03755],\n",
       " [-3.3136, -2.51993, 4.0, 0.03755],\n",
       " [-3.46292, -2.50378, 4.0, 0.03755],\n",
       " [-3.61218, -2.4871, 4.0, 0.03755],\n",
       " [-3.76136, -2.46986, 4.0, 0.03754],\n",
       " [-3.91045, -2.45205, 4.0, 0.03754],\n",
       " [-4.05944, -2.43363, 4.0, 0.03753],\n",
       " [-4.20832, -2.41458, 4.0, 0.03752],\n",
       " [-4.35705, -2.39486, 4.0, 0.03751],\n",
       " [-4.50563, -2.37443, 4.0, 0.03749],\n",
       " [-4.654, -2.35325, 4.0, 0.03747],\n",
       " [-4.80214, -2.33126, 4.0, 0.03744],\n",
       " [-4.94998, -2.30841, 4.0, 0.0374],\n",
       " [-5.09745, -2.28462, 4.0, 0.03735],\n",
       " [-5.24448, -2.25981, 4.0, 0.03728],\n",
       " [-5.39096, -2.23388, 4.0, 0.03719],\n",
       " [-5.53676, -2.20674, 4.0, 0.03708],\n",
       " [-5.68173, -2.17824, 3.839, 0.03849],\n",
       " [-5.8257, -2.14827, 3.7081, 0.03966],\n",
       " [-5.96844, -2.11664, 3.57397, 0.04091],\n",
       " [-6.10972, -2.0832, 3.57397, 0.04062],\n",
       " [-6.24925, -2.04774, 3.46823, 0.04151],\n",
       " [-6.3867, -2.01006, 3.46823, 0.04109],\n",
       " [-6.52173, -1.96994, 3.0148, 0.04672],\n",
       " [-6.65392, -1.92715, 2.91095, 0.04773],\n",
       " [-6.78287, -1.88147, 1.85615, 0.0737],\n",
       " [-6.90812, -1.83268, 1.85149, 0.0726],\n",
       " [-7.02923, -1.78057, 1.39491, 0.09452],\n",
       " [-7.14577, -1.72499, 1.39491, 0.09256],\n",
       " [-7.25736, -1.66581, 1.39218, 0.09073],\n",
       " [-7.36369, -1.60295, 1.39218, 0.08873],\n",
       " [-7.46466, -1.53647, 1.39218, 0.08683],\n",
       " [-7.5601, -1.46638, 1.39218, 0.08506],\n",
       " [-7.65067, -1.3931, 1.39218, 0.08369],\n",
       " [-7.73586, -1.31645, 1.39218, 0.08231],\n",
       " [-7.81885, -1.23801, 1.39218, 0.08203],\n",
       " [-7.89492, -1.15564, 1.39218, 0.08054],\n",
       " [-7.97962, -1.07646, 1.39218, 0.08329],\n",
       " [-8.04573, -0.98756, 1.39218, 0.07957],\n",
       " [-8.09331, -0.89321, 1.39218, 0.0759],\n",
       " [-8.11103, -0.7939, 1.39218, 0.07246],\n",
       " [-8.10334, -0.69515, 1.39218, 0.07115],\n",
       " [-8.06752, -0.60022, 1.50161, 0.06757],\n",
       " [-8.00712, -0.51405, 1.93231, 0.05446],\n",
       " [-7.93818, -0.43199, 1.93231, 0.05546],\n",
       " [-7.85387, -0.35919, 2.09172, 0.05326],\n",
       " [-7.75806, -0.29539, 2.09172, 0.05503],\n",
       " [-7.65062, -0.24159, 2.09172, 0.05744],\n",
       " [-7.53058, -0.20306, 1.82207, 0.0692],\n",
       " [-7.41474, -0.15748, 2.07888, 0.05988],\n",
       " [-7.29562, -0.11464, 2.32314, 0.05449],\n",
       " [-7.17535, -0.0713, 2.55988, 0.04994],\n",
       " [-7.05288, -0.02884, 2.79328, 0.04641],\n",
       " [-6.92869, 0.01357, 3.02668, 0.04336],\n",
       " [-6.80288, 0.05609, 3.25095, 0.04085],\n",
       " [-6.67589, 0.09935, 3.43934, 0.03901],\n",
       " [-6.54815, 0.14392, 3.62772, 0.03729],\n",
       " [-6.42019, 0.19048, 3.80282, 0.03581],\n",
       " [-6.29254, 0.2397, 3.97792, 0.03439],\n",
       " [-6.16573, 0.2922, 4.0, 0.03431],\n",
       " [-6.04026, 0.34854, 4.0, 0.03439],\n",
       " [-5.91659, 0.40921, 4.0, 0.03444],\n",
       " [-5.79511, 0.47457, 4.0, 0.03449],\n",
       " [-5.67616, 0.54488, 4.0, 0.03454],\n",
       " [-5.56004, 0.62029, 4.0, 0.03462],\n",
       " [-5.44695, 0.70085, 4.0, 0.03471],\n",
       " [-5.33707, 0.78649, 4.0, 0.03483],\n",
       " [-5.23047, 0.87708, 4.0, 0.03497],\n",
       " [-5.12721, 0.97239, 4.0, 0.03513],\n",
       " [-5.02727, 1.07212, 4.0, 0.0353],\n",
       " [-4.93058, 1.17593, 4.0, 0.03547],\n",
       " [-4.83701, 1.28341, 4.0, 0.03563],\n",
       " [-4.74637, 1.39412, 4.0, 0.03577],\n",
       " [-4.65843, 1.50757, 4.0, 0.03589],\n",
       " [-4.5729, 1.62324, 3.80252, 0.03783],\n",
       " [-4.48943, 1.74057, 3.19378, 0.04508],\n",
       " [-4.40765, 1.85896, 1.91703, 0.07506],\n",
       " [-4.32712, 1.9778, 1.89262, 0.07585],\n",
       " [-4.24741, 2.09646, 1.89262, 0.07553],\n",
       " [-4.16804, 2.21428, 1.89262, 0.07506],\n",
       " [-4.0886, 2.33067, 1.89262, 0.07446],\n",
       " [-4.00864, 2.44501, 1.89262, 0.07372],\n",
       " [-3.9279, 2.55691, 1.89262, 0.07291],\n",
       " [-3.84601, 2.66585, 1.89262, 0.07201],\n",
       " [-3.76323, 2.77212, 1.89262, 0.07117],\n",
       " [-3.67883, 2.87468, 1.89262, 0.07018],\n",
       " [-3.59491, 2.97644, 1.89262, 0.06969],\n",
       " [-3.50774, 3.07213, 1.89262, 0.0684],\n",
       " [-3.42654, 3.17475, 1.89262, 0.06914],\n",
       " [-3.33189, 3.25635, 1.89262, 0.06603],\n",
       " [-3.22702, 3.31693, 2.00576, 0.06038],\n",
       " [-3.11507, 3.35914, 2.0452, 0.0585],\n",
       " [-2.99898, 3.386, 2.0452, 0.05826],\n",
       " [-2.87989, 3.39814, 2.0452, 0.05853],\n",
       " [-2.75961, 3.3915, 1.96614, 0.06127],\n",
       " [-2.64017, 3.38079, 1.99209, 0.0602],\n",
       " [-2.52202, 3.35377, 2.03874, 0.05945],\n",
       " [-2.40601, 3.32135, 2.0854, 0.05776],\n",
       " [-2.29355, 3.27616, 2.13843, 0.05668],\n",
       " [-2.18156, 3.23131, 2.19146, 0.05505],\n",
       " [-2.07365, 3.17515, 2.24449, 0.0542],\n",
       " [-1.96956, 3.11024, 2.29751, 0.05339],\n",
       " [-1.87181, 3.03393, 2.41582, 0.05133],\n",
       " [-1.77782, 2.95137, 2.53522, 0.04934],\n",
       " [-1.68503, 2.86549, 2.65461, 0.04763],\n",
       " [-1.59609, 2.77315, 2.79169, 0.04593],\n",
       " [-1.51031, 2.67574, 2.86342, 0.04533],\n",
       " [-1.42779, 2.5736, 1.91552, 0.06855],\n",
       " [-1.34817, 2.46757, 1.91552, 0.06922],\n",
       " [-1.27096, 2.35861, 1.91552, 0.06972],\n",
       " [-1.19559, 2.24767, 1.91552, 0.07002],\n",
       " [-1.12145, 2.1357, 1.91552, 0.07011],\n",
       " [-1.04791, 2.02365, 1.91552, 0.06997],\n",
       " [-0.97446, 1.91226, 1.91552, 0.06965],\n",
       " [-0.90046, 1.80245, 1.91552, 0.06913],\n",
       " [-0.82603, 1.6942, 1.91552, 0.06858],\n",
       " [-0.74997, 1.58902, 1.91552, 0.06777],\n",
       " [-0.6745, 1.48446, 1.91552, 0.06732],\n",
       " [-0.59515, 1.3856, 1.74729, 0.07255],\n",
       " [-0.52267, 1.28021, 1.74729, 0.07321],\n",
       " [-0.43502, 1.19328, 1.74729, 0.07065],\n",
       " [-0.34075, 1.11797, 1.74729, 0.06905],\n",
       " [-0.23846, 1.05678, 1.74729, 0.06822],\n",
       " [-0.13031, 1.0097, 1.74729, 0.06751],\n",
       " [-0.01623, 0.98134, 1.74729, 0.06728],\n",
       " [0.09802, 0.95627, 1.74729, 0.06694],\n",
       " [0.21485, 0.9484, 1.74729, 0.06701],\n",
       " [0.33213, 0.94481, 1.74729, 0.06715],\n",
       " [0.44902, 0.95841, 1.74729, 0.06735],\n",
       " [0.5643, 0.98828, 1.74729, 0.06816],\n",
       " [0.67773, 1.02738, 1.74729, 0.06866],\n",
       " [0.78372, 1.09244, 1.81564, 0.06849],\n",
       " [0.88444, 1.16973, 1.92661, 0.0659],\n",
       " [0.98099, 1.25584, 2.19767, 0.05886],\n",
       " [1.07913, 1.34113, 2.46873, 0.05267],\n",
       " [1.17673, 1.42904, 2.73979, 0.04794],\n",
       " [1.27329, 1.52086, 3.01085, 0.04426],\n",
       " [1.36891, 1.61616, 3.28191, 0.04113],\n",
       " [1.46345, 1.71522, 3.55297, 0.03854],\n",
       " [1.55717, 1.81746, 3.82403, 0.03627],\n",
       " [1.65028, 1.92246, 4.0, 0.03508],\n",
       " [1.74315, 2.02952, 4.0, 0.03543],\n",
       " [1.83615, 2.13798, 4.0, 0.03572],\n",
       " [1.9297, 2.24715, 4.0, 0.03594],\n",
       " [2.02419, 2.35636, 4.0, 0.0361],\n",
       " [2.12, 2.46501, 4.0, 0.03621],\n",
       " [2.21747, 2.57252, 4.0, 0.03628],\n",
       " [2.3169, 2.67839, 4.0, 0.03631],\n",
       " [2.41853, 2.78219, 4.0, 0.03632],\n",
       " [2.52257, 2.88351, 4.0, 0.03631],\n",
       " [2.62915, 2.98202, 4.0, 0.03628],\n",
       " [2.73836, 3.07744, 4.0, 0.03626],\n",
       " [2.85025, 3.16951, 4.0, 0.03622],\n",
       " [2.96479, 3.25802, 4.0, 0.03619],\n",
       " [3.08195, 3.34276, 3.90122, 0.03706],\n",
       " [3.20162, 3.42356, 3.90122, 0.03701],\n",
       " [3.32369, 3.50023, 3.73607, 0.03858],\n",
       " [3.44799, 3.57261, 3.73607, 0.0385],\n",
       " [3.57434, 3.64051, 3.21334, 0.04464],\n",
       " [3.70254, 3.70372, 3.21334, 0.04448],\n",
       " [3.83234, 3.76202, 1.97091, 0.0722],\n",
       " [3.96351, 3.81516, 1.96221, 0.07213],\n",
       " [4.09578, 3.86289, 1.96221, 0.07166],\n",
       " [4.22889, 3.90493, 1.96221, 0.07114],\n",
       " [4.36255, 3.941, 1.96221, 0.07056],\n",
       " [4.4965, 3.97082, 1.96221, 0.06993],\n",
       " [4.63048, 3.99425, 1.96221, 0.06932],\n",
       " [4.76423, 4.01101, 1.96221, 0.0687],\n",
       " [4.8977, 4.02173, 1.96221, 0.06824],\n",
       " [5.0305, 4.02545, 1.96221, 0.06771],\n",
       " [5.16339, 4.02616, 1.96221, 0.06772],\n",
       " [5.29493, 4.01766, 1.96221, 0.06718],\n",
       " [5.42868, 4.01717, 1.96221, 0.06816],\n",
       " [5.55792, 3.99229, 1.96221, 0.06707],\n",
       " [5.67932, 3.94436, 2.05642, 0.06347],\n",
       " [5.80454, 3.90542, 2.19747, 0.05968],\n",
       " [5.92782, 3.85972, 2.45062, 0.05365],\n",
       " [6.05156, 3.81406, 2.70377, 0.04878],\n",
       " [6.17457, 3.76535, 2.95692, 0.04475],\n",
       " [6.29736, 3.7152, 3.21007, 0.04132],\n",
       " [6.41981, 3.66359, 3.46322, 0.03837],\n",
       " [6.54207, 3.61128, 3.71637, 0.03578],\n",
       " [6.66419, 3.55876, 3.94965, 0.03366],\n",
       " [6.78617, 3.50651, 1.83997, 0.07212],\n",
       " [6.90796, 3.45488, 1.47329, 0.08979],\n",
       " [7.02947, 3.40409, 1.47329, 0.08939],\n",
       " [7.15049, 3.35422, 1.47329, 0.08884],\n",
       " [7.27084, 3.30529, 1.47329, 0.08818],\n",
       " [7.39024, 3.25718, 1.47329, 0.08738],\n",
       " [7.50856, 3.20984, 1.47329, 0.0865],\n",
       " [7.62546, 3.16301, 1.47329, 0.08548],\n",
       " [7.74107, 3.11684, 1.47329, 0.0845],\n",
       " [7.8548, 3.07067, 1.3, 0.09442],\n",
       " [7.96798, 3.02586, 1.3, 0.09364],\n",
       " [8.0804, 2.98257, 1.3, 0.09266],\n",
       " [8.19, 2.9367, 1.3, 0.09139],\n",
       " [8.28509, 2.87383, 1.3, 0.08769],\n",
       " [8.35515, 2.79186, 1.3, 0.08295],\n",
       " [8.41825, 2.7059, 1.3, 0.08202],\n",
       " [8.45984, 2.60972, 1.3, 0.0806],\n",
       " [8.50148, 2.51466, 1.3, 0.07983],\n",
       " [8.52574, 2.41447, 1.3, 0.07929],\n",
       " [8.53196, 2.31385, 1.3, 0.07755],\n",
       " [8.5264, 2.21432, 1.3, 0.07668],\n",
       " [8.50156, 2.11788, 1.3, 0.0766],\n",
       " [8.44602, 2.03276, 1.4188, 0.07164],\n",
       " [8.36384, 1.96246, 1.52744, 0.0708],\n",
       " [8.25595, 1.91153, 1.4027, 0.08506],\n",
       " [8.13488, 1.874, 1.55654, 0.08143],\n",
       " [8.02016, 1.82959, 1.76844, 0.06956],\n",
       " [7.90061, 1.78952, 2.07677, 0.06071],\n",
       " [7.78088, 1.74905, 2.37289, 0.05326],\n",
       " [7.65834, 1.71084, 2.669, 0.04809],\n",
       " [7.53398, 1.67388, 2.89489, 0.04482],\n",
       " [7.40747, 1.6385, 3.12077, 0.04209],\n",
       " [7.27931, 1.60423, 2.73921, 0.04843],\n",
       " [7.14987, 1.57069, 1.75502, 0.07619],\n",
       " [7.01974, 1.53729, 1.75502, 0.07655],\n",
       " [6.88954, 1.50343, 1.75502, 0.07665],\n",
       " [6.75993, 1.46848, 1.65706, 0.08101],\n",
       " [6.63152, 1.43185, 1.65706, 0.08058],\n",
       " [6.50485, 1.3931, 1.65706, 0.07994],\n",
       " [6.38042, 1.35178, 1.65706, 0.07912],\n",
       " [6.25819, 1.3081, 1.65706, 0.07833],\n",
       " [6.13886, 1.2614, 1.65706, 0.07733],\n",
       " [6.02083, 1.21365, 1.65706, 0.07684],\n",
       " [5.90683, 1.16174, 1.65706, 0.07559],\n",
       " [5.78955, 1.11417, 1.65706, 0.07638],\n",
       " [5.67986, 1.0576, 1.58649, 0.07779],\n",
       " [5.59023, 0.98383, 1.58649, 0.07317],\n",
       " [5.51878, 0.89741, 1.35434, 0.08279],\n",
       " [5.46565, 0.80141, 1.35434, 0.08102],\n",
       " [5.4348, 0.69749, 1.35434, 0.08004],\n",
       " [5.41324, 0.59172, 1.35434, 0.0797],\n",
       " [5.40682, 0.48403, 1.35434, 0.07966],\n",
       " [5.41106, 0.37626, 1.35434, 0.07964],\n",
       " [5.4254, 0.26911, 1.35434, 0.07982],\n",
       " [5.45106, 0.165, 1.35434, 0.07917],\n",
       " [5.48541, 0.0635, 1.35434, 0.07912],\n",
       " [5.53604, -0.02979, 1.35434, 0.07837],\n",
       " [5.59734, -0.1154, 1.35434, 0.07775],\n",
       " [5.67714, -0.18536, 1.35434, 0.07836],\n",
       " [5.77145, -0.23926, 1.35434, 0.0802],\n",
       " [5.88818, -0.26047, 1.41668, 0.08375],\n",
       " [6.01287, -0.26415, 1.56052, 0.07994],\n",
       " [6.13456, -0.27642, 1.76535, 0.06928],\n",
       " [6.25933, -0.28318, 1.94714, 0.06417],\n",
       " [6.38438, -0.29101, 2.02014, 0.06203],\n",
       " [6.51104, -0.29657, 1.95376, 0.06489],\n",
       " [6.63848, -0.30166, 1.72643, 0.07387],\n",
       " [6.76678, -0.30579, 1.72643, 0.07435],\n",
       " [6.89547, -0.30981, 1.72643, 0.07458],\n",
       " [7.02426, -0.31404, 1.72643, 0.07464],\n",
       " [7.15277, -0.31907, 1.72643, 0.07449],\n",
       " [7.28063, -0.32544, 1.72643, 0.07416],\n",
       " [7.40769, -0.33319, 1.72643, 0.07373],\n",
       " [7.53351, -0.34314, 1.72643, 0.07311],\n",
       " [7.65862, -0.35369, 1.72643, 0.07273],\n",
       " [7.78198, -0.36763, 1.33261, 0.09315],\n",
       " [7.90762, -0.37492, 1.33261, 0.09444],\n",
       " [8.02625, -0.39813, 1.33261, 0.09071],\n",
       " [8.13433, -0.43911, 1.33261, 0.08674],\n",
       " [8.22815, -0.4993, 1.33261, 0.08364],\n",
       " [8.31022, -0.57139, 1.33261, 0.08198],\n",
       " [8.38129, -0.65375, 1.33261, 0.08164],\n",
       " [8.43732, -0.74606, 1.33261, 0.08103],\n",
       " [8.483, -0.84308, 1.33261, 0.08047],\n",
       " [8.51949, -0.94404, 1.33261, 0.08055],\n",
       " [8.54183, -1.04776, 1.33261, 0.07961],\n",
       " [8.55035, -1.15327, 1.33261, 0.07943],\n",
       " [8.53908, -1.25909, 1.33261, 0.07986],\n",
       " [8.49187, -1.35914, 1.84722, 0.05989],\n",
       " [8.42505, -1.45249, 2.01339, 0.05702],\n",
       " [8.34016, -1.53833, 1.52574, 0.07912],\n",
       " [8.24288, -1.61695, 1.69943, 0.0736],\n",
       " [8.1482, -1.69691, 1.87311, 0.06616],\n",
       " [8.04698, -1.77272, 2.09802, 0.06028],\n",
       " [7.94418, -1.84705, 2.32293, 0.05461],\n",
       " [7.83672, -1.91793, 2.55459, 0.0504],\n",
       " [7.72515, -1.98553, 2.78625, 0.04682],\n",
       " [7.60898, -2.04935, 3.02831, 0.04377],\n",
       " [7.48845, -2.10934, 3.27959, 0.04105],\n",
       " [7.36374, -2.16543, 3.54661, 0.03855],\n",
       " [7.23522, -2.21768, 3.78894, 0.03662],\n",
       " [7.10329, -2.26621, 4.0, 0.03514],\n",
       " [6.96837, -2.31118, 4.0, 0.03556],\n",
       " [6.83086, -2.3528, 4.0, 0.03592],\n",
       " [6.69116, -2.39127, 4.0, 0.03622],\n",
       " [6.54962, -2.42681, 4.0, 0.03648],\n",
       " [6.40655, -2.45965, 4.0, 0.0367],\n",
       " [6.26221, -2.48999, 4.0, 0.03687],\n",
       " [6.11683, -2.51803, 4.0, 0.03701],\n",
       " [5.97061, -2.54397, 4.0, 0.03713],\n",
       " [5.82369, -2.56796, 4.0, 0.03722],\n",
       " [5.67621, -2.59017, 4.0, 0.03729],\n",
       " [5.52827, -2.61074, 4.0, 0.03734],\n",
       " [5.37997, -2.62979, 4.0, 0.03738],\n",
       " [5.23136, -2.64743, 4.0, 0.03741],\n",
       " [5.08251, -2.66377, 4.0, 0.03744],\n",
       " [4.93348, -2.67889, 4.0, 0.03745],\n",
       " [4.78429, -2.69287, 4.0, 0.03746],\n",
       " [4.63499, -2.70579, 4.0, 0.03746],\n",
       " [4.48563, -2.7177, 4.0, 0.03746],\n",
       " [4.33622, -2.72866, 4.0, 0.03745],\n",
       " [4.18682, -2.73872, 4.0, 0.03743],\n",
       " [4.03747, -2.74792, 4.0, 0.03741],\n",
       " [3.88819, -2.75631, 4.0, 0.03738],\n",
       " [3.73905, -2.76392, 4.0, 0.03733],\n",
       " [3.59009, -2.77079, 4.0, 0.03728],\n",
       " [3.44137, -2.77694, 4.0, 0.03721],\n",
       " [3.29294, -2.78241, 4.0, 0.03713],\n",
       " [3.14485, -2.78722, 4.0, 0.03704],\n",
       " [2.99717, -2.79139, 4.0, 0.03693],\n",
       " [2.84995, -2.79495, 4.0, 0.03682],\n",
       " [2.70322, -2.79791, 4.0, 0.03669],\n",
       " [2.55702, -2.8003, 4.0, 0.03656],\n",
       " [2.41136, -2.80213, 4.0, 0.03642],\n",
       " [2.26626, -2.80343, 4.0, 0.03628],\n",
       " [2.12169, -2.8042, 4.0, 0.03614],\n",
       " [1.97762, -2.80447, 4.0, 0.03602],\n",
       " [1.834, -2.80424, 4.0, 0.03591],\n",
       " [1.69074, -2.80353, 4.0, 0.03582],\n",
       " [1.54775, -2.80234, 4.0, 0.03575]]"
      ]
     },
     "execution_count": 245,
     "metadata": {},
     "output_type": "execute_result"
    }
   ],
   "source": [
    "racing_track_everything"
   ]
  },
  {
   "cell_type": "code",
   "execution_count": 246,
   "metadata": {},
   "outputs": [],
   "source": [
    "# Write to txt file\n",
    "with open(f'optimals_newest_{TRACK_NAME}.txt', 'w') as f:\n",
    "    f.write(\"[\")\n",
    "    for line in racing_track_everything:\n",
    "        f.write(\"%s\" % line)\n",
    "        if line != racing_track_everything[-1]:\n",
    "            f.write(\",\\n\")\n",
    "    f.write(\"]\")"
   ]
  },
  {
   "cell_type": "markdown",
   "metadata": {},
   "source": [
    "# Part 2: Calculate Optimal Action Space"
   ]
  },
  {
   "cell_type": "code",
   "execution_count": 247,
   "metadata": {},
   "outputs": [],
   "source": [
    "# Calculate the radius for every point of the racing_track\n",
    "radius = []\n",
    "for i in range(len(racing_track)):\n",
    "    indexes = circle_indexes(racing_track, i, add_index_1=-1, add_index_2=1) # CHANGE BACK? 1;2\n",
    "    coords = [racing_track[indexes[0]],\n",
    "              racing_track[indexes[1]], racing_track[indexes[2]]]\n",
    "    radius.append(circle_radius(coords))\n",
    "\n",
    "# Calculate curve direction\n",
    "left_curve = []\n",
    "for i in range(len(racing_track)):\n",
    "    indexes = circle_indexes(racing_track, i, add_index_1=-1, add_index_2=1)\n",
    "    coords = [racing_track[indexes[1]],\n",
    "              racing_track[indexes[0]], racing_track[indexes[2]]]\n",
    "    left_curve.append(is_left_curve(coords))\n",
    "\n",
    "# Calculate radius with + and - for direction (+ is left, - is right)\n",
    "radius_direction = []\n",
    "for i in range(len(racing_track)):\n",
    "    radius_with_direction = radius[i]\n",
    "    if left_curve[i] == False:\n",
    "        radius_with_direction *= -1\n",
    "    radius_direction.append(radius_with_direction)\n",
    "\n",
    "# Calculate steering with + and -\n",
    "dist_wheels_front_back = 0.165 # meters\n",
    "steering = []\n",
    "for i in range(len(racing_track)):\n",
    "    steer = math.degrees(math.asin(dist_wheels_front_back/radius_direction[i]))\n",
    "    steering.append(steer)\n",
    "    \n",
    "# Merge relevant lists into dataframe\n",
    "all_actions = pd.DataFrame({\"velocity\":velocity,\n",
    "                            \"steering\":steering})"
   ]
  },
  {
   "cell_type": "code",
   "execution_count": 248,
   "metadata": {},
   "outputs": [
    {
     "data": {
      "text/plain": [
       "0.3099531003215124"
      ]
     },
     "execution_count": 248,
     "metadata": {},
     "output_type": "execute_result"
    }
   ],
   "source": [
    "min(radius)"
   ]
  },
  {
   "cell_type": "code",
   "execution_count": 249,
   "metadata": {},
   "outputs": [
    {
     "data": {
      "text/html": [
       "<div>\n",
       "<style scoped>\n",
       "    .dataframe tbody tr th:only-of-type {\n",
       "        vertical-align: middle;\n",
       "    }\n",
       "\n",
       "    .dataframe tbody tr th {\n",
       "        vertical-align: top;\n",
       "    }\n",
       "\n",
       "    .dataframe thead th {\n",
       "        text-align: right;\n",
       "    }\n",
       "</style>\n",
       "<table border=\"1\" class=\"dataframe\">\n",
       "  <thead>\n",
       "    <tr style=\"text-align: right;\">\n",
       "      <th></th>\n",
       "      <th>velocity</th>\n",
       "      <th>steering</th>\n",
       "    </tr>\n",
       "  </thead>\n",
       "  <tbody>\n",
       "    <tr>\n",
       "      <th>0</th>\n",
       "      <td>4.0</td>\n",
       "      <td>-0.209146</td>\n",
       "    </tr>\n",
       "    <tr>\n",
       "      <th>1</th>\n",
       "      <td>4.0</td>\n",
       "      <td>-0.203856</td>\n",
       "    </tr>\n",
       "    <tr>\n",
       "      <th>2</th>\n",
       "      <td>4.0</td>\n",
       "      <td>-0.199778</td>\n",
       "    </tr>\n",
       "    <tr>\n",
       "      <th>3</th>\n",
       "      <td>4.0</td>\n",
       "      <td>-0.195698</td>\n",
       "    </tr>\n",
       "    <tr>\n",
       "      <th>4</th>\n",
       "      <td>4.0</td>\n",
       "      <td>-0.191709</td>\n",
       "    </tr>\n",
       "    <tr>\n",
       "      <th>...</th>\n",
       "      <td>...</td>\n",
       "      <td>...</td>\n",
       "    </tr>\n",
       "    <tr>\n",
       "      <th>348</th>\n",
       "      <td>4.0</td>\n",
       "      <td>-0.229832</td>\n",
       "    </tr>\n",
       "    <tr>\n",
       "      <th>349</th>\n",
       "      <td>4.0</td>\n",
       "      <td>-0.226144</td>\n",
       "    </tr>\n",
       "    <tr>\n",
       "      <th>350</th>\n",
       "      <td>4.0</td>\n",
       "      <td>-0.222588</td>\n",
       "    </tr>\n",
       "    <tr>\n",
       "      <th>351</th>\n",
       "      <td>4.0</td>\n",
       "      <td>-0.219053</td>\n",
       "    </tr>\n",
       "    <tr>\n",
       "      <th>352</th>\n",
       "      <td>4.0</td>\n",
       "      <td>-0.214211</td>\n",
       "    </tr>\n",
       "  </tbody>\n",
       "</table>\n",
       "<p>353 rows × 2 columns</p>\n",
       "</div>"
      ],
      "text/plain": [
       "     velocity  steering\n",
       "0         4.0 -0.209146\n",
       "1         4.0 -0.203856\n",
       "2         4.0 -0.199778\n",
       "3         4.0 -0.195698\n",
       "4         4.0 -0.191709\n",
       "..        ...       ...\n",
       "348       4.0 -0.229832\n",
       "349       4.0 -0.226144\n",
       "350       4.0 -0.222588\n",
       "351       4.0 -0.219053\n",
       "352       4.0 -0.214211\n",
       "\n",
       "[353 rows x 2 columns]"
      ]
     },
     "execution_count": 249,
     "metadata": {},
     "output_type": "execute_result"
    }
   ],
   "source": [
    "all_actions"
   ]
  },
  {
   "cell_type": "code",
   "execution_count": 250,
   "metadata": {},
   "outputs": [
    {
     "data": {
      "text/plain": [
       "Text(0.5, 1.0, 'With lookahead: 12')"
      ]
     },
     "execution_count": 250,
     "metadata": {},
     "output_type": "execute_result"
    },
    {
     "data": {
      "image/png": "[encoded data removed]",
      "text/plain": [
       "<Figure size 432x288 with 1 Axes>"
      ]
     },
     "metadata": {
      "needs_background": "light"
     },
     "output_type": "display_data"
    }
   ],
   "source": [
    "# Visualize action space\n",
    "ax = sns.scatterplot(data=all_actions, x=\"steering\", y=\"velocity\")\n",
    "ax.invert_xaxis()\n",
    "ax.set_title(f\"With lookahead: {LOOK_AHEAD_POINTS}\")"
   ]
  },
  {
   "cell_type": "code",
   "execution_count": 251,
   "metadata": {},
   "outputs": [
    {
     "data": {
      "image/png": "[encoded data removed]",
      "text/plain": [
       "<Figure size 720x360 with 2 Axes>"
      ]
     },
     "metadata": {
      "needs_background": "light"
     },
     "output_type": "display_data"
    }
   ],
   "source": [
    "# Visualize all actions\n",
    "plt.figure(figsize=(10, 5))\n",
    "sns.lineplot(data=all_actions[\"velocity\"], color=\"r\")\n",
    "ax2 = plt.twinx()\n",
    "sns.lineplot(data=all_actions[\"steering\"], color=\"g\", ax=ax2)\n",
    "plt.axhline(0, ls='--', color=\"g\")\n",
    "a = plt.title(\"Speed (red), Steering (green; positive=left)\")"
   ]
  },
  {
   "cell_type": "markdown",
   "metadata": {},
   "source": [
    "#### Calculate Action Space with K-Means and Resampling each point with normal distribution"
   ]
  },
  {
   "cell_type": "code",
   "execution_count": 252,
   "metadata": {},
   "outputs": [
    {
     "data": {
      "text/plain": [
       "<AxesSubplot:ylabel='Density'>"
      ]
     },
     "execution_count": 252,
     "metadata": {},
     "output_type": "execute_result"
    },
    {
     "data": {
      "image/png": "[encoded data removed]",
      "text/plain": [
       "<Figure size 432x288 with 1 Axes>"
      ]
     },
     "metadata": {
      "needs_background": "light"
     },
     "output_type": "display_data"
    }
   ],
   "source": [
    "# Steering: Find standard deviation so that probability of >10 degrees steering is 5%\n",
    "steering_sd = -15 / stats.norm.ppf(0.05)\n",
    "steering_sd\n",
    "sns.distplot(np.random.normal(0,steering_sd,10000))"
   ]
  },
  {
   "cell_type": "code",
   "execution_count": 253,
   "metadata": {},
   "outputs": [
    {
     "data": {
      "text/plain": [
       "<AxesSubplot:ylabel='Density'>"
      ]
     },
     "execution_count": 253,
     "metadata": {},
     "output_type": "execute_result"
    },
    {
     "data": {
      "image/png": "[encoded data removed]",
      "text/plain": [
       "<Figure size 432x288 with 1 Axes>"
      ]
     },
     "metadata": {
      "needs_background": "light"
     },
     "output_type": "display_data"
    }
   ],
   "source": [
    "# Velocity: Find standard deviation so that probability of >0.25m/s deviation is 0%\n",
    "# Note: Here, probability is set to 0%, so no noise regarding velocity\n",
    "velocity_sd = -0.25 / stats.norm.ppf(0.00)\n",
    "velocity_sd\n",
    "sns.distplot(np.random.normal(0,velocity_sd,10000))"
   ]
  },
  {
   "cell_type": "code",
   "execution_count": 254,
   "metadata": {},
   "outputs": [
    {
     "data": {
      "text/plain": [
       "(397478, 2)"
      ]
     },
     "execution_count": 254,
     "metadata": {},
     "output_type": "execute_result"
    }
   ],
   "source": [
    "all_actions_norm = all_actions.copy()\n",
    "\n",
    "all_actions_norm_len = len(all_actions_norm)\n",
    "resample_size = 1000\n",
    "\n",
    "# Add gaussian noise to action space\n",
    "for i in range(all_actions_norm_len):\n",
    "    v_true = all_actions_norm.iloc[i][\"velocity\"]\n",
    "    s_true = all_actions_norm.iloc[i][\"steering\"]\n",
    "    v_norm = np.random.normal(loc=v_true, scale=velocity_sd, size=resample_size)\n",
    "    s_norm = np.random.normal(loc=s_true, scale=steering_sd, size=resample_size)\n",
    "    vs_norm = pd.DataFrame(np.column_stack([v_norm,s_norm]), columns=[\"velocity\",\"steering\"])\n",
    "    all_actions_norm = pd.concat([all_actions_norm,vs_norm], axis=0, ignore_index=True)\n",
    "    \n",
    "# Take out actions with max speed, so that they are not affected by gaussian noise\n",
    "# We do this because there are disproportionally many points with max speed, so \n",
    "# K-Means will focus too much on these\n",
    "all_actions_norm = all_actions_norm[all_actions_norm[\"velocity\"] < MAX_SPEED]\n",
    "    \n",
    "# Add initial actions to action space (to make clustering more focused on initial actions)\n",
    "add_n_initial_actions = int(resample_size / 8)\n",
    "add_initial_actions = pd.DataFrame()\n",
    "for i in range(add_n_initial_actions):\n",
    "    add_initial_actions = pd.concat([add_initial_actions,all_actions], axis=0, ignore_index=True)\n",
    "all_actions_norm = pd.concat([all_actions_norm,add_initial_actions], axis=0, ignore_index=True)\n",
    "\n",
    "\n",
    "# Display actions shape\n",
    "all_actions_norm.shape"
   ]
  },
  {
   "cell_type": "code",
   "execution_count": 255,
   "metadata": {},
   "outputs": [
    {
     "data": {
      "image/png": "[encoded data removed]",
      "text/plain": [
       "<Figure size 432x288 with 1 Axes>"
      ]
     },
     "metadata": {
      "needs_background": "light"
     },
     "output_type": "display_data"
    }
   ],
   "source": [
    "all_actions_norm_less = all_actions_norm.sample(frac=0.01).reset_index(drop=True) # sample bc less compute time\n",
    "ax = sns.kdeplot(data=all_actions_norm_less[\"steering\"],data2=all_actions_norm_less[\"velocity\"])\n",
    "ax.invert_xaxis()"
   ]
  },
  {
   "cell_type": "code",
   "execution_count": 256,
   "metadata": {},
   "outputs": [],
   "source": [
    "X = all_actions_norm\n",
    "\n",
    "X = all_actions\n",
    "\n",
    "# Calculate action space with KMeans\n",
    "\n",
    "from sklearn.preprocessing import MinMaxScaler\n",
    "from sklearn.cluster import MiniBatchKMeans\n",
    "\n",
    "# Rescale data with minmax\n",
    "minmax_scaler = MinMaxScaler()\n",
    "X_minmax = pd.DataFrame(minmax_scaler.fit_transform(X), \n",
    "                                           columns=[\"velocity\",\"steering\"])\n",
    "\n",
    "# KMeans\n",
    "# remove 2 actions from KMeans so that low speed & high steering actions can be manually included\n",
    "n_clusters = 30-2#21-2\n",
    "model = MiniBatchKMeans(n_clusters=n_clusters).fit(X_minmax)\n",
    "\n",
    "# Centroids (interpretable)\n",
    "from sklearn.preprocessing import MinMaxScaler\n",
    "minmax_scaler = MinMaxScaler()\n",
    "X_minmax_fit = minmax_scaler.fit(X)\n",
    "X_centroids = pd.DataFrame(X_minmax_fit.inverse_transform(model.cluster_centers_), \n",
    "                                   columns=[\"velocity\",\"steering\"])\n",
    "\n",
    "# Add 2 manual actions\n",
    "# Reason: When car starts new episode, it does not start on or direction of racing line, so \n",
    "# it cannot steer enough to get on racing line\n",
    "manual_actions = pd.DataFrame({\"velocity\":[MIN_SPEED,MIN_SPEED],\"steering\":[30,-30]})\n",
    "X_centroids = pd.concat([X_centroids,manual_actions], ignore_index=True)\n",
    "\n",
    "action_space_e = X_centroids.copy()"
   ]
  },
  {
   "cell_type": "code",
   "execution_count": 257,
   "metadata": {},
   "outputs": [
    {
     "data": {
      "image/png": "[encoded data removed]",
      "text/plain": [
       "<Figure size 432x288 with 1 Axes>"
      ]
     },
     "metadata": {
      "needs_background": "light"
     },
     "output_type": "display_data"
    }
   ],
   "source": [
    "ax = sns.scatterplot(data=all_actions, x=\"steering\", y=\"velocity\", alpha=.1)\n",
    "ax = sns.scatterplot(data=action_space_e, x=\"steering\", y=\"velocity\")\n",
    "ax.invert_xaxis()"
   ]
  },
  {
   "cell_type": "markdown",
   "metadata": {},
   "source": [
    "*Note: Action space can be different every time it is computed because of randome resampling with gaussian noise and also because of the random seed with K-Means. Therefore, try out multiple iterations until you are happy with the result*"
   ]
  },
  {
   "cell_type": "markdown",
   "metadata": {},
   "source": [
    "#### Output as JSON format"
   ]
  },
  {
   "cell_type": "code",
   "execution_count": 258,
   "metadata": {},
   "outputs": [
    {
     "data": {
      "text/html": [
       "<div>\n",
       "<style scoped>\n",
       "    .dataframe tbody tr th:only-of-type {\n",
       "        vertical-align: middle;\n",
       "    }\n",
       "\n",
       "    .dataframe tbody tr th {\n",
       "        vertical-align: top;\n",
       "    }\n",
       "\n",
       "    .dataframe thead th {\n",
       "        text-align: right;\n",
       "    }\n",
       "</style>\n",
       "<table border=\"1\" class=\"dataframe\">\n",
       "  <thead>\n",
       "    <tr style=\"text-align: right;\">\n",
       "      <th></th>\n",
       "      <th>steering_angle</th>\n",
       "      <th>speed</th>\n",
       "      <th>index</th>\n",
       "    </tr>\n",
       "  </thead>\n",
       "  <tbody>\n",
       "    <tr>\n",
       "      <th>0</th>\n",
       "      <td>-0.8838</td>\n",
       "      <td>3.2153</td>\n",
       "      <td>0</td>\n",
       "    </tr>\n",
       "    <tr>\n",
       "      <th>1</th>\n",
       "      <td>-1.6635</td>\n",
       "      <td>1.9220</td>\n",
       "      <td>1</td>\n",
       "    </tr>\n",
       "    <tr>\n",
       "      <th>2</th>\n",
       "      <td>-1.4757</td>\n",
       "      <td>3.9917</td>\n",
       "      <td>2</td>\n",
       "    </tr>\n",
       "    <tr>\n",
       "      <th>3</th>\n",
       "      <td>-16.4962</td>\n",
       "      <td>1.3292</td>\n",
       "      <td>3</td>\n",
       "    </tr>\n",
       "    <tr>\n",
       "      <th>4</th>\n",
       "      <td>7.4721</td>\n",
       "      <td>1.7403</td>\n",
       "      <td>4</td>\n",
       "    </tr>\n",
       "    <tr>\n",
       "      <th>5</th>\n",
       "      <td>-3.7195</td>\n",
       "      <td>1.3792</td>\n",
       "      <td>5</td>\n",
       "    </tr>\n",
       "    <tr>\n",
       "      <th>6</th>\n",
       "      <td>-12.5620</td>\n",
       "      <td>1.9689</td>\n",
       "      <td>6</td>\n",
       "    </tr>\n",
       "    <tr>\n",
       "      <th>7</th>\n",
       "      <td>-1.4294</td>\n",
       "      <td>2.9597</td>\n",
       "      <td>7</td>\n",
       "    </tr>\n",
       "    <tr>\n",
       "      <th>8</th>\n",
       "      <td>19.2820</td>\n",
       "      <td>1.3555</td>\n",
       "      <td>8</td>\n",
       "    </tr>\n",
       "    <tr>\n",
       "      <th>9</th>\n",
       "      <td>-1.6015</td>\n",
       "      <td>2.4557</td>\n",
       "      <td>9</td>\n",
       "    </tr>\n",
       "    <tr>\n",
       "      <th>10</th>\n",
       "      <td>0.1952</td>\n",
       "      <td>3.9991</td>\n",
       "      <td>10</td>\n",
       "    </tr>\n",
       "    <tr>\n",
       "      <th>11</th>\n",
       "      <td>10.9921</td>\n",
       "      <td>1.3677</td>\n",
       "      <td>11</td>\n",
       "    </tr>\n",
       "    <tr>\n",
       "      <th>12</th>\n",
       "      <td>2.3453</td>\n",
       "      <td>1.6787</td>\n",
       "      <td>12</td>\n",
       "    </tr>\n",
       "    <tr>\n",
       "      <th>13</th>\n",
       "      <td>-0.4923</td>\n",
       "      <td>3.7717</td>\n",
       "      <td>13</td>\n",
       "    </tr>\n",
       "    <tr>\n",
       "      <th>14</th>\n",
       "      <td>-4.4121</td>\n",
       "      <td>1.6791</td>\n",
       "      <td>14</td>\n",
       "    </tr>\n",
       "    <tr>\n",
       "      <th>15</th>\n",
       "      <td>3.9182</td>\n",
       "      <td>1.9387</td>\n",
       "      <td>15</td>\n",
       "    </tr>\n",
       "    <tr>\n",
       "      <th>16</th>\n",
       "      <td>-26.6193</td>\n",
       "      <td>1.3907</td>\n",
       "      <td>16</td>\n",
       "    </tr>\n",
       "    <tr>\n",
       "      <th>17</th>\n",
       "      <td>-10.4088</td>\n",
       "      <td>1.3551</td>\n",
       "      <td>17</td>\n",
       "    </tr>\n",
       "    <tr>\n",
       "      <th>18</th>\n",
       "      <td>-8.6134</td>\n",
       "      <td>2.1554</td>\n",
       "      <td>18</td>\n",
       "    </tr>\n",
       "    <tr>\n",
       "      <th>19</th>\n",
       "      <td>-0.6004</td>\n",
       "      <td>3.5235</td>\n",
       "      <td>19</td>\n",
       "    </tr>\n",
       "    <tr>\n",
       "      <th>20</th>\n",
       "      <td>7.6729</td>\n",
       "      <td>1.3632</td>\n",
       "      <td>20</td>\n",
       "    </tr>\n",
       "    <tr>\n",
       "      <th>21</th>\n",
       "      <td>15.3972</td>\n",
       "      <td>1.6954</td>\n",
       "      <td>21</td>\n",
       "    </tr>\n",
       "    <tr>\n",
       "      <th>22</th>\n",
       "      <td>11.1834</td>\n",
       "      <td>1.7473</td>\n",
       "      <td>22</td>\n",
       "    </tr>\n",
       "    <tr>\n",
       "      <th>23</th>\n",
       "      <td>-1.7906</td>\n",
       "      <td>2.1213</td>\n",
       "      <td>23</td>\n",
       "    </tr>\n",
       "    <tr>\n",
       "      <th>24</th>\n",
       "      <td>0.1201</td>\n",
       "      <td>1.4733</td>\n",
       "      <td>24</td>\n",
       "    </tr>\n",
       "    <tr>\n",
       "      <th>25</th>\n",
       "      <td>-1.4956</td>\n",
       "      <td>2.7327</td>\n",
       "      <td>25</td>\n",
       "    </tr>\n",
       "    <tr>\n",
       "      <th>26</th>\n",
       "      <td>-0.4000</td>\n",
       "      <td>1.7379</td>\n",
       "      <td>26</td>\n",
       "    </tr>\n",
       "    <tr>\n",
       "      <th>27</th>\n",
       "      <td>1.6141</td>\n",
       "      <td>1.3094</td>\n",
       "      <td>27</td>\n",
       "    </tr>\n",
       "    <tr>\n",
       "      <th>28</th>\n",
       "      <td>30.0000</td>\n",
       "      <td>1.3000</td>\n",
       "      <td>28</td>\n",
       "    </tr>\n",
       "    <tr>\n",
       "      <th>29</th>\n",
       "      <td>-30.0000</td>\n",
       "      <td>1.3000</td>\n",
       "      <td>29</td>\n",
       "    </tr>\n",
       "  </tbody>\n",
       "</table>\n",
       "</div>"
      ],
      "text/plain": [
       "    steering_angle   speed  index\n",
       "0          -0.8838  3.2153      0\n",
       "1          -1.6635  1.9220      1\n",
       "2          -1.4757  3.9917      2\n",
       "3         -16.4962  1.3292      3\n",
       "4           7.4721  1.7403      4\n",
       "5          -3.7195  1.3792      5\n",
       "6         -12.5620  1.9689      6\n",
       "7          -1.4294  2.9597      7\n",
       "8          19.2820  1.3555      8\n",
       "9          -1.6015  2.4557      9\n",
       "10          0.1952  3.9991     10\n",
       "11         10.9921  1.3677     11\n",
       "12          2.3453  1.6787     12\n",
       "13         -0.4923  3.7717     13\n",
       "14         -4.4121  1.6791     14\n",
       "15          3.9182  1.9387     15\n",
       "16        -26.6193  1.3907     16\n",
       "17        -10.4088  1.3551     17\n",
       "18         -8.6134  2.1554     18\n",
       "19         -0.6004  3.5235     19\n",
       "20          7.6729  1.3632     20\n",
       "21         15.3972  1.6954     21\n",
       "22         11.1834  1.7473     22\n",
       "23         -1.7906  2.1213     23\n",
       "24          0.1201  1.4733     24\n",
       "25         -1.4956  2.7327     25\n",
       "26         -0.4000  1.7379     26\n",
       "27          1.6141  1.3094     27\n",
       "28         30.0000  1.3000     28\n",
       "29        -30.0000  1.3000     29"
      ]
     },
     "execution_count": 258,
     "metadata": {},
     "output_type": "execute_result"
    }
   ],
   "source": [
    "# Output JSON format\n",
    "action_space_for_json = action_space_e[[\"steering\",\"velocity\"]].copy()\n",
    "    \n",
    "action_space_for_json = action_space_for_json.round(4)\n",
    "action_space_for_json.columns = [\"steering_angle\",\"speed\"]\n",
    "action_space_for_json[\"index\"] = action_space_for_json.index\n",
    "json_text = action_space_for_json.to_json(orient=\"records\", lines=False)\n",
    "\n",
    "action_space_for_json"
   ]
  },
  {
   "cell_type": "code",
   "execution_count": 259,
   "metadata": {},
   "outputs": [],
   "source": [
    "with open(f'AS21_newest_{TRACK_NAME}.txt', 'w') as f:\n",
    "    f.write(json_text)"
   ]
  },
  {
   "cell_type": "code",
   "execution_count": 260,
   "metadata": {},
   "outputs": [
    {
     "data": {
      "text/html": [
       "<div>\n",
       "<style scoped>\n",
       "    .dataframe tbody tr th:only-of-type {\n",
       "        vertical-align: middle;\n",
       "    }\n",
       "\n",
       "    .dataframe tbody tr th {\n",
       "        vertical-align: top;\n",
       "    }\n",
       "\n",
       "    .dataframe thead th {\n",
       "        text-align: right;\n",
       "    }\n",
       "</style>\n",
       "<table border=\"1\" class=\"dataframe\">\n",
       "  <thead>\n",
       "    <tr style=\"text-align: right;\">\n",
       "      <th></th>\n",
       "      <th>steering_angle</th>\n",
       "      <th>speed</th>\n",
       "      <th>index</th>\n",
       "    </tr>\n",
       "  </thead>\n",
       "  <tbody>\n",
       "    <tr>\n",
       "      <th>29</th>\n",
       "      <td>-30.0000</td>\n",
       "      <td>1.3000</td>\n",
       "      <td>29</td>\n",
       "    </tr>\n",
       "    <tr>\n",
       "      <th>16</th>\n",
       "      <td>-26.6193</td>\n",
       "      <td>1.3907</td>\n",
       "      <td>16</td>\n",
       "    </tr>\n",
       "    <tr>\n",
       "      <th>3</th>\n",
       "      <td>-16.4962</td>\n",
       "      <td>1.3292</td>\n",
       "      <td>3</td>\n",
       "    </tr>\n",
       "    <tr>\n",
       "      <th>6</th>\n",
       "      <td>-12.5620</td>\n",
       "      <td>1.9689</td>\n",
       "      <td>6</td>\n",
       "    </tr>\n",
       "    <tr>\n",
       "      <th>17</th>\n",
       "      <td>-10.4088</td>\n",
       "      <td>1.3551</td>\n",
       "      <td>17</td>\n",
       "    </tr>\n",
       "    <tr>\n",
       "      <th>18</th>\n",
       "      <td>-8.6134</td>\n",
       "      <td>2.1554</td>\n",
       "      <td>18</td>\n",
       "    </tr>\n",
       "    <tr>\n",
       "      <th>14</th>\n",
       "      <td>-4.4121</td>\n",
       "      <td>1.6791</td>\n",
       "      <td>14</td>\n",
       "    </tr>\n",
       "    <tr>\n",
       "      <th>5</th>\n",
       "      <td>-3.7195</td>\n",
       "      <td>1.3792</td>\n",
       "      <td>5</td>\n",
       "    </tr>\n",
       "    <tr>\n",
       "      <th>23</th>\n",
       "      <td>-1.7906</td>\n",
       "      <td>2.1213</td>\n",
       "      <td>23</td>\n",
       "    </tr>\n",
       "    <tr>\n",
       "      <th>1</th>\n",
       "      <td>-1.6635</td>\n",
       "      <td>1.9220</td>\n",
       "      <td>1</td>\n",
       "    </tr>\n",
       "    <tr>\n",
       "      <th>9</th>\n",
       "      <td>-1.6015</td>\n",
       "      <td>2.4557</td>\n",
       "      <td>9</td>\n",
       "    </tr>\n",
       "    <tr>\n",
       "      <th>25</th>\n",
       "      <td>-1.4956</td>\n",
       "      <td>2.7327</td>\n",
       "      <td>25</td>\n",
       "    </tr>\n",
       "    <tr>\n",
       "      <th>2</th>\n",
       "      <td>-1.4757</td>\n",
       "      <td>3.9917</td>\n",
       "      <td>2</td>\n",
       "    </tr>\n",
       "    <tr>\n",
       "      <th>7</th>\n",
       "      <td>-1.4294</td>\n",
       "      <td>2.9597</td>\n",
       "      <td>7</td>\n",
       "    </tr>\n",
       "    <tr>\n",
       "      <th>0</th>\n",
       "      <td>-0.8838</td>\n",
       "      <td>3.2153</td>\n",
       "      <td>0</td>\n",
       "    </tr>\n",
       "    <tr>\n",
       "      <th>19</th>\n",
       "      <td>-0.6004</td>\n",
       "      <td>3.5235</td>\n",
       "      <td>19</td>\n",
       "    </tr>\n",
       "    <tr>\n",
       "      <th>13</th>\n",
       "      <td>-0.4923</td>\n",
       "      <td>3.7717</td>\n",
       "      <td>13</td>\n",
       "    </tr>\n",
       "    <tr>\n",
       "      <th>26</th>\n",
       "      <td>-0.4000</td>\n",
       "      <td>1.7379</td>\n",
       "      <td>26</td>\n",
       "    </tr>\n",
       "    <tr>\n",
       "      <th>24</th>\n",
       "      <td>0.1201</td>\n",
       "      <td>1.4733</td>\n",
       "      <td>24</td>\n",
       "    </tr>\n",
       "    <tr>\n",
       "      <th>10</th>\n",
       "      <td>0.1952</td>\n",
       "      <td>3.9991</td>\n",
       "      <td>10</td>\n",
       "    </tr>\n",
       "    <tr>\n",
       "      <th>27</th>\n",
       "      <td>1.6141</td>\n",
       "      <td>1.3094</td>\n",
       "      <td>27</td>\n",
       "    </tr>\n",
       "    <tr>\n",
       "      <th>12</th>\n",
       "      <td>2.3453</td>\n",
       "      <td>1.6787</td>\n",
       "      <td>12</td>\n",
       "    </tr>\n",
       "    <tr>\n",
       "      <th>15</th>\n",
       "      <td>3.9182</td>\n",
       "      <td>1.9387</td>\n",
       "      <td>15</td>\n",
       "    </tr>\n",
       "    <tr>\n",
       "      <th>4</th>\n",
       "      <td>7.4721</td>\n",
       "      <td>1.7403</td>\n",
       "      <td>4</td>\n",
       "    </tr>\n",
       "    <tr>\n",
       "      <th>20</th>\n",
       "      <td>7.6729</td>\n",
       "      <td>1.3632</td>\n",
       "      <td>20</td>\n",
       "    </tr>\n",
       "    <tr>\n",
       "      <th>11</th>\n",
       "      <td>10.9921</td>\n",
       "      <td>1.3677</td>\n",
       "      <td>11</td>\n",
       "    </tr>\n",
       "    <tr>\n",
       "      <th>22</th>\n",
       "      <td>11.1834</td>\n",
       "      <td>1.7473</td>\n",
       "      <td>22</td>\n",
       "    </tr>\n",
       "    <tr>\n",
       "      <th>21</th>\n",
       "      <td>15.3972</td>\n",
       "      <td>1.6954</td>\n",
       "      <td>21</td>\n",
       "    </tr>\n",
       "    <tr>\n",
       "      <th>8</th>\n",
       "      <td>19.2820</td>\n",
       "      <td>1.3555</td>\n",
       "      <td>8</td>\n",
       "    </tr>\n",
       "    <tr>\n",
       "      <th>28</th>\n",
       "      <td>30.0000</td>\n",
       "      <td>1.3000</td>\n",
       "      <td>28</td>\n",
       "    </tr>\n",
       "  </tbody>\n",
       "</table>\n",
       "</div>"
      ],
      "text/plain": [
       "    steering_angle   speed  index\n",
       "29        -30.0000  1.3000     29\n",
       "16        -26.6193  1.3907     16\n",
       "3         -16.4962  1.3292      3\n",
       "6         -12.5620  1.9689      6\n",
       "17        -10.4088  1.3551     17\n",
       "18         -8.6134  2.1554     18\n",
       "14         -4.4121  1.6791     14\n",
       "5          -3.7195  1.3792      5\n",
       "23         -1.7906  2.1213     23\n",
       "1          -1.6635  1.9220      1\n",
       "9          -1.6015  2.4557      9\n",
       "25         -1.4956  2.7327     25\n",
       "2          -1.4757  3.9917      2\n",
       "7          -1.4294  2.9597      7\n",
       "0          -0.8838  3.2153      0\n",
       "19         -0.6004  3.5235     19\n",
       "13         -0.4923  3.7717     13\n",
       "26         -0.4000  1.7379     26\n",
       "24          0.1201  1.4733     24\n",
       "10          0.1952  3.9991     10\n",
       "27          1.6141  1.3094     27\n",
       "12          2.3453  1.6787     12\n",
       "15          3.9182  1.9387     15\n",
       "4           7.4721  1.7403      4\n",
       "20          7.6729  1.3632     20\n",
       "11         10.9921  1.3677     11\n",
       "22         11.1834  1.7473     22\n",
       "21         15.3972  1.6954     21\n",
       "8          19.2820  1.3555      8\n",
       "28         30.0000  1.3000     28"
      ]
     },
     "execution_count": 260,
     "metadata": {},
     "output_type": "execute_result"
    }
   ],
   "source": [
    "action_space_for_json.sort_values(by=['steering_angle', 'speed'])"
   ]
  },
  {
   "cell_type": "code",
   "execution_count": 261,
   "metadata": {},
   "outputs": [],
   "source": [
    "for i in range(len(action_space_for_json)):\n",
    "    row = action_space_for_json.iloc[i]"
   ]
  },
  {
   "cell_type": "code",
   "execution_count": 262,
   "metadata": {},
   "outputs": [],
   "source": [
    "spaces = action_space_for_json.sort_values(by=['steering_angle', 'speed']).to_dict('records', )"
   ]
  },
  {
   "cell_type": "code",
   "execution_count": 263,
   "metadata": {},
   "outputs": [],
   "source": [
    "for space in spaces:\n",
    "    space.pop('index')\n",
    "\n",
    "ns = []\n",
    "for space in spaces:\n",
    "    space['speed']= min( space['speed'], 4.0 )\n",
    "    ns.append(space)"
   ]
  },
  {
   "cell_type": "code",
   "execution_count": 264,
   "metadata": {},
   "outputs": [
    {
     "data": {
      "text/plain": [
       "[{'steering_angle': -30.0, 'speed': 1.3},\n",
       " {'steering_angle': -26.6193, 'speed': 1.3907},\n",
       " {'steering_angle': -16.4962, 'speed': 1.3292},\n",
       " {'steering_angle': -12.562, 'speed': 1.9689},\n",
       " {'steering_angle': -10.4088, 'speed': 1.3551},\n",
       " {'steering_angle': -8.6134, 'speed': 2.1554},\n",
       " {'steering_angle': -4.4121, 'speed': 1.6791},\n",
       " {'steering_angle': -3.7195, 'speed': 1.3792},\n",
       " {'steering_angle': -1.7906, 'speed': 2.1213},\n",
       " {'steering_angle': -1.6635, 'speed': 1.922},\n",
       " {'steering_angle': -1.6015, 'speed': 2.4557},\n",
       " {'steering_angle': -1.4956, 'speed': 2.7327},\n",
       " {'steering_angle': -1.4757, 'speed': 3.9917},\n",
       " {'steering_angle': -1.4294, 'speed': 2.9597},\n",
       " {'steering_angle': -0.8838, 'speed': 3.2153},\n",
       " {'steering_angle': -0.6004, 'speed': 3.5235},\n",
       " {'steering_angle': -0.4923, 'speed': 3.7717},\n",
       " {'steering_angle': -0.4, 'speed': 1.7379},\n",
       " {'steering_angle': 0.1201, 'speed': 1.4733},\n",
       " {'steering_angle': 0.1952, 'speed': 3.9991},\n",
       " {'steering_angle': 1.6141, 'speed': 1.3094},\n",
       " {'steering_angle': 2.3453, 'speed': 1.6787},\n",
       " {'steering_angle': 3.9182, 'speed': 1.9387},\n",
       " {'steering_angle': 7.4721, 'speed': 1.7403},\n",
       " {'steering_angle': 7.6729, 'speed': 1.3632},\n",
       " {'steering_angle': 10.9921, 'speed': 1.3677},\n",
       " {'steering_angle': 11.1834, 'speed': 1.7473},\n",
       " {'steering_angle': 15.3972, 'speed': 1.6954},\n",
       " {'steering_angle': 19.282, 'speed': 1.3555},\n",
       " {'steering_angle': 30.0, 'speed': 1.3}]"
      ]
     },
     "execution_count": 264,
     "metadata": {},
     "output_type": "execute_result"
    }
   ],
   "source": [
    "ns"
   ]
  },
  {
   "cell_type": "code",
   "execution_count": 265,
   "metadata": {},
   "outputs": [
    {
     "data": {
      "text/plain": [
       "30"
      ]
     },
     "execution_count": 265,
     "metadata": {},
     "output_type": "execute_result"
    }
   ],
   "source": [
    "len(ns)"
   ]
  },
  {
   "cell_type": "code",
   "execution_count": 47,
   "metadata": {},
   "outputs": [],
   "source": [
    "import pandas as pd\n",
    "data = pd.read_clipboard()"
   ]
  },
  {
   "cell_type": "code",
   "execution_count": 48,
   "metadata": {},
   "outputs": [
    {
     "data": {
      "text/plain": [
       "[]"
      ]
     },
     "execution_count": 48,
     "metadata": {},
     "output_type": "execute_result"
    }
   ],
   "source": [
    "data.to_dict('records')"
   ]
  },
  {
   "cell_type": "code",
   "execution_count": null,
   "metadata": {},
   "outputs": [],
   "source": []
  }
 ],
 "metadata": {
  "kernelspec": {
   "display_name": "Python 3",
   "language": "python",
   "name": "python3"
  },
  "language_info": {
   "codemirror_mode": {
    "name": "ipython",
    "version": 3
   },
   "file_extension": ".py",
   "mimetype": "text/x-python",
   "name": "python",
   "nbconvert_exporter": "python",
   "pygments_lexer": "ipython3",
   "version": "3.8.12"
  }
 },
 "nbformat": 4,
 "nbformat_minor": 4
}
