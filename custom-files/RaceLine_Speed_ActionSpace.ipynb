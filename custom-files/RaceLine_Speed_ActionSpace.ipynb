{
 "cells": [
  {
   "cell_type": "markdown",
   "metadata": {},
   "source": [
    "# INSTRUCTIONS\n",
    "\n",
    "#### Part 1: Computing the optimal speed from the optimal racing line\n",
    "- Part 1 of this notebook takes the optimal racing line, which can be generated with Race-Line-Calculation.ipynb ([GitHub](https://github.com/cdthompson/deepracer-k1999-race-lines)), and generates the optimal speed for each point on the racing line\n",
    "- Input: .py file with 2D array containing optimal racing line: 2 columns (x,y)\n",
    "- Output: .py file with 2D array: 4 columns (x,y,speed,expected time). This array can be inserted into the reward function\n",
    "- Note: The last point of the racing line is deleted because it is the same point as the first one\n",
    "\n",
    "#### Part 2: Computing the Action Space\n",
    "- Part 2 of this notebook takes the optimal racing line and speed, and uses K-Means with Gaussian Noise infused data, to calculate the action space"
   ]
  },
  {
   "cell_type": "code",
   "execution_count": 1,
   "metadata": {},
   "outputs": [],
   "source": [
    "%matplotlib inline\n",
    "\n",
    "import numpy as np\n",
    "import pandas as pd\n",
    "from scipy import stats\n",
    "import math\n",
    "\n",
    "# Ignore deprecation warnings we have no power over\n",
    "import warnings\n",
    "warnings.filterwarnings('ignore')"
   ]
  },
  {
   "cell_type": "code",
   "execution_count": 2,
   "metadata": {},
   "outputs": [],
   "source": [
    "from reward_function import Path"
   ]
  },
  {
   "cell_type": "code",
   "execution_count": 3,
   "metadata": {},
   "outputs": [
    {
     "name": "stdout",
     "output_type": "stream",
     "text": [
      "calculating smooth path\n"
     ]
    }
   ],
   "source": [
    "# Path of the optimal racing line (.npy file)\n",
    "fpath = 'C:/Users/suraj/projects/deepracer24/FS_June2020.npy'\n",
    "\n",
    "# Change manually (this is only so that output files are named correctly)\n",
    "TRACK_NAME = \"arctic_open_ccw\"\n",
    "\n",
    "waypoints = np.load(fpath)\n",
    "\n",
    "center_line = waypoints[:,0:2]\n",
    "inner_border = waypoints[:,2:4]\n",
    "outer_border = waypoints[:,4:6]\n",
    "\n",
    "center_line = Path(center_line, 2).get()\n",
    "\n",
    "# Convert np array to list and remove last point because it is the same point as the first one\n",
    "racing_track = center_line[:-1]\n",
    "# racing_track = center_line.tolist()[:-1]"
   ]
  },
  {
   "cell_type": "code",
   "execution_count": 4,
   "metadata": {},
   "outputs": [],
   "source": [
    "# racing_track"
   ]
  },
  {
   "cell_type": "markdown",
   "metadata": {},
   "source": [
    "# Helper functions for Part 1 and Part 2"
   ]
  },
  {
   "cell_type": "code",
   "execution_count": 5,
   "metadata": {},
   "outputs": [],
   "source": [
    "# Uses previous and next coords to calculate the radius of the curve\n",
    "# so you need to pass a list with form [[x1,y1],[x2,y2],[x3,y3]]\n",
    "# Input 3 coords [[x1,y1],[x2,y2],[x3,y3]]\n",
    "def circle_radius(coords):\n",
    "\n",
    "    # Flatten the list and assign to variables (makes code easier to read later)\n",
    "    x1, y1, x2, y2, x3, y3 = [i for sub in coords for i in sub]\n",
    "\n",
    "    a = x1*(y2-y3) - y1*(x2-x3) + x2*y3 - x3*y2\n",
    "    b = (x1**2+y1**2)*(y3-y2) + (x2**2+y2**2)*(y1-y3) + (x3**2+y3**2)*(y2-y1)\n",
    "    c = (x1**2+y1**2)*(x2-x3) + (x2**2+y2**2)*(x3-x1) + (x3**2+y3**2)*(x1-x2)\n",
    "    d = (x1**2+y1**2)*(x3*y2-x2*y3) + (x2**2+y2**2) * \\\n",
    "        (x1*y3-x3*y1) + (x3**2+y3**2)*(x2*y1-x1*y2)\n",
    "\n",
    "    # In case a is zero (so radius is infinity)\n",
    "    try:\n",
    "        r = abs((b**2+c**2-4*a*d) / abs(4*a**2)) ** 0.5\n",
    "    except:\n",
    "        r = 999\n",
    "\n",
    "    return r\n",
    "\n",
    "\n",
    "# Returns indexes of next index and index+lookfront\n",
    "# We need this to calculate the radius for next track section.\n",
    "def circle_indexes(mylist, index_car, add_index_1=0, add_index_2=0):\n",
    "\n",
    "    list_len = len(mylist)\n",
    "\n",
    "    # if index >= list_len:\n",
    "    #     raise ValueError(\"Index out of range in circle_indexes()\")\n",
    "\n",
    "    # Use modulo to consider that track is cyclical\n",
    "    index_1 = (index_car + add_index_1) % list_len\n",
    "    index_2 = (index_car + add_index_2) % list_len\n",
    "\n",
    "    return [index_car, index_1, index_2]\n",
    "\n",
    "\n",
    "def optimal_velocity(track, min_speed, max_speed, look_ahead_points):\n",
    "\n",
    "    # Calculate the radius for every point of the track\n",
    "    radius = []\n",
    "    for i in range(len(track)):\n",
    "        indexes = circle_indexes(track, i, add_index_1=-1, add_index_2=1)\n",
    "        coords = [track[indexes[0]],\n",
    "                  track[indexes[1]], track[indexes[2]]]\n",
    "        radius.append(circle_radius(coords))\n",
    "\n",
    "    # Get the max_velocity for the smallest radius\n",
    "    # That value should multiplied by a constant multiple\n",
    "    v_min_r = min(radius)**0.5\n",
    "    constant_multiple = min_speed / v_min_r\n",
    "    print(f\"Constant multiple for optimal speed: {constant_multiple}\")\n",
    "\n",
    "    if look_ahead_points == 0:\n",
    "        # Get the maximal velocity from radius\n",
    "        max_velocity = [(constant_multiple * i**0.5) for i in radius]\n",
    "        # Get velocity from max_velocity (cap at MAX_SPEED)\n",
    "        velocity = [min(v, max_speed) for v in max_velocity]\n",
    "        return velocity\n",
    "\n",
    "    else:\n",
    "        # Looks at the next n radii of points and takes the minimum\n",
    "        # goal: reduce lookahead until car crashes bc no time to break\n",
    "        LOOK_AHEAD_POINTS = look_ahead_points\n",
    "        radius_lookahead = []\n",
    "        for i in range(len(radius)):\n",
    "            next_n_radius = []\n",
    "            for j in range(LOOK_AHEAD_POINTS+1):\n",
    "                index = circle_indexes(\n",
    "                    mylist=radius, index_car=i, add_index_1=j)[1]\n",
    "                next_n_radius.append(radius[index])\n",
    "            radius_lookahead.append(min(next_n_radius))\n",
    "        max_velocity_lookahead = [(constant_multiple * i**0.5)\n",
    "                                  for i in radius_lookahead]\n",
    "        velocity_lookahead = [min(v, max_speed)\n",
    "                              for v in max_velocity_lookahead]\n",
    "        return velocity_lookahead\n",
    "\n",
    "\n",
    "# For each point in racing track, check if left curve (returns boolean)\n",
    "def is_left_curve(coords):\n",
    "\n",
    "    # Flatten the list and assign to variables (makes code easier to read later)\n",
    "    x1, y1, x2, y2, x3, y3 = [i for sub in coords for i in sub]\n",
    "\n",
    "    return ((x2-x1)*(y3-y1) - (y2-y1)*(x3-x1)) > 0\n",
    "\n",
    "\n",
    "# Calculate the distance between 2 points\n",
    "def dist_2_points(x1, x2, y1, y2):\n",
    "        return abs(abs(x1-x2)**2 + abs(y1-y2)**2)**0.5"
   ]
  },
  {
   "cell_type": "markdown",
   "metadata": {},
   "source": [
    "# Part 1: Calculate optimal speed\n",
    "\n",
    "- Change ```LOOK_AHEAD_POINTS``` to influence how many points the algorithm looks ahead (the higher, the sooner the car will start to break)\n",
    "- Change ```MIN_SPEED``` and ```MAX_SPEED``` to fit the track and model !"
   ]
  },
  {
   "cell_type": "code",
   "execution_count": 89,
   "metadata": {},
   "outputs": [
    {
     "name": "stdout",
     "output_type": "stream",
     "text": [
      "Constant multiple for optimal speed: 2.360453664882764\n"
     ]
    }
   ],
   "source": [
    "LOOK_AHEAD_POINTS = 10\n",
    "MIN_SPEED = 1.3\n",
    "MAX_SPEED = 4\n",
    "\n",
    "# Calculate optimal speed\n",
    "velocity = optimal_velocity(track=racing_track, \n",
    "    min_speed=MIN_SPEED, max_speed=MAX_SPEED, look_ahead_points=LOOK_AHEAD_POINTS)"
   ]
  },
  {
   "cell_type": "code",
   "execution_count": 90,
   "metadata": {},
   "outputs": [],
   "source": [
    "new_velocity = []\n",
    "rev_v = velocity[::-1]\n",
    "for i, vel in enumerate(rev_v, LOOK_AHEAD_POINTS):\n",
    "    meanN = np.mean(rev_v[i-LOOK_AHEAD_POINTS:i])\n",
    "    if vel > 2.1 and vel >= meanN:\n",
    "        new_velocity.append(meanN)\n",
    "    else:\n",
    "        new_velocity.append(vel)\n",
    "\n",
    "new_velocity = new_velocity[::-1]"
   ]
  },
  {
   "cell_type": "code",
   "execution_count": 91,
   "metadata": {},
   "outputs": [
    {
     "data": {
      "text/plain": [
       "False"
      ]
     },
     "execution_count": 91,
     "metadata": {},
     "output_type": "execute_result"
    }
   ],
   "source": [
    "velocity == new_velocity"
   ]
  },
  {
   "cell_type": "code",
   "execution_count": 92,
   "metadata": {},
   "outputs": [
    {
     "name": "stdout",
     "output_type": "stream",
     "text": [
      "(4, 4.0)\n",
      "(4, 4.0)\n",
      "(4, 4.0)\n",
      "(4, 4.0)\n",
      "(4, 4.0)\n",
      "(4, 4.0)\n",
      "(4, 4.0)\n",
      "(4, 4.0)\n",
      "(4, 4.0)\n",
      "(4, 4.0)\n",
      "(4, 4.0)\n",
      "(4, 4.0)\n",
      "(4, 4.0)\n",
      "(4, 4.0)\n",
      "(4, 4.0)\n",
      "(4, 4.0)\n",
      "(4, 4.0)\n",
      "(4, 4.0)\n",
      "(4, 4.0)\n",
      "(4, 4.0)\n",
      "(4, 4.0)\n",
      "(4, 4.0)\n",
      "(4, 4.0)\n",
      "(4, 4.0)\n",
      "(4, 4.0)\n",
      "(4, 4.0)\n",
      "(4, 4.0)\n",
      "(4, 4.0)\n",
      "(4, 4.0)\n",
      "(4, 4.0)\n",
      "(4, 4.0)\n",
      "(4, 4.0)\n",
      "(4, 4.0)\n",
      "(4, 4.0)\n",
      "(4, 4.0)\n",
      "(4, 4.0)\n",
      "(4, 4.0)\n",
      "(4, 4.0)\n",
      "(4, 4.0)\n",
      "(4, 4.0)\n",
      "(4, 4.0)\n",
      "(4, 4.0)\n",
      "(4, 4.0)\n",
      "(4, 4.0)\n",
      "(4, 4.0)\n",
      "(4, 4.0)\n",
      "(4, 4.0)\n",
      "(4, 4.0)\n",
      "(4, 4.0)\n",
      "(4, 4.0)\n",
      "(4, 4.0)\n",
      "(4, 4.0)\n",
      "(4, 4.0)\n",
      "(4, 4.0)\n",
      "(4, 4.0)\n",
      "(2.878429014913202, 2.878429014913202)\n",
      "(2.878429014913202, 2.878429014913202)\n",
      "(1.918216291723575, 1.918216291723575)\n",
      "(1.918216291723575, 1.918216291723575)\n",
      "(1.4773884481359736, 1.4773884481359736)\n",
      "(1.4773884481359736, 1.4773884481359736)\n",
      "(1.457469466907751, 1.457469466907751)\n",
      "(1.457469466907751, 1.457469466907751)\n",
      "(1.457469466907751, 1.457469466907751)\n",
      "(1.457469466907751, 1.457469466907751)\n",
      "(1.457469466907751, 1.457469466907751)\n",
      "(1.457469466907751, 1.457469466907751)\n",
      "(1.457469466907751, 1.457469466907751)\n",
      "(1.457469466907751, 1.457469466907751)\n",
      "(1.457469466907751, 1.457469466907751)\n",
      "(1.457469466907751, 1.457469466907751)\n",
      "(1.457469466907751, 1.457469466907751)\n",
      "(1.746901196799274, 1.746901196799274)\n",
      "(1.746901196799274, 1.746901196799274)\n",
      "(1.9434508301696856, 1.9434508301696856)\n",
      "(1.9434508301696856, 1.9434508301696856)\n",
      "(1.9434508301696856, 1.9434508301696856)\n",
      "(1.9434508301696856, 1.9434508301696856)\n",
      "(3.015366840643744, 1.8655380955644283)\n",
      "(4, 2.119791148873653)\n",
      "(4, 2.3740442021828785)\n",
      "(4, 2.6282972554921034)\n",
      "(4, 2.853607135812176)\n",
      "(4, 3.0789170161322486)\n",
      "(4, 3.28457193311528)\n",
      "(4, 3.490226850098312)\n",
      "(4, 3.6958817670813433)\n",
      "(4, 3.901536684064374)\n",
      "(4, 4.0)\n",
      "(4, 4.0)\n",
      "(4, 4.0)\n",
      "(4, 4.0)\n",
      "(4, 4.0)\n",
      "(4, 4.0)\n",
      "(4, 4.0)\n",
      "(4, 4.0)\n",
      "(4, 4.0)\n",
      "(4, 4.0)\n",
      "(4, 4.0)\n",
      "(4, 4.0)\n",
      "(4, 4.0)\n",
      "(4, 4.0)\n",
      "(4, 4.0)\n",
      "(4, 4.0)\n",
      "(4, 4.0)\n",
      "(4, 4.0)\n",
      "(4, 4.0)\n",
      "(4, 4.0)\n",
      "(2.225577325651723, 2.225577325651723)\n",
      "(1.6318821041227527, 1.6318821041227527)\n",
      "(1.6318821041227527, 1.6318821041227527)\n",
      "(1.6318821041227527, 1.6318821041227527)\n",
      "(1.6318821041227527, 1.6318821041227527)\n",
      "(1.6318821041227527, 1.6318821041227527)\n",
      "(1.6318821041227527, 1.6318821041227527)\n",
      "(1.6318821041227527, 1.6318821041227527)\n",
      "(1.6318821041227527, 1.6318821041227527)\n",
      "(1.6318821041227527, 1.6318821041227527)\n",
      "(1.6318821041227527, 1.6318821041227527)\n",
      "(1.6318821041227527, 1.6318821041227527)\n",
      "(2.0025030099464116, 2.0025030099464116)\n",
      "(2.0025030099464116, 2.0025030099464116)\n",
      "(2.335112646189247, 1.776329339494134)\n",
      "(2.335112646189247, 1.8466523937007835)\n",
      "(2.335112646189247, 1.9169754479074328)\n",
      "(2.335112646189247, 1.987298502114082)\n",
      "(2.335112646189247, 2.057621556320732)\n",
      "(2.335112646189247, 2.1279446105273814)\n",
      "(2.335112646189247, 2.198267664734031)\n",
      "(2.335112646189247, 2.26859071894068)\n",
      "(2.335112646189247, 2.3018516825649638)\n",
      "(2.4230986060609925, 2.3439112421764223)\n",
      "(2.4230986060609925, 2.3527098381635967)\n",
      "(2.5214558257539403, 2.371344156120066)\n",
      "(3.4061190991545645, 2.4784448014165976)\n",
      "(4, 2.644933536797673)\n",
      "(4, 2.8114222721787483)\n",
      "(4, 2.977911007559823)\n",
      "(4, 3.144399742940899)\n",
      "(1.8907941705749636, 1.8907941705749636)\n",
      "(1.8907941705749636, 1.8907941705749636)\n",
      "(1.8907941705749636, 1.8907941705749636)\n",
      "(1.8907941705749636, 1.8907941705749636)\n",
      "(1.8907941705749636, 1.8907941705749636)\n",
      "(1.8907941705749636, 1.8907941705749636)\n",
      "(1.8907941705749636, 1.8907941705749636)\n",
      "(1.8907941705749636, 1.8907941705749636)\n",
      "(1.8907941705749636, 1.8907941705749636)\n",
      "(1.8907941705749636, 1.8907941705749636)\n",
      "(1.8907941705749636, 1.8907941705749636)\n",
      "(2.2401086662877616, 1.9257256201462432)\n",
      "(1.919007507593033, 1.919007507593033)\n",
      "(1.919007507593033, 1.919007507593033)\n",
      "(1.919007507593033, 1.919007507593033)\n",
      "(1.919007507593033, 1.919007507593033)\n",
      "(1.919007507593033, 1.919007507593033)\n",
      "(1.919007507593033, 1.919007507593033)\n",
      "(1.919007507593033, 1.919007507593033)\n",
      "(1.919007507593033, 1.919007507593033)\n",
      "(1.919007507593033, 1.919007507593033)\n",
      "(1.919007507593033, 1.919007507593033)\n",
      "(1.919007507593033, 1.919007507593033)\n",
      "(2.323291072101742, 1.959435864043904)\n",
      "(3.3990180527256277, 2.1074369185571635)\n",
      "(4, 2.3155361677978603)\n",
      "(4, 2.5236354170385566)\n",
      "(4, 2.731734666279254)\n",
      "(4, 2.93983391551995)\n",
      "(4, 3.147933164760647)\n",
      "(4, 3.3560324140013433)\n",
      "(4, 3.5641316632420397)\n",
      "(4, 3.772230912482737)\n",
      "(4, 3.939901805272563)\n",
      "(4, 4.0)\n",
      "(4, 4.0)\n",
      "(4, 4.0)\n",
      "(4, 4.0)\n",
      "(4, 4.0)\n",
      "(4, 4.0)\n",
      "(4, 4.0)\n",
      "(4, 4.0)\n",
      "(4, 4.0)\n",
      "(4, 4.0)\n",
      "(4, 4.0)\n",
      "(4, 4.0)\n",
      "(4, 4.0)\n",
      "(4, 4.0)\n",
      "(4, 4.0)\n",
      "(4, 4.0)\n",
      "(3.6612363399721084, 3.6612363399721084)\n",
      "(3.5975416737962846, 3.5975416737962846)\n",
      "(2.3116977757554737, 2.3116977757554737)\n",
      "(2.0461623822185584, 2.0461623822185584)\n",
      "(2.0461623822185584, 2.0461623822185584)\n",
      "(2.0461623822185584, 2.0461623822185584)\n",
      "(2.0461623822185584, 2.0461623822185584)\n",
      "(2.0461623822185584, 2.0461623822185584)\n",
      "(2.0461623822185584, 2.0461623822185584)\n",
      "(2.0461623822185584, 2.0461623822185584)\n",
      "(2.0461623822185584, 2.0461623822185584)\n",
      "(2.0461623822185584, 2.0461623822185584)\n",
      "(2.0461623822185584, 2.0461623822185584)\n",
      "(2.0461623822185584, 2.0461623822185584)\n",
      "(2.4379744869982742, 2.0853435926965296)\n",
      "(2.438138923183874, 2.1245412467930613)\n",
      "(3.6609696096536486, 2.286021969536571)\n",
      "(4, 2.4814057313147146)\n",
      "(4, 2.676789493092859)\n",
      "(4, 2.872173254871003)\n",
      "(4, 3.0675570166491473)\n",
      "(4, 3.2629407784272915)\n",
      "(4, 3.458324540205436)\n",
      "(4, 3.653708301983579)\n",
      "(3.6815715453803994, 3.6815715453803994)\n",
      "(2.834560552087337, 2.834560552087337)\n",
      "(1.5973169447316138, 1.5973169447316138)\n",
      "(1.5973169447316138, 1.5973169447316138)\n",
      "(1.5973169447316138, 1.5973169447316138)\n",
      "(1.5973169447316138, 1.5973169447316138)\n",
      "(1.5973169447316138, 1.5973169447316138)\n",
      "(1.5973169447316138, 1.5973169447316138)\n",
      "(1.5973169447316138, 1.5973169447316138)\n",
      "(1.5973169447316138, 1.5973169447316138)\n",
      "(1.3841697150400647, 1.3841697150400647)\n",
      "(1.3841697150400647, 1.3841697150400647)\n",
      "(1.3, 1.3)\n",
      "(1.3, 1.3)\n",
      "(1.3, 1.3)\n",
      "(1.3, 1.3)\n",
      "(1.3, 1.3)\n",
      "(1.3, 1.3)\n",
      "(1.3, 1.3)\n",
      "(1.3, 1.3)\n",
      "(1.3, 1.3)\n",
      "(1.3, 1.3)\n",
      "(1.3, 1.3)\n",
      "(1.6319663161069586, 1.6319663161069586)\n",
      "(2.1069689232281736, 1.4138935239335133)\n",
      "(4, 1.6838935239335133)\n",
      "(4, 1.9538935239335136)\n",
      "(4, 2.2238935239335134)\n",
      "(4, 2.4938935239335134)\n",
      "(4, 2.7638935239335134)\n",
      "(4, 3.0338935239335134)\n",
      "(4, 3.303893523933513)\n",
      "(4, 3.5738935239335134)\n",
      "(3.6750102603260535, 3.6750102603260535)\n",
      "(2.0978275122217367, 2.0978275122217367)\n",
      "(2.0978275122217367, 2.0978275122217367)\n",
      "(1.7121757668761683, 1.7121757668761683)\n",
      "(1.7121757668761683, 1.7121757668761683)\n",
      "(1.7121757668761683, 1.7121757668761683)\n",
      "(1.7121757668761683, 1.7121757668761683)\n",
      "(1.7121757668761683, 1.7121757668761683)\n",
      "(1.7121757668761683, 1.7121757668761683)\n",
      "(1.7121757668761683, 1.7121757668761683)\n",
      "(1.7121757668761683, 1.7121757668761683)\n",
      "(1.7121757668761683, 1.7121757668761683)\n",
      "(1.7121757668761683, 1.7121757668761683)\n",
      "(1.7121757668761683, 1.7121757668761683)\n",
      "(1.724135723418956, 1.724135723418956)\n",
      "(1.5938733685419542, 1.5938733685419542)\n",
      "(1.5938733685419542, 1.5938733685419542)\n",
      "(1.5938733685419542, 1.5938733685419542)\n",
      "(1.5938733685419542, 1.5938733685419542)\n",
      "(1.5938733685419542, 1.5938733685419542)\n",
      "(1.5938733685419542, 1.5938733685419542)\n",
      "(1.5938733685419542, 1.5938733685419542)\n",
      "(1.5938733685419542, 1.5938733685419542)\n",
      "(1.5938733685419542, 1.5938733685419542)\n",
      "(1.5938733685419542, 1.5938733685419542)\n",
      "(1.5938733685419542, 1.5938733685419542)\n",
      "(1.7111775226158126, 1.7111775226158126)\n",
      "(1.7510700682709002, 1.7510700682709002)\n",
      "(3.412351984087003, 1.8031713154767395)\n",
      "(4, 2.043783978622544)\n",
      "(4, 2.2843966417683483)\n",
      "(4, 2.525009304914153)\n",
      "(4, 2.765621968059958)\n",
      "(2.260817056116175, 2.260817056116175)\n",
      "(1.9418046198743166, 1.9418046198743166)\n",
      "(1.8084749656048982, 1.8084749656048982)\n",
      "(1.8084749656048982, 1.8084749656048982)\n",
      "(1.8084749656048982, 1.8084749656048982)\n",
      "(1.8084749656048982, 1.8084749656048982)\n",
      "(1.8084749656048982, 1.8084749656048982)\n",
      "(1.8084749656048982, 1.8084749656048982)\n",
      "(1.8084749656048982, 1.8084749656048982)\n",
      "(1.8084749656048982, 1.8084749656048982)\n",
      "(1.5073373298162258, 1.5073373298162258)\n",
      "(1.5073373298162258, 1.5073373298162258)\n",
      "(1.5073373298162258, 1.5073373298162258)\n",
      "(1.5073373298162258, 1.5073373298162258)\n",
      "(1.5073373298162258, 1.5073373298162258)\n",
      "(1.5073373298162258, 1.5073373298162258)\n",
      "(1.5073373298162258, 1.5073373298162258)\n",
      "(1.5073373298162258, 1.5073373298162258)\n",
      "(1.5073373298162258, 1.5073373298162258)\n",
      "(1.5073373298162258, 1.5073373298162258)\n",
      "(1.5073373298162258, 1.5073373298162258)\n",
      "(1.534732379063766, 1.534732379063766)\n",
      "(1.534732379063766, 1.534732379063766)\n",
      "(2.377043455838047, 1.599786952267916)\n",
      "(2.377043455838047, 1.686757564870098)\n",
      "(2.6036868115331093, 1.7963925130417866)\n",
      "(4, 2.045658780060164)\n",
      "(4, 2.2949250470785416)\n",
      "(4, 2.5441913140969192)\n",
      "(4, 2.793457581115296)\n",
      "(4, 3.042723848133673)\n",
      "(4, 3.2892506102272976)\n",
      "(4, 3.5357773723209207)\n",
      "(4, 3.6980730267371156)\n",
      "(4, 3.860368681153311)\n",
      "(4, 4.0)\n",
      "(4, 4.0)\n",
      "(4, 4.0)\n",
      "(4, 4.0)\n",
      "(4, 4.0)\n",
      "(4, 4.0)\n",
      "(4, 4.0)\n",
      "(4, 4.0)\n",
      "(4, 4.0)\n",
      "(4, 4.0)\n",
      "(4, 4.0)\n",
      "(4, 4.0)\n",
      "(4, 4.0)\n",
      "(4, 4.0)\n",
      "(4, 4.0)\n",
      "(4, 4.0)\n",
      "(4, 4.0)\n",
      "(4, 4.0)\n",
      "(4, 4.0)\n",
      "(4, 4.0)\n",
      "(4, 4.0)\n",
      "(4, 4.0)\n",
      "(4, 4.0)\n",
      "(4, 4.0)\n",
      "(4, 4.0)\n",
      "(4, 4.0)\n",
      "(4, 4.0)\n",
      "(4, 4.0)\n",
      "(4, 4.0)\n",
      "(4, 4.0)\n",
      "(4, 4.0)\n",
      "(4, 4.0)\n",
      "(4, 4.0)\n",
      "(4, 4.0)\n",
      "(4, 4.0)\n",
      "(4, 4.0)\n",
      "(4, 4.0)\n",
      "(4, 4.0)\n",
      "(4, 4.0)\n"
     ]
    }
   ],
   "source": [
    "for v in zip(velocity, new_velocity):\n",
    "    print(v)"
   ]
  },
  {
   "cell_type": "markdown",
   "metadata": {},
   "source": [
    "#### Visualization"
   ]
  },
  {
   "cell_type": "code",
   "execution_count": 93,
   "metadata": {},
   "outputs": [
    {
     "data": {
      "image/png": "[encoded data removed]",
      "text/plain": [
       "<Figure size 576x360 with 1 Axes>"
      ]
     },
     "metadata": {
      "needs_background": "light"
     },
     "output_type": "display_data"
    },
    {
     "data": {
      "image/png": "[encoded data removed]",
      "text/plain": [
       "<Figure size 576x360 with 1 Axes>"
      ]
     },
     "metadata": {
      "needs_background": "light"
     },
     "output_type": "display_data"
    }
   ],
   "source": [
    "from matplotlib import pyplot as plt\n",
    "import seaborn as sns\n",
    "\n",
    "x = [i[0] for i in racing_track]\n",
    "y = [i[1] for i in racing_track]\n",
    "\n",
    "# # Without lookahead\n",
    "# velocity_no_lookahead = optimal_velocity(track=racing_track,\n",
    "#     min_speed=MIN_SPEED, max_speed=MAX_SPEED, look_ahead_points=LOOK_AHEAD_POINTS)\n",
    "\n",
    "fig, ax = plt.subplots(figsize=(8, 5))\n",
    "ax = sns.scatterplot(x=x, y=y, hue=new_velocity,\n",
    "                     palette=\"vlag\").set_title(\"New Velocity\")\n",
    "\n",
    "fig, ax = plt.subplots(figsize=(8, 5))\n",
    "ax = sns.scatterplot(x=x, y=y, hue=velocity, palette=\"vlag\").set_title(\n",
    "    f\"With lookahead: {LOOK_AHEAD_POINTS}\")"
   ]
  },
  {
   "cell_type": "code",
   "execution_count": 94,
   "metadata": {},
   "outputs": [],
   "source": [
    "velocity = new_velocity"
   ]
  },
  {
   "cell_type": "markdown",
   "metadata": {},
   "source": [
    "#### Calculate distance and optimal time between each racing point"
   ]
  },
  {
   "cell_type": "code",
   "execution_count": 95,
   "metadata": {},
   "outputs": [
    {
     "name": "stdout",
     "output_type": "stream",
     "text": [
      "Total time for track, if racing line and speeds are followed perfectly: 19.464531418261338 s\n"
     ]
    }
   ],
   "source": [
    "distance_to_prev = []\n",
    "for i in range(len(racing_track)):\n",
    "    indexes = circle_indexes(racing_track, i, add_index_1=-1, add_index_2=0)[0:2]\n",
    "    coords = [racing_track[indexes[0]],racing_track[indexes[1]]]\n",
    "    dist_to_prev = dist_2_points(x1=coords[0][0], x2=coords[1][0], y1=coords[0][1], y2=coords[1][1])\n",
    "    distance_to_prev.append(dist_to_prev)\n",
    "    \n",
    "time_to_prev = [(distance_to_prev[i]/velocity[i]) for i in range(len(racing_track))]\n",
    "\n",
    "total_time = sum(time_to_prev)\n",
    "print(f\"Total time for track, if racing line and speeds are followed perfectly: {total_time} s\")"
   ]
  },
  {
   "cell_type": "markdown",
   "metadata": {},
   "source": [
    "## Append everything together and save to .txt file"
   ]
  },
  {
   "cell_type": "code",
   "execution_count": 330,
   "metadata": {},
   "outputs": [],
   "source": [
    "# Now we have list with columns (x,y,speed,distance,time)\n",
    "racing_track_everything = []\n",
    "for i in range(len(racing_track)):\n",
    "    racing_track_everything.append([racing_track[i][0],\n",
    "                                    racing_track[i][1],\n",
    "                                    velocity[i],\n",
    "                                    time_to_prev[i]])\n",
    "# Round to 5 decimals\n",
    "racing_track_everything = np.around(racing_track_everything, 5).tolist()"
   ]
  },
  {
   "cell_type": "code",
   "execution_count": 331,
   "metadata": {},
   "outputs": [],
   "source": [
    "# Write to txt file\n",
    "with open(f'optimals_newest_{TRACK_NAME}.txt', 'w') as f:\n",
    "    f.write(\"[\")\n",
    "    for line in racing_track_everything:\n",
    "        f.write(\"%s\" % line)\n",
    "        if line != racing_track_everything[-1]:\n",
    "            f.write(\",\\n\")\n",
    "    f.write(\"]\")"
   ]
  },
  {
   "cell_type": "markdown",
   "metadata": {},
   "source": [
    "# Part 2: Calculate Optimal Action Space"
   ]
  },
  {
   "cell_type": "code",
   "execution_count": 332,
   "metadata": {},
   "outputs": [],
   "source": [
    "# Calculate the radius for every point of the racing_track\n",
    "radius = []\n",
    "for i in range(len(racing_track)):\n",
    "    indexes = circle_indexes(racing_track, i, add_index_1=-1, add_index_2=1) # CHANGE BACK? 1;2\n",
    "    coords = [racing_track[indexes[0]],\n",
    "              racing_track[indexes[1]], racing_track[indexes[2]]]\n",
    "    radius.append(circle_radius(coords))\n",
    "\n",
    "# Calculate curve direction\n",
    "left_curve = []\n",
    "for i in range(len(racing_track)):\n",
    "    indexes = circle_indexes(racing_track, i, add_index_1=-1, add_index_2=1)\n",
    "    coords = [racing_track[indexes[1]],\n",
    "              racing_track[indexes[0]], racing_track[indexes[2]]]\n",
    "    left_curve.append(is_left_curve(coords))\n",
    "\n",
    "# Calculate radius with + and - for direction (+ is left, - is right)\n",
    "radius_direction = []\n",
    "for i in range(len(racing_track)):\n",
    "    radius_with_direction = radius[i]\n",
    "    if left_curve[i] == False:\n",
    "        radius_with_direction *= -1\n",
    "    radius_direction.append(radius_with_direction)\n",
    "\n",
    "# Calculate steering with + and -\n",
    "dist_wheels_front_back = 0.165 # meters\n",
    "steering = []\n",
    "for i in range(len(racing_track)):\n",
    "    steer = math.degrees(math.asin(dist_wheels_front_back/radius_direction[i]))\n",
    "    steering.append(steer)\n",
    "    \n",
    "# Merge relevant lists into dataframe\n",
    "all_actions = pd.DataFrame({\"velocity\":velocity,\n",
    "                            \"steering\":steering})"
   ]
  },
  {
   "cell_type": "code",
   "execution_count": 333,
   "metadata": {},
   "outputs": [
    {
     "data": {
      "text/plain": [
       "0.2648630761178624"
      ]
     },
     "execution_count": 333,
     "metadata": {},
     "output_type": "execute_result"
    }
   ],
   "source": [
    "min(radius)"
   ]
  },
  {
   "cell_type": "code",
   "execution_count": 334,
   "metadata": {},
   "outputs": [
    {
     "data": {
      "text/html": [
       "<div>\n",
       "<style scoped>\n",
       "    .dataframe tbody tr th:only-of-type {\n",
       "        vertical-align: middle;\n",
       "    }\n",
       "\n",
       "    .dataframe tbody tr th {\n",
       "        vertical-align: top;\n",
       "    }\n",
       "\n",
       "    .dataframe thead th {\n",
       "        text-align: right;\n",
       "    }\n",
       "</style>\n",
       "<table border=\"1\" class=\"dataframe\">\n",
       "  <thead>\n",
       "    <tr style=\"text-align: right;\">\n",
       "      <th></th>\n",
       "      <th>velocity</th>\n",
       "      <th>steering</th>\n",
       "    </tr>\n",
       "  </thead>\n",
       "  <tbody>\n",
       "    <tr>\n",
       "      <th>0</th>\n",
       "      <td>4.5</td>\n",
       "      <td>-0.180195</td>\n",
       "    </tr>\n",
       "    <tr>\n",
       "      <th>1</th>\n",
       "      <td>4.5</td>\n",
       "      <td>-0.291053</td>\n",
       "    </tr>\n",
       "    <tr>\n",
       "      <th>2</th>\n",
       "      <td>4.5</td>\n",
       "      <td>-0.208653</td>\n",
       "    </tr>\n",
       "    <tr>\n",
       "      <th>3</th>\n",
       "      <td>4.5</td>\n",
       "      <td>-0.107280</td>\n",
       "    </tr>\n",
       "    <tr>\n",
       "      <th>4</th>\n",
       "      <td>4.5</td>\n",
       "      <td>-0.195020</td>\n",
       "    </tr>\n",
       "    <tr>\n",
       "      <th>...</th>\n",
       "      <td>...</td>\n",
       "      <td>...</td>\n",
       "    </tr>\n",
       "    <tr>\n",
       "      <th>702</th>\n",
       "      <td>4.5</td>\n",
       "      <td>-0.223760</td>\n",
       "    </tr>\n",
       "    <tr>\n",
       "      <th>703</th>\n",
       "      <td>4.5</td>\n",
       "      <td>-0.160583</td>\n",
       "    </tr>\n",
       "    <tr>\n",
       "      <th>704</th>\n",
       "      <td>4.5</td>\n",
       "      <td>-0.210770</td>\n",
       "    </tr>\n",
       "    <tr>\n",
       "      <th>705</th>\n",
       "      <td>4.5</td>\n",
       "      <td>-0.279832</td>\n",
       "    </tr>\n",
       "    <tr>\n",
       "      <th>706</th>\n",
       "      <td>4.5</td>\n",
       "      <td>-0.188942</td>\n",
       "    </tr>\n",
       "  </tbody>\n",
       "</table>\n",
       "<p>707 rows × 2 columns</p>\n",
       "</div>"
      ],
      "text/plain": [
       "     velocity  steering\n",
       "0         4.5 -0.180195\n",
       "1         4.5 -0.291053\n",
       "2         4.5 -0.208653\n",
       "3         4.5 -0.107280\n",
       "4         4.5 -0.195020\n",
       "..        ...       ...\n",
       "702       4.5 -0.223760\n",
       "703       4.5 -0.160583\n",
       "704       4.5 -0.210770\n",
       "705       4.5 -0.279832\n",
       "706       4.5 -0.188942\n",
       "\n",
       "[707 rows x 2 columns]"
      ]
     },
     "execution_count": 334,
     "metadata": {},
     "output_type": "execute_result"
    }
   ],
   "source": [
    "all_actions"
   ]
  },
  {
   "cell_type": "code",
   "execution_count": 335,
   "metadata": {},
   "outputs": [
    {
     "data": {
      "text/plain": [
       "Text(0.5, 1.0, 'With lookahead: 8')"
      ]
     },
     "execution_count": 335,
     "metadata": {},
     "output_type": "execute_result"
    },
    {
     "data": {
      "image/png": "[encoded data removed]",
      "text/plain": [
       "<Figure size 432x288 with 1 Axes>"
      ]
     },
     "metadata": {
      "needs_background": "light"
     },
     "output_type": "display_data"
    }
   ],
   "source": [
    "# Visualize action space\n",
    "ax = sns.scatterplot(data=all_actions, x=\"steering\", y=\"velocity\")\n",
    "ax.invert_xaxis()\n",
    "ax.set_title(f\"With lookahead: {LOOK_AHEAD_POINTS}\")"
   ]
  },
  {
   "cell_type": "code",
   "execution_count": 336,
   "metadata": {},
   "outputs": [
    {
     "data": {
      "image/png": "[encoded data removed]",
      "text/plain": [
       "<Figure size 720x360 with 2 Axes>"
      ]
     },
     "metadata": {
      "needs_background": "light"
     },
     "output_type": "display_data"
    }
   ],
   "source": [
    "# Visualize all actions\n",
    "plt.figure(figsize=(10, 5))\n",
    "sns.lineplot(data=all_actions[\"velocity\"], color=\"r\")\n",
    "ax2 = plt.twinx()\n",
    "sns.lineplot(data=all_actions[\"steering\"], color=\"g\", ax=ax2)\n",
    "plt.axhline(0, ls='--', color=\"g\")\n",
    "a = plt.title(\"Speed (red), Steering (green; positive=left)\")"
   ]
  },
  {
   "cell_type": "markdown",
   "metadata": {},
   "source": [
    "#### Calculate Action Space with K-Means and Resampling each point with normal distribution"
   ]
  },
  {
   "cell_type": "code",
   "execution_count": 337,
   "metadata": {},
   "outputs": [
    {
     "data": {
      "text/plain": [
       "<AxesSubplot:ylabel='Density'>"
      ]
     },
     "execution_count": 337,
     "metadata": {},
     "output_type": "execute_result"
    },
    {
     "data": {
      "image/png": "[encoded data removed]",
      "text/plain": [
       "<Figure size 432x288 with 1 Axes>"
      ]
     },
     "metadata": {
      "needs_background": "light"
     },
     "output_type": "display_data"
    }
   ],
   "source": [
    "# Steering: Find standard deviation so that probability of >10 degrees steering is 5%\n",
    "steering_sd = -15 / stats.norm.ppf(0.05)\n",
    "steering_sd\n",
    "sns.distplot(np.random.normal(0,steering_sd,10000))"
   ]
  },
  {
   "cell_type": "code",
   "execution_count": 338,
   "metadata": {},
   "outputs": [
    {
     "data": {
      "text/plain": [
       "<AxesSubplot:ylabel='Density'>"
      ]
     },
     "execution_count": 338,
     "metadata": {},
     "output_type": "execute_result"
    },
    {
     "data": {
      "image/png": "[encoded data removed]",
      "text/plain": [
       "<Figure size 432x288 with 1 Axes>"
      ]
     },
     "metadata": {
      "needs_background": "light"
     },
     "output_type": "display_data"
    }
   ],
   "source": [
    "# Velocity: Find standard deviation so that probability of >0.25m/s deviation is 0%\n",
    "# Note: Here, probability is set to 0%, so no noise regarding velocity\n",
    "velocity_sd = -0.25 / stats.norm.ppf(0.00)\n",
    "velocity_sd\n",
    "sns.distplot(np.random.normal(0,velocity_sd,10000))"
   ]
  },
  {
   "cell_type": "code",
   "execution_count": 339,
   "metadata": {},
   "outputs": [
    {
     "data": {
      "text/plain": [
       "(471758, 2)"
      ]
     },
     "execution_count": 339,
     "metadata": {},
     "output_type": "execute_result"
    }
   ],
   "source": [
    "all_actions_norm = all_actions.copy()\n",
    "\n",
    "all_actions_norm_len = len(all_actions_norm)\n",
    "resample_size = 1000\n",
    "\n",
    "# Add gaussian noise to action space\n",
    "for i in range(all_actions_norm_len):\n",
    "    v_true = all_actions_norm.iloc[i][\"velocity\"]\n",
    "    s_true = all_actions_norm.iloc[i][\"steering\"]\n",
    "    v_norm = np.random.normal(loc=v_true, scale=velocity_sd, size=resample_size)\n",
    "    s_norm = np.random.normal(loc=s_true, scale=steering_sd, size=resample_size)\n",
    "    vs_norm = pd.DataFrame(np.column_stack([v_norm,s_norm]), columns=[\"velocity\",\"steering\"])\n",
    "    all_actions_norm = pd.concat([all_actions_norm,vs_norm], axis=0, ignore_index=True)\n",
    "    \n",
    "# Take out actions with max speed, so that they are not affected by gaussian noise\n",
    "# We do this because there are disproportionally many points with max speed, so \n",
    "# K-Means will focus too much on these\n",
    "all_actions_norm = all_actions_norm[all_actions_norm[\"velocity\"] < MAX_SPEED]\n",
    "    \n",
    "# Add initial actions to action space (to make clustering more focused on initial actions)\n",
    "add_n_initial_actions = int(resample_size / 8)\n",
    "add_initial_actions = pd.DataFrame()\n",
    "for i in range(add_n_initial_actions):\n",
    "    add_initial_actions = pd.concat([add_initial_actions,all_actions], axis=0, ignore_index=True)\n",
    "all_actions_norm = pd.concat([all_actions_norm,add_initial_actions], axis=0, ignore_index=True)\n",
    "\n",
    "\n",
    "# Display actions shape\n",
    "all_actions_norm.shape"
   ]
  },
  {
   "cell_type": "code",
   "execution_count": 340,
   "metadata": {},
   "outputs": [
    {
     "data": {
      "image/png": "[encoded data removed]",
      "text/plain": [
       "<Figure size 432x288 with 1 Axes>"
      ]
     },
     "metadata": {
      "needs_background": "light"
     },
     "output_type": "display_data"
    }
   ],
   "source": [
    "all_actions_norm_less = all_actions_norm.sample(frac=0.01).reset_index(drop=True) # sample bc less compute time\n",
    "ax = sns.kdeplot(data=all_actions_norm_less[\"steering\"],data2=all_actions_norm_less[\"velocity\"])\n",
    "ax.invert_xaxis()"
   ]
  },
  {
   "cell_type": "code",
   "execution_count": 341,
   "metadata": {},
   "outputs": [],
   "source": [
    "X = all_actions_norm\n",
    "\n",
    "X = all_actions\n",
    "\n",
    "# Calculate action space with KMeans\n",
    "\n",
    "from sklearn.preprocessing import MinMaxScaler\n",
    "from sklearn.cluster import MiniBatchKMeans\n",
    "\n",
    "# Rescale data with minmax\n",
    "minmax_scaler = MinMaxScaler()\n",
    "X_minmax = pd.DataFrame(minmax_scaler.fit_transform(X), \n",
    "                                           columns=[\"velocity\",\"steering\"])\n",
    "\n",
    "# KMeans\n",
    "# remove 2 actions from KMeans so that low speed & high steering actions can be manually included\n",
    "n_clusters = 25-2#21-2\n",
    "model = MiniBatchKMeans(n_clusters=n_clusters).fit(X_minmax)\n",
    "\n",
    "# Centroids (interpretable)\n",
    "from sklearn.preprocessing import MinMaxScaler\n",
    "minmax_scaler = MinMaxScaler()\n",
    "X_minmax_fit = minmax_scaler.fit(X)\n",
    "X_centroids = pd.DataFrame(X_minmax_fit.inverse_transform(model.cluster_centers_), \n",
    "                                   columns=[\"velocity\",\"steering\"])\n",
    "\n",
    "# Add 2 manual actions\n",
    "# Reason: When car starts new episode, it does not start on or direction of racing line, so \n",
    "# it cannot steer enough to get on racing line\n",
    "manual_actions = pd.DataFrame({\"velocity\":[MIN_SPEED,MIN_SPEED],\"steering\":[30,-30]})\n",
    "X_centroids = pd.concat([X_centroids,manual_actions], ignore_index=True)\n",
    "\n",
    "action_space_e = X_centroids.copy()"
   ]
  },
  {
   "cell_type": "code",
   "execution_count": 342,
   "metadata": {},
   "outputs": [
    {
     "data": {
      "image/png": "[encoded data removed]",
      "text/plain": [
       "<Figure size 432x288 with 1 Axes>"
      ]
     },
     "metadata": {
      "needs_background": "light"
     },
     "output_type": "display_data"
    }
   ],
   "source": [
    "ax = sns.scatterplot(data=all_actions, x=\"steering\", y=\"velocity\", alpha=.1)\n",
    "ax = sns.scatterplot(data=action_space_e, x=\"steering\", y=\"velocity\")\n",
    "ax.invert_xaxis()"
   ]
  },
  {
   "cell_type": "markdown",
   "metadata": {},
   "source": [
    "*Note: Action space can be different every time it is computed because of randome resampling with gaussian noise and also because of the random seed with K-Means. Therefore, try out multiple iterations until you are happy with the result*"
   ]
  },
  {
   "cell_type": "markdown",
   "metadata": {},
   "source": [
    "#### Output as JSON format"
   ]
  },
  {
   "cell_type": "code",
   "execution_count": 343,
   "metadata": {},
   "outputs": [
    {
     "data": {
      "text/html": [
       "<div>\n",
       "<style scoped>\n",
       "    .dataframe tbody tr th:only-of-type {\n",
       "        vertical-align: middle;\n",
       "    }\n",
       "\n",
       "    .dataframe tbody tr th {\n",
       "        vertical-align: top;\n",
       "    }\n",
       "\n",
       "    .dataframe thead th {\n",
       "        text-align: right;\n",
       "    }\n",
       "</style>\n",
       "<table border=\"1\" class=\"dataframe\">\n",
       "  <thead>\n",
       "    <tr style=\"text-align: right;\">\n",
       "      <th></th>\n",
       "      <th>steering_angle</th>\n",
       "      <th>speed</th>\n",
       "      <th>index</th>\n",
       "    </tr>\n",
       "  </thead>\n",
       "  <tbody>\n",
       "    <tr>\n",
       "      <th>0</th>\n",
       "      <td>-2.0001</td>\n",
       "      <td>4.4833</td>\n",
       "      <td>0</td>\n",
       "    </tr>\n",
       "    <tr>\n",
       "      <th>1</th>\n",
       "      <td>1.0458</td>\n",
       "      <td>2.0903</td>\n",
       "      <td>1</td>\n",
       "    </tr>\n",
       "    <tr>\n",
       "      <th>2</th>\n",
       "      <td>-18.7730</td>\n",
       "      <td>1.8223</td>\n",
       "      <td>2</td>\n",
       "    </tr>\n",
       "    <tr>\n",
       "      <th>3</th>\n",
       "      <td>1.3371</td>\n",
       "      <td>3.2564</td>\n",
       "      <td>3</td>\n",
       "    </tr>\n",
       "    <tr>\n",
       "      <th>4</th>\n",
       "      <td>11.6759</td>\n",
       "      <td>2.2190</td>\n",
       "      <td>4</td>\n",
       "    </tr>\n",
       "    <tr>\n",
       "      <th>5</th>\n",
       "      <td>-3.6721</td>\n",
       "      <td>1.7317</td>\n",
       "      <td>5</td>\n",
       "    </tr>\n",
       "    <tr>\n",
       "      <th>6</th>\n",
       "      <td>-7.3570</td>\n",
       "      <td>2.6361</td>\n",
       "      <td>6</td>\n",
       "    </tr>\n",
       "    <tr>\n",
       "      <th>7</th>\n",
       "      <td>-11.6928</td>\n",
       "      <td>1.8709</td>\n",
       "      <td>7</td>\n",
       "    </tr>\n",
       "    <tr>\n",
       "      <th>8</th>\n",
       "      <td>0.1816</td>\n",
       "      <td>3.7913</td>\n",
       "      <td>8</td>\n",
       "    </tr>\n",
       "    <tr>\n",
       "      <th>9</th>\n",
       "      <td>20.0564</td>\n",
       "      <td>1.6611</td>\n",
       "      <td>9</td>\n",
       "    </tr>\n",
       "    <tr>\n",
       "      <th>10</th>\n",
       "      <td>0.7537</td>\n",
       "      <td>2.6541</td>\n",
       "      <td>10</td>\n",
       "    </tr>\n",
       "    <tr>\n",
       "      <th>11</th>\n",
       "      <td>-5.7494</td>\n",
       "      <td>3.1764</td>\n",
       "      <td>11</td>\n",
       "    </tr>\n",
       "    <tr>\n",
       "      <th>12</th>\n",
       "      <td>7.3762</td>\n",
       "      <td>1.5882</td>\n",
       "      <td>12</td>\n",
       "    </tr>\n",
       "    <tr>\n",
       "      <th>13</th>\n",
       "      <td>-0.1833</td>\n",
       "      <td>4.4991</td>\n",
       "      <td>13</td>\n",
       "    </tr>\n",
       "    <tr>\n",
       "      <th>14</th>\n",
       "      <td>15.7070</td>\n",
       "      <td>1.9705</td>\n",
       "      <td>14</td>\n",
       "    </tr>\n",
       "    <tr>\n",
       "      <th>15</th>\n",
       "      <td>-12.9711</td>\n",
       "      <td>2.1470</td>\n",
       "      <td>15</td>\n",
       "    </tr>\n",
       "    <tr>\n",
       "      <th>16</th>\n",
       "      <td>10.3087</td>\n",
       "      <td>2.5812</td>\n",
       "      <td>16</td>\n",
       "    </tr>\n",
       "    <tr>\n",
       "      <th>17</th>\n",
       "      <td>-29.5875</td>\n",
       "      <td>1.5364</td>\n",
       "      <td>17</td>\n",
       "    </tr>\n",
       "    <tr>\n",
       "      <th>18</th>\n",
       "      <td>-1.6929</td>\n",
       "      <td>4.2074</td>\n",
       "      <td>18</td>\n",
       "    </tr>\n",
       "    <tr>\n",
       "      <th>19</th>\n",
       "      <td>7.3444</td>\n",
       "      <td>1.9987</td>\n",
       "      <td>19</td>\n",
       "    </tr>\n",
       "    <tr>\n",
       "      <th>20</th>\n",
       "      <td>-1.2829</td>\n",
       "      <td>2.3701</td>\n",
       "      <td>20</td>\n",
       "    </tr>\n",
       "    <tr>\n",
       "      <th>21</th>\n",
       "      <td>1.9924</td>\n",
       "      <td>4.4723</td>\n",
       "      <td>21</td>\n",
       "    </tr>\n",
       "    <tr>\n",
       "      <th>22</th>\n",
       "      <td>-13.8233</td>\n",
       "      <td>1.5310</td>\n",
       "      <td>22</td>\n",
       "    </tr>\n",
       "    <tr>\n",
       "      <th>23</th>\n",
       "      <td>30.0000</td>\n",
       "      <td>1.4000</td>\n",
       "      <td>23</td>\n",
       "    </tr>\n",
       "    <tr>\n",
       "      <th>24</th>\n",
       "      <td>-30.0000</td>\n",
       "      <td>1.4000</td>\n",
       "      <td>24</td>\n",
       "    </tr>\n",
       "  </tbody>\n",
       "</table>\n",
       "</div>"
      ],
      "text/plain": [
       "    steering_angle   speed  index\n",
       "0          -2.0001  4.4833      0\n",
       "1           1.0458  2.0903      1\n",
       "2         -18.7730  1.8223      2\n",
       "3           1.3371  3.2564      3\n",
       "4          11.6759  2.2190      4\n",
       "5          -3.6721  1.7317      5\n",
       "6          -7.3570  2.6361      6\n",
       "7         -11.6928  1.8709      7\n",
       "8           0.1816  3.7913      8\n",
       "9          20.0564  1.6611      9\n",
       "10          0.7537  2.6541     10\n",
       "11         -5.7494  3.1764     11\n",
       "12          7.3762  1.5882     12\n",
       "13         -0.1833  4.4991     13\n",
       "14         15.7070  1.9705     14\n",
       "15        -12.9711  2.1470     15\n",
       "16         10.3087  2.5812     16\n",
       "17        -29.5875  1.5364     17\n",
       "18         -1.6929  4.2074     18\n",
       "19          7.3444  1.9987     19\n",
       "20         -1.2829  2.3701     20\n",
       "21          1.9924  4.4723     21\n",
       "22        -13.8233  1.5310     22\n",
       "23         30.0000  1.4000     23\n",
       "24        -30.0000  1.4000     24"
      ]
     },
     "execution_count": 343,
     "metadata": {},
     "output_type": "execute_result"
    }
   ],
   "source": [
    "# Output JSON format\n",
    "action_space_for_json = action_space_e[[\"steering\",\"velocity\"]].copy()\n",
    "    \n",
    "action_space_for_json = action_space_for_json.round(4)\n",
    "action_space_for_json.columns = [\"steering_angle\",\"speed\"]\n",
    "action_space_for_json[\"index\"] = action_space_for_json.index\n",
    "json_text = action_space_for_json.to_json(orient=\"records\", lines=False)\n",
    "\n",
    "action_space_for_json"
   ]
  },
  {
   "cell_type": "code",
   "execution_count": 344,
   "metadata": {},
   "outputs": [],
   "source": [
    "with open(f'AS21_newest_{TRACK_NAME}.txt', 'w') as f:\n",
    "    f.write(json_text)"
   ]
  },
  {
   "cell_type": "code",
   "execution_count": 345,
   "metadata": {},
   "outputs": [
    {
     "data": {
      "text/html": [
       "<div>\n",
       "<style scoped>\n",
       "    .dataframe tbody tr th:only-of-type {\n",
       "        vertical-align: middle;\n",
       "    }\n",
       "\n",
       "    .dataframe tbody tr th {\n",
       "        vertical-align: top;\n",
       "    }\n",
       "\n",
       "    .dataframe thead th {\n",
       "        text-align: right;\n",
       "    }\n",
       "</style>\n",
       "<table border=\"1\" class=\"dataframe\">\n",
       "  <thead>\n",
       "    <tr style=\"text-align: right;\">\n",
       "      <th></th>\n",
       "      <th>steering_angle</th>\n",
       "      <th>speed</th>\n",
       "      <th>index</th>\n",
       "    </tr>\n",
       "  </thead>\n",
       "  <tbody>\n",
       "    <tr>\n",
       "      <th>24</th>\n",
       "      <td>-30.0000</td>\n",
       "      <td>1.4000</td>\n",
       "      <td>24</td>\n",
       "    </tr>\n",
       "    <tr>\n",
       "      <th>17</th>\n",
       "      <td>-29.5875</td>\n",
       "      <td>1.5364</td>\n",
       "      <td>17</td>\n",
       "    </tr>\n",
       "    <tr>\n",
       "      <th>2</th>\n",
       "      <td>-18.7730</td>\n",
       "      <td>1.8223</td>\n",
       "      <td>2</td>\n",
       "    </tr>\n",
       "    <tr>\n",
       "      <th>22</th>\n",
       "      <td>-13.8233</td>\n",
       "      <td>1.5310</td>\n",
       "      <td>22</td>\n",
       "    </tr>\n",
       "    <tr>\n",
       "      <th>15</th>\n",
       "      <td>-12.9711</td>\n",
       "      <td>2.1470</td>\n",
       "      <td>15</td>\n",
       "    </tr>\n",
       "    <tr>\n",
       "      <th>7</th>\n",
       "      <td>-11.6928</td>\n",
       "      <td>1.8709</td>\n",
       "      <td>7</td>\n",
       "    </tr>\n",
       "    <tr>\n",
       "      <th>6</th>\n",
       "      <td>-7.3570</td>\n",
       "      <td>2.6361</td>\n",
       "      <td>6</td>\n",
       "    </tr>\n",
       "    <tr>\n",
       "      <th>11</th>\n",
       "      <td>-5.7494</td>\n",
       "      <td>3.1764</td>\n",
       "      <td>11</td>\n",
       "    </tr>\n",
       "    <tr>\n",
       "      <th>5</th>\n",
       "      <td>-3.6721</td>\n",
       "      <td>1.7317</td>\n",
       "      <td>5</td>\n",
       "    </tr>\n",
       "    <tr>\n",
       "      <th>0</th>\n",
       "      <td>-2.0001</td>\n",
       "      <td>4.4833</td>\n",
       "      <td>0</td>\n",
       "    </tr>\n",
       "    <tr>\n",
       "      <th>18</th>\n",
       "      <td>-1.6929</td>\n",
       "      <td>4.2074</td>\n",
       "      <td>18</td>\n",
       "    </tr>\n",
       "    <tr>\n",
       "      <th>20</th>\n",
       "      <td>-1.2829</td>\n",
       "      <td>2.3701</td>\n",
       "      <td>20</td>\n",
       "    </tr>\n",
       "    <tr>\n",
       "      <th>13</th>\n",
       "      <td>-0.1833</td>\n",
       "      <td>4.4991</td>\n",
       "      <td>13</td>\n",
       "    </tr>\n",
       "    <tr>\n",
       "      <th>8</th>\n",
       "      <td>0.1816</td>\n",
       "      <td>3.7913</td>\n",
       "      <td>8</td>\n",
       "    </tr>\n",
       "    <tr>\n",
       "      <th>10</th>\n",
       "      <td>0.7537</td>\n",
       "      <td>2.6541</td>\n",
       "      <td>10</td>\n",
       "    </tr>\n",
       "    <tr>\n",
       "      <th>1</th>\n",
       "      <td>1.0458</td>\n",
       "      <td>2.0903</td>\n",
       "      <td>1</td>\n",
       "    </tr>\n",
       "    <tr>\n",
       "      <th>3</th>\n",
       "      <td>1.3371</td>\n",
       "      <td>3.2564</td>\n",
       "      <td>3</td>\n",
       "    </tr>\n",
       "    <tr>\n",
       "      <th>21</th>\n",
       "      <td>1.9924</td>\n",
       "      <td>4.4723</td>\n",
       "      <td>21</td>\n",
       "    </tr>\n",
       "    <tr>\n",
       "      <th>19</th>\n",
       "      <td>7.3444</td>\n",
       "      <td>1.9987</td>\n",
       "      <td>19</td>\n",
       "    </tr>\n",
       "    <tr>\n",
       "      <th>12</th>\n",
       "      <td>7.3762</td>\n",
       "      <td>1.5882</td>\n",
       "      <td>12</td>\n",
       "    </tr>\n",
       "    <tr>\n",
       "      <th>16</th>\n",
       "      <td>10.3087</td>\n",
       "      <td>2.5812</td>\n",
       "      <td>16</td>\n",
       "    </tr>\n",
       "    <tr>\n",
       "      <th>4</th>\n",
       "      <td>11.6759</td>\n",
       "      <td>2.2190</td>\n",
       "      <td>4</td>\n",
       "    </tr>\n",
       "    <tr>\n",
       "      <th>14</th>\n",
       "      <td>15.7070</td>\n",
       "      <td>1.9705</td>\n",
       "      <td>14</td>\n",
       "    </tr>\n",
       "    <tr>\n",
       "      <th>9</th>\n",
       "      <td>20.0564</td>\n",
       "      <td>1.6611</td>\n",
       "      <td>9</td>\n",
       "    </tr>\n",
       "    <tr>\n",
       "      <th>23</th>\n",
       "      <td>30.0000</td>\n",
       "      <td>1.4000</td>\n",
       "      <td>23</td>\n",
       "    </tr>\n",
       "  </tbody>\n",
       "</table>\n",
       "</div>"
      ],
      "text/plain": [
       "    steering_angle   speed  index\n",
       "24        -30.0000  1.4000     24\n",
       "17        -29.5875  1.5364     17\n",
       "2         -18.7730  1.8223      2\n",
       "22        -13.8233  1.5310     22\n",
       "15        -12.9711  2.1470     15\n",
       "7         -11.6928  1.8709      7\n",
       "6          -7.3570  2.6361      6\n",
       "11         -5.7494  3.1764     11\n",
       "5          -3.6721  1.7317      5\n",
       "0          -2.0001  4.4833      0\n",
       "18         -1.6929  4.2074     18\n",
       "20         -1.2829  2.3701     20\n",
       "13         -0.1833  4.4991     13\n",
       "8           0.1816  3.7913      8\n",
       "10          0.7537  2.6541     10\n",
       "1           1.0458  2.0903      1\n",
       "3           1.3371  3.2564      3\n",
       "21          1.9924  4.4723     21\n",
       "19          7.3444  1.9987     19\n",
       "12          7.3762  1.5882     12\n",
       "16         10.3087  2.5812     16\n",
       "4          11.6759  2.2190      4\n",
       "14         15.7070  1.9705     14\n",
       "9          20.0564  1.6611      9\n",
       "23         30.0000  1.4000     23"
      ]
     },
     "execution_count": 345,
     "metadata": {},
     "output_type": "execute_result"
    }
   ],
   "source": [
    "action_space_for_json.sort_values(by=['steering_angle', 'speed'])"
   ]
  },
  {
   "cell_type": "code",
   "execution_count": 346,
   "metadata": {},
   "outputs": [],
   "source": [
    "for i in range(len(action_space_for_json)):\n",
    "    row = action_space_for_json.iloc[i]"
   ]
  },
  {
   "cell_type": "code",
   "execution_count": 347,
   "metadata": {},
   "outputs": [],
   "source": [
    "spaces = action_space_for_json.sort_values(by=['steering_angle', 'speed']).to_dict('records', )"
   ]
  },
  {
   "cell_type": "code",
   "execution_count": 348,
   "metadata": {},
   "outputs": [],
   "source": [
    "for space in spaces:\n",
    "    space.pop('index')\n",
    "\n",
    "ns = []\n",
    "for space in spaces:\n",
    "    space['speed']= min( space['speed'], 4.0 )\n",
    "    ns.append(space)"
   ]
  },
  {
   "cell_type": "code",
   "execution_count": 349,
   "metadata": {},
   "outputs": [
    {
     "data": {
      "text/plain": [
       "[{'steering_angle': -30.0, 'speed': 1.4},\n",
       " {'steering_angle': -29.5875, 'speed': 1.5364},\n",
       " {'steering_angle': -18.773, 'speed': 1.8223},\n",
       " {'steering_angle': -13.8233, 'speed': 1.531},\n",
       " {'steering_angle': -12.9711, 'speed': 2.147},\n",
       " {'steering_angle': -11.6928, 'speed': 1.8709},\n",
       " {'steering_angle': -7.357, 'speed': 2.6361},\n",
       " {'steering_angle': -5.7494, 'speed': 3.1764},\n",
       " {'steering_angle': -3.6721, 'speed': 1.7317},\n",
       " {'steering_angle': -2.0001, 'speed': 4.0},\n",
       " {'steering_angle': -1.6929, 'speed': 4.0},\n",
       " {'steering_angle': -1.2829, 'speed': 2.3701},\n",
       " {'steering_angle': -0.1833, 'speed': 4.0},\n",
       " {'steering_angle': 0.1816, 'speed': 3.7913},\n",
       " {'steering_angle': 0.7537, 'speed': 2.6541},\n",
       " {'steering_angle': 1.0458, 'speed': 2.0903},\n",
       " {'steering_angle': 1.3371, 'speed': 3.2564},\n",
       " {'steering_angle': 1.9924, 'speed': 4.0},\n",
       " {'steering_angle': 7.3444, 'speed': 1.9987},\n",
       " {'steering_angle': 7.3762, 'speed': 1.5882},\n",
       " {'steering_angle': 10.3087, 'speed': 2.5812},\n",
       " {'steering_angle': 11.6759, 'speed': 2.219},\n",
       " {'steering_angle': 15.707, 'speed': 1.9705},\n",
       " {'steering_angle': 20.0564, 'speed': 1.6611},\n",
       " {'steering_angle': 30.0, 'speed': 1.4}]"
      ]
     },
     "execution_count": 349,
     "metadata": {},
     "output_type": "execute_result"
    }
   ],
   "source": [
    "ns"
   ]
  },
  {
   "cell_type": "code",
   "execution_count": 291,
   "metadata": {},
   "outputs": [
    {
     "data": {
      "text/plain": [
       "25"
      ]
     },
     "execution_count": 291,
     "metadata": {},
     "output_type": "execute_result"
    }
   ],
   "source": [
    "len(ns)"
   ]
  },
  {
   "cell_type": "code",
   "execution_count": 3,
   "metadata": {},
   "outputs": [],
   "source": [
    "import pandas as pd\n",
    "data = pd.read_clipboard()"
   ]
  },
  {
   "cell_type": "code",
   "execution_count": 4,
   "metadata": {},
   "outputs": [
    {
     "data": {
      "text/plain": [
       "[{'steering_angle': -30, 'speed': 1.7},\n",
       " {'steering_angle': 30, 'speed': 1.7},\n",
       " {'steering_angle': -25, 'speed': 1.5},\n",
       " {'steering_angle': 25, 'speed': 1.5},\n",
       " {'steering_angle': -20, 'speed': 1.8},\n",
       " {'steering_angle': 20, 'speed': 1.8},\n",
       " {'steering_angle': -20, 'speed': 1.9},\n",
       " {'steering_angle': 20, 'speed': 1.9},\n",
       " {'steering_angle': -15, 'speed': 2.5},\n",
       " {'steering_angle': 15, 'speed': 2.5},\n",
       " {'steering_angle': -15, 'speed': 2.8},\n",
       " {'steering_angle': 15, 'speed': 2.8},\n",
       " {'steering_angle': -10, 'speed': 2.8},\n",
       " {'steering_angle': 10, 'speed': 2.8},\n",
       " {'steering_angle': -10, 'speed': 2.9},\n",
       " {'steering_angle': 10, 'speed': 2.9},\n",
       " {'steering_angle': -10, 'speed': 3.7},\n",
       " {'steering_angle': 10, 'speed': 3.7},\n",
       " {'steering_angle': -5, 'speed': 3.9},\n",
       " {'steering_angle': 5, 'speed': 3.9},\n",
       " {'steering_angle': -5, 'speed': 3.1},\n",
       " {'steering_angle': 5, 'speed': 3.1},\n",
       " {'steering_angle': -5, 'speed': 3.5},\n",
       " {'steering_angle': 5, 'speed': 3.5},\n",
       " {'steering_angle': 0, 'speed': 3.8},\n",
       " {'steering_angle': 0, 'speed': 3.0},\n",
       " {'steering_angle': 0, 'speed': 3.5},\n",
       " {'steering_angle': 0, 'speed': 4.0}]"
      ]
     },
     "execution_count": 4,
     "metadata": {},
     "output_type": "execute_result"
    }
   ],
   "source": [
    "data.to_dict('records')"
   ]
  },
  {
   "cell_type": "code",
   "execution_count": null,
   "metadata": {},
   "outputs": [],
   "source": []
  }
 ],
 "metadata": {
  "kernelspec": {
   "display_name": "Python 3",
   "language": "python",
   "name": "python3"
  },
  "language_info": {
   "codemirror_mode": {
    "name": "ipython",
    "version": 3
   },
   "file_extension": ".py",
   "mimetype": "text/x-python",
   "name": "python",
   "nbconvert_exporter": "python",
   "pygments_lexer": "ipython3",
   "version": "3.8.12"
  }
 },
 "nbformat": 4,
 "nbformat_minor": 4
}
