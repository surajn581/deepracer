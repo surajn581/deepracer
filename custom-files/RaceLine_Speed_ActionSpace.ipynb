{
 "cells": [
  {
   "cell_type": "markdown",
   "metadata": {},
   "source": [
    "# INSTRUCTIONS\n",
    "\n",
    "#### Part 1: Computing the optimal speed from the optimal racing line\n",
    "- Part 1 of this notebook takes the optimal racing line, which can be generated with Race-Line-Calculation.ipynb ([GitHub](https://github.com/cdthompson/deepracer-k1999-race-lines)), and generates the optimal speed for each point on the racing line\n",
    "- Input: .py file with 2D array containing optimal racing line: 2 columns (x,y)\n",
    "- Output: .py file with 2D array: 4 columns (x,y,speed,expected time). This array can be inserted into the reward function\n",
    "- Note: The last point of the racing line is deleted because it is the same point as the first one\n",
    "\n",
    "#### Part 2: Computing the Action Space\n",
    "- Part 2 of this notebook takes the optimal racing line and speed, and uses K-Means with Gaussian Noise infused data, to calculate the action space"
   ]
  },
  {
   "cell_type": "code",
   "execution_count": 1,
   "metadata": {},
   "outputs": [],
   "source": [
    "%matplotlib inline\n",
    "\n",
    "import numpy as np\n",
    "import pandas as pd\n",
    "from scipy import stats\n",
    "import math\n",
    "\n",
    "# Ignore deprecation warnings we have no power over\n",
    "import warnings\n",
    "warnings.filterwarnings('ignore')"
   ]
  },
  {
   "cell_type": "code",
   "execution_count": 2,
   "metadata": {},
   "outputs": [],
   "source": [
    "from reward_function import Path"
   ]
  },
  {
   "cell_type": "code",
   "execution_count": 3,
   "metadata": {},
   "outputs": [
    {
     "name": "stdout",
     "output_type": "stream",
     "text": [
      "calculating smooth path\n"
     ]
    }
   ],
   "source": [
    "# Path of the optimal racing line (.npy file)\n",
    "fpath = 'C:/Users/suraj/projects/deepracer24/FS_June2020.npy'\n",
    "\n",
    "# Change manually (this is only so that output files are named correctly)\n",
    "TRACK_NAME = \"arctic_open_ccw\"\n",
    "\n",
    "waypoints = np.load(fpath)\n",
    "\n",
    "center_line = waypoints[:,0:2]\n",
    "inner_border = waypoints[:,2:4]\n",
    "outer_border = waypoints[:,4:6]\n",
    "\n",
    "center_line = Path(center_line, 2).get()\n",
    "\n",
    "# Convert np array to list and remove last point because it is the same point as the first one\n",
    "racing_track = center_line[:-1]\n",
    "# racing_track = center_line.tolist()[:-1]"
   ]
  },
  {
   "cell_type": "code",
   "execution_count": 4,
   "metadata": {},
   "outputs": [],
   "source": [
    "# racing_track"
   ]
  },
  {
   "cell_type": "markdown",
   "metadata": {},
   "source": [
    "# Helper functions for Part 1 and Part 2"
   ]
  },
  {
   "cell_type": "code",
   "execution_count": 5,
   "metadata": {},
   "outputs": [],
   "source": [
    "# Uses previous and next coords to calculate the radius of the curve\n",
    "# so you need to pass a list with form [[x1,y1],[x2,y2],[x3,y3]]\n",
    "# Input 3 coords [[x1,y1],[x2,y2],[x3,y3]]\n",
    "def circle_radius(coords):\n",
    "\n",
    "    # Flatten the list and assign to variables (makes code easier to read later)\n",
    "    x1, y1, x2, y2, x3, y3 = [i for sub in coords for i in sub]\n",
    "\n",
    "    a = x1*(y2-y3) - y1*(x2-x3) + x2*y3 - x3*y2\n",
    "    b = (x1**2+y1**2)*(y3-y2) + (x2**2+y2**2)*(y1-y3) + (x3**2+y3**2)*(y2-y1)\n",
    "    c = (x1**2+y1**2)*(x2-x3) + (x2**2+y2**2)*(x3-x1) + (x3**2+y3**2)*(x1-x2)\n",
    "    d = (x1**2+y1**2)*(x3*y2-x2*y3) + (x2**2+y2**2) * \\\n",
    "        (x1*y3-x3*y1) + (x3**2+y3**2)*(x2*y1-x1*y2)\n",
    "\n",
    "    # In case a is zero (so radius is infinity)\n",
    "    try:\n",
    "        r = abs((b**2+c**2-4*a*d) / abs(4*a**2)) ** 0.5\n",
    "    except:\n",
    "        r = 999\n",
    "\n",
    "    return r\n",
    "\n",
    "\n",
    "# Returns indexes of next index and index+lookfront\n",
    "# We need this to calculate the radius for next track section.\n",
    "def circle_indexes(mylist, index_car, add_index_1=0, add_index_2=0):\n",
    "\n",
    "    list_len = len(mylist)\n",
    "\n",
    "    # if index >= list_len:\n",
    "    #     raise ValueError(\"Index out of range in circle_indexes()\")\n",
    "\n",
    "    # Use modulo to consider that track is cyclical\n",
    "    index_1 = (index_car + add_index_1) % list_len\n",
    "    index_2 = (index_car + add_index_2) % list_len\n",
    "\n",
    "    return [index_car, index_1, index_2]\n",
    "\n",
    "\n",
    "def optimal_velocity(track, min_speed, max_speed, look_ahead_points):\n",
    "\n",
    "    # Calculate the radius for every point of the track\n",
    "    radius = []\n",
    "    for i in range(len(track)):\n",
    "        indexes = circle_indexes(track, i, add_index_1=-1, add_index_2=1)\n",
    "        coords = [track[indexes[0]],\n",
    "                  track[indexes[1]], track[indexes[2]]]\n",
    "        radius.append(circle_radius(coords))\n",
    "\n",
    "    # Get the max_velocity for the smallest radius\n",
    "    # That value should multiplied by a constant multiple\n",
    "    v_min_r = min(radius)**0.5\n",
    "    constant_multiple = min_speed / v_min_r\n",
    "    print(f\"Constant multiple for optimal speed: {constant_multiple}\")\n",
    "\n",
    "    if look_ahead_points == 0:\n",
    "        # Get the maximal velocity from radius\n",
    "        max_velocity = [(constant_multiple * i**0.5) for i in radius]\n",
    "        # Get velocity from max_velocity (cap at MAX_SPEED)\n",
    "        velocity = [min(v, max_speed) for v in max_velocity]\n",
    "        return velocity\n",
    "\n",
    "    else:\n",
    "        # Looks at the next n radii of points and takes the minimum\n",
    "        # goal: reduce lookahead until car crashes bc no time to break\n",
    "        LOOK_AHEAD_POINTS = look_ahead_points\n",
    "        radius_lookahead = []\n",
    "        for i in range(len(radius)):\n",
    "            next_n_radius = []\n",
    "            for j in range(LOOK_AHEAD_POINTS+1):\n",
    "                index = circle_indexes(\n",
    "                    mylist=radius, index_car=i, add_index_1=j)[1]\n",
    "                next_n_radius.append(radius[index])\n",
    "            radius_lookahead.append(min(next_n_radius))\n",
    "        max_velocity_lookahead = [(constant_multiple * i**0.5)\n",
    "                                  for i in radius_lookahead]\n",
    "        velocity_lookahead = [min(v, max_speed)\n",
    "                              for v in max_velocity_lookahead]\n",
    "        return velocity_lookahead\n",
    "\n",
    "\n",
    "# For each point in racing track, check if left curve (returns boolean)\n",
    "def is_left_curve(coords):\n",
    "\n",
    "    # Flatten the list and assign to variables (makes code easier to read later)\n",
    "    x1, y1, x2, y2, x3, y3 = [i for sub in coords for i in sub]\n",
    "\n",
    "    return ((x2-x1)*(y3-y1) - (y2-y1)*(x3-x1)) > 0\n",
    "\n",
    "\n",
    "# Calculate the distance between 2 points\n",
    "def dist_2_points(x1, x2, y1, y2):\n",
    "        return abs(abs(x1-x2)**2 + abs(y1-y2)**2)**0.5"
   ]
  },
  {
   "cell_type": "markdown",
   "metadata": {},
   "source": [
    "# Part 1: Calculate optimal speed\n",
    "\n",
    "- Change ```LOOK_AHEAD_POINTS``` to influence how many points the algorithm looks ahead (the higher, the sooner the car will start to break)\n",
    "- Change ```MIN_SPEED``` and ```MAX_SPEED``` to fit the track and model !"
   ]
  },
  {
   "cell_type": "code",
   "execution_count": 6,
   "metadata": {},
   "outputs": [
    {
     "name": "stdout",
     "output_type": "stream",
     "text": [
      "Constant multiple for optimal speed: 2.1788803060456283\n"
     ]
    }
   ],
   "source": [
    "LOOK_AHEAD_POINTS = 10\n",
    "MIN_SPEED = 1.2\n",
    "MAX_SPEED = 4\n",
    "\n",
    "# Calculate optimal speed\n",
    "velocity = optimal_velocity(track=racing_track, \n",
    "    min_speed=MIN_SPEED, max_speed=MAX_SPEED, look_ahead_points=LOOK_AHEAD_POINTS)"
   ]
  },
  {
   "cell_type": "code",
   "execution_count": 7,
   "metadata": {},
   "outputs": [],
   "source": [
    "new_velocity = []\n",
    "rev_v = velocity[::-1]\n",
    "for i, vel in enumerate(rev_v, LOOK_AHEAD_POINTS):\n",
    "    meanN = np.mean(rev_v[i-LOOK_AHEAD_POINTS:i])\n",
    "    if vel > 2.1 and vel >= meanN:\n",
    "        new_velocity.append(meanN)\n",
    "    else:\n",
    "        new_velocity.append(vel)\n",
    "\n",
    "new_velocity = new_velocity[::-1]"
   ]
  },
  {
   "cell_type": "code",
   "execution_count": 8,
   "metadata": {},
   "outputs": [
    {
     "data": {
      "text/plain": [
       "False"
      ]
     },
     "execution_count": 8,
     "metadata": {},
     "output_type": "execute_result"
    }
   ],
   "source": [
    "velocity == new_velocity"
   ]
  },
  {
   "cell_type": "code",
   "execution_count": 9,
   "metadata": {},
   "outputs": [
    {
     "name": "stdout",
     "output_type": "stream",
     "text": [
      "(4, 4.0)\n",
      "(4, 4.0)\n",
      "(4, 4.0)\n",
      "(4, 4.0)\n",
      "(4, 4.0)\n",
      "(4, 4.0)\n",
      "(4, 4.0)\n",
      "(4, 4.0)\n",
      "(4, 4.0)\n",
      "(4, 4.0)\n",
      "(4, 4.0)\n",
      "(4, 4.0)\n",
      "(4, 4.0)\n",
      "(4, 4.0)\n",
      "(4, 4.0)\n",
      "(4, 4.0)\n",
      "(4, 4.0)\n",
      "(4, 4.0)\n",
      "(4, 4.0)\n",
      "(4, 4.0)\n",
      "(4, 4.0)\n",
      "(4, 4.0)\n",
      "(4, 4.0)\n",
      "(4, 4.0)\n",
      "(4, 4.0)\n",
      "(4, 4.0)\n",
      "(4, 4.0)\n",
      "(4, 4.0)\n",
      "(4, 4.0)\n",
      "(4, 4.0)\n",
      "(4, 4.0)\n",
      "(4, 4.0)\n",
      "(4, 4.0)\n",
      "(4, 4.0)\n",
      "(4, 4.0)\n",
      "(4, 4.0)\n",
      "(4, 4.0)\n",
      "(4, 4.0)\n",
      "(4, 4.0)\n",
      "(4, 4.0)\n",
      "(4, 4.0)\n",
      "(4, 4.0)\n",
      "(4, 4.0)\n",
      "(4, 4.0)\n",
      "(4, 4.0)\n",
      "(4, 4.0)\n",
      "(4, 4.0)\n",
      "(4, 4.0)\n",
      "(3.941863361737679, 3.941863361737679)\n",
      "(3.8344325965624177, 3.8344325965624177)\n",
      "(3.731222363181316, 3.731222363181316)\n",
      "(3.731222363181316, 3.731222363181316)\n",
      "(3.731222363181316, 3.731222363181316)\n",
      "(3.731222363181316, 3.731222363181316)\n",
      "(3.731222363181316, 3.731222363181316)\n",
      "(2.6570113983814174, 2.6570113983814174)\n",
      "(2.6570113983814174, 2.6570113983814174)\n",
      "(1.770661192360223, 1.770661192360223)\n",
      "(1.770661192360223, 1.770661192360223)\n",
      "(1.3637431828947448, 1.3637431828947448)\n",
      "(1.3637431828947448, 1.3637431828947448)\n",
      "(1.34535643099177, 1.34535643099177)\n",
      "(1.34535643099177, 1.34535643099177)\n",
      "(1.34535643099177, 1.34535643099177)\n",
      "(1.34535643099177, 1.34535643099177)\n",
      "(1.34535643099177, 1.34535643099177)\n",
      "(1.34535643099177, 1.34535643099177)\n",
      "(1.34535643099177, 1.34535643099177)\n",
      "(1.34535643099177, 1.34535643099177)\n",
      "(1.34535643099177, 1.34535643099177)\n",
      "(1.34535643099177, 1.34535643099177)\n",
      "(1.34535643099177, 1.34535643099177)\n",
      "(1.6125241816608682, 1.6125241816608682)\n",
      "(1.6125241816608682, 1.6125241816608682)\n",
      "(1.793954612464325, 1.793954612464325)\n",
      "(1.793954612464325, 1.793954612464325)\n",
      "(1.793954612464325, 1.793954612464325)\n",
      "(1.793954612464325, 1.793954612464325)\n",
      "(2.7834155452096097, 1.7220351651363957)\n",
      "(3.798176401329436, 1.9673171621701624)\n",
      "(4, 2.2327815190709854)\n",
      "(4, 2.498245875971808)\n",
      "(4, 2.7369934578057213)\n",
      "(3.9394440961677306, 2.9696854492564078)\n",
      "(3.9062619031494057, 3.180916178324916)\n",
      "(3.9062619031494057, 3.392146907393424)\n",
      "(3.9062619031494057, 3.603377636461931)\n",
      "(3.9062619031494057, 3.8146083655304395)\n",
      "(3.9062619031494057, 3.9062619031494057)\n",
      "(3.9062619031494057, 3.9062619031494057)\n",
      "(3.9062619031494057, 3.9062619031494057)\n",
      "(3.9062619031494057, 3.9062619031494057)\n",
      "(3.9062619031494057, 3.9062619031494057)\n",
      "(3.9062619031494057, 3.9062619031494057)\n",
      "(3.9062619031494057, 3.9062619031494057)\n",
      "(3.911934477550141, 3.906829160589479)\n",
      "(3.9533259065548134, 3.9115355609300204)\n",
      "(4, 3.9209093706150795)\n",
      "(4, 3.930283180300139)\n",
      "(4, 3.939656989985198)\n",
      "(4, 3.9490307996702576)\n",
      "(4, 3.958404609355317)\n",
      "(4, 3.967778419040376)\n",
      "(4, 3.977152228725436)\n",
      "(4, 3.9865260384104957)\n",
      "(4, 3.9953325906554817)\n",
      "(4, 4.0)\n",
      "(4, 4.0)\n",
      "(2.0543790698323594, 2.0543790698323594)\n",
      "(1.5063527114979256, 1.5063527114979256)\n",
      "(1.5063527114979256, 1.5063527114979256)\n",
      "(1.5063527114979256, 1.5063527114979256)\n",
      "(1.5063527114979256, 1.5063527114979256)\n",
      "(1.5063527114979256, 1.5063527114979256)\n",
      "(1.5063527114979256, 1.5063527114979256)\n",
      "(1.5063527114979256, 1.5063527114979256)\n",
      "(1.5063527114979256, 1.5063527114979256)\n",
      "(1.5063527114979256, 1.5063527114979256)\n",
      "(1.5063527114979256, 1.5063527114979256)\n",
      "(1.5063527114979256, 1.5063527114979256)\n",
      "(1.8484643168736106, 1.8484643168736106)\n",
      "(1.8484643168736106, 1.8484643168736106)\n",
      "(2.155488596482382, 1.639688621071508)\n",
      "(2.155488596482382, 1.7046022095699538)\n",
      "(2.155488596482382, 1.7695157980683995)\n",
      "(2.155488596482382, 1.834429386566845)\n",
      "(2.155488596482382, 1.8993429750652908)\n",
      "(2.155488596482382, 1.9642565635637361)\n",
      "(2.155488596482382, 2.0291701520621817)\n",
      "(2.155488596482382, 2.0940837405606274)\n",
      "(2.155488596482382, 2.1247861685215046)\n",
      "(2.236706405594762, 2.1636103773936197)\n",
      "(2.236706405594762, 2.171732158304858)\n",
      "(2.3274976853113296, 2.1889330671877527)\n",
      "(3.1441099376811366, 2.2877952013076284)\n",
      "(4, 2.47224634165939)\n",
      "(4, 2.6566974820111517)\n",
      "(4, 2.8411486223629137)\n",
      "(4, 3.0255997627146756)\n",
      "(1.7453484651461202, 1.7453484651461202)\n",
      "(1.7453484651461202, 1.7453484651461202)\n",
      "(1.7453484651461202, 1.7453484651461202)\n",
      "(1.7453484651461202, 1.7453484651461202)\n",
      "(1.7453484651461202, 1.7453484651461202)\n",
      "(1.7453484651461202, 1.7453484651461202)\n",
      "(1.7453484651461202, 1.7453484651461202)\n",
      "(1.7453484651461202, 1.7453484651461202)\n",
      "(1.7453484651461202, 1.7453484651461202)\n",
      "(1.7453484651461202, 1.7453484651461202)\n",
      "(1.7453484651461202, 1.7453484651461202)\n",
      "(2.0677926150348567, 2.0677926150348567)\n",
      "(1.771391545470492, 1.771391545470492)\n",
      "(1.771391545470492, 1.771391545470492)\n",
      "(1.771391545470492, 1.771391545470492)\n",
      "(1.771391545470492, 1.771391545470492)\n",
      "(1.771391545470492, 1.771391545470492)\n",
      "(1.771391545470492, 1.771391545470492)\n",
      "(1.771391545470492, 1.771391545470492)\n",
      "(1.771391545470492, 1.771391545470492)\n",
      "(1.771391545470492, 1.771391545470492)\n",
      "(1.771391545470492, 1.771391545470492)\n",
      "(1.771391545470492, 1.771391545470492)\n",
      "(2.144576374247762, 1.8087100283482194)\n",
      "(3.137555125592887, 1.9453263863604586)\n",
      "(3.7070956080415227, 2.1388967926175617)\n",
      "(4, 2.3617576380705128)\n",
      "(4, 2.5846184835234634)\n",
      "(4, 2.8074793289764144)\n",
      "(4, 3.030340174429365)\n",
      "(4, 3.253201019882316)\n",
      "(4, 3.4760618653352666)\n",
      "(4, 3.698922710788217)\n",
      "(4, 3.884465073363441)\n",
      "(4, 3.970709560804152)\n",
      "(4, 4.0)\n",
      "(4, 4.0)\n",
      "(4, 4.0)\n",
      "(4, 4.0)\n",
      "(4, 4.0)\n",
      "(4, 4.0)\n",
      "(4, 4.0)\n",
      "(4, 4.0)\n",
      "(4, 4.0)\n",
      "(4, 4.0)\n",
      "(4, 4.0)\n",
      "(4, 4.0)\n",
      "(4, 4.0)\n",
      "(4, 4.0)\n",
      "(4, 4.0)\n",
      "(3.3796027753588693, 3.3796027753588693)\n",
      "(3.320807698888878, 3.320807698888878)\n",
      "(2.1338748699281296, 2.1338748699281296)\n",
      "(1.888765275894054, 1.888765275894054)\n",
      "(1.888765275894054, 1.888765275894054)\n",
      "(1.888765275894054, 1.888765275894054)\n",
      "(1.888765275894054, 1.888765275894054)\n",
      "(1.888765275894054, 1.888765275894054)\n",
      "(1.888765275894054, 1.888765275894054)\n",
      "(1.888765275894054, 1.888765275894054)\n",
      "(1.888765275894054, 1.888765275894054)\n",
      "(1.888765275894054, 1.888765275894054)\n",
      "(1.888765275894054, 1.888765275894054)\n",
      "(1.888765275894054, 1.888765275894054)\n",
      "(2.250437987998407, 1.9249325471044894)\n",
      "(2.250589775246653, 1.9611149970397495)\n",
      "(3.379356562757214, 2.1101741257260658)\n",
      "(4, 2.3212975981366606)\n",
      "(4, 2.5324210705472545)\n",
      "(4, 2.7435445429578493)\n",
      "(4, 2.9546680153684437)\n",
      "(4, 3.1657914877790385)\n",
      "(4, 3.376914960189633)\n",
      "(4, 3.5880384326002277)\n",
      "(3.3983737341972917, 3.3983737341972917)\n",
      "(2.616517432696003, 2.616517432696003)\n",
      "(1.4744464105214896, 1.4744464105214896)\n",
      "(1.4744464105214896, 1.4744464105214896)\n",
      "(1.4744464105214896, 1.4744464105214896)\n",
      "(1.4744464105214896, 1.4744464105214896)\n",
      "(1.4744464105214896, 1.4744464105214896)\n",
      "(1.4744464105214896, 1.4744464105214896)\n",
      "(1.4744464105214896, 1.4744464105214896)\n",
      "(1.4744464105214896, 1.4744464105214896)\n",
      "(1.2776951215754444, 1.2776951215754444)\n",
      "(1.2776951215754444, 1.2776951215754444)\n",
      "(1.2, 1.2)\n",
      "(1.2, 1.2)\n",
      "(1.2, 1.2)\n",
      "(1.2, 1.2)\n",
      "(1.2, 1.2)\n",
      "(1.2, 1.2)\n",
      "(1.2, 1.2)\n",
      "(1.2, 1.2)\n",
      "(1.2, 1.2)\n",
      "(1.2, 1.2)\n",
      "(1.2, 1.2)\n",
      "(1.5064304456371926, 1.5064304456371926)\n",
      "(1.9448943906721603, 1.9448943906721603)\n",
      "(4, 1.5851324836309353)\n",
      "(4, 1.8651324836309353)\n",
      "(4, 2.1451324836309356)\n",
      "(4, 2.425132483630935)\n",
      "(4, 2.705132483630935)\n",
      "(4, 2.9851324836309354)\n",
      "(4, 3.2651324836309357)\n",
      "(4, 3.5451324836309355)\n",
      "(3.3923171633778955, 3.3923171633778955)\n",
      "(1.9364561651277568, 1.9364561651277568)\n",
      "(1.9364561651277568, 1.9364561651277568)\n",
      "(1.5804699386549246, 1.5804699386549246)\n",
      "(1.5804699386549246, 1.5804699386549246)\n",
      "(1.5804699386549246, 1.5804699386549246)\n",
      "(1.5804699386549246, 1.5804699386549246)\n",
      "(1.5804699386549246, 1.5804699386549246)\n",
      "(1.5804699386549246, 1.5804699386549246)\n",
      "(1.5804699386549246, 1.5804699386549246)\n",
      "(1.5804699386549246, 1.5804699386549246)\n",
      "(1.5804699386549246, 1.5804699386549246)\n",
      "(1.5804699386549246, 1.5804699386549246)\n",
      "(1.5804699386549246, 1.5804699386549246)\n",
      "(1.5915098985405747, 1.5915098985405747)\n",
      "(1.4712677248079575, 1.4712677248079575)\n",
      "(1.4712677248079575, 1.4712677248079575)\n",
      "(1.4712677248079575, 1.4712677248079575)\n",
      "(1.4712677248079575, 1.4712677248079575)\n",
      "(1.4712677248079575, 1.4712677248079575)\n",
      "(1.4712677248079575, 1.4712677248079575)\n",
      "(1.4712677248079575, 1.4712677248079575)\n",
      "(1.4712677248079575, 1.4712677248079575)\n",
      "(1.4712677248079575, 1.4712677248079575)\n",
      "(1.4712677248079575, 1.4712677248079575)\n",
      "(1.4712677248079575, 1.4712677248079575)\n",
      "(1.5795484824145962, 1.5795484824145962)\n",
      "(1.6163723707116, 1.6163723707116)\n",
      "(3.1498633699264644, 1.6644658296708363)\n",
      "(4, 1.9173390571900408)\n",
      "(4, 2.170212284709245)\n",
      "(4, 2.4230855122284494)\n",
      "(4, 2.675958739747654)\n",
      "(2.086908051799546, 2.086908051799546)\n",
      "(1.7924350337301382, 1.7924350337301382)\n",
      "(1.6693615067122136, 1.6693615067122136)\n",
      "(1.6693615067122136, 1.6693615067122136)\n",
      "(1.6693615067122136, 1.6693615067122136)\n",
      "(1.6693615067122136, 1.6693615067122136)\n",
      "(1.6693615067122136, 1.6693615067122136)\n",
      "(1.6693615067122136, 1.6693615067122136)\n",
      "(1.6693615067122136, 1.6693615067122136)\n",
      "(1.6693615067122136, 1.6693615067122136)\n",
      "(1.391388304445747, 1.391388304445747)\n",
      "(1.391388304445747, 1.391388304445747)\n",
      "(1.391388304445747, 1.391388304445747)\n",
      "(1.391388304445747, 1.391388304445747)\n",
      "(1.391388304445747, 1.391388304445747)\n",
      "(1.391388304445747, 1.391388304445747)\n",
      "(1.391388304445747, 1.391388304445747)\n",
      "(1.391388304445747, 1.391388304445747)\n",
      "(1.391388304445747, 1.391388304445747)\n",
      "(1.391388304445747, 1.391388304445747)\n",
      "(1.391388304445747, 1.391388304445747)\n",
      "(1.416676042212707, 1.416676042212707)\n",
      "(1.416676042212707, 1.416676042212707)\n",
      "(2.19419395923512, 1.4767264174780763)\n",
      "(2.19419395923512, 1.5570069829570137)\n",
      "(2.403403210645947, 1.6582084735770337)\n",
      "(4, 1.919069643132459)\n",
      "(4, 2.1799308126878842)\n",
      "(4, 2.4407919822433097)\n",
      "(4, 2.7016531517987348)\n",
      "(4, 2.9625143213541603)\n",
      "(4, 3.220846717132889)\n",
      "(4, 3.479179112911619)\n",
      "(4, 3.659759716988107)\n",
      "(4, 3.8403403210645948)\n",
      "(4, 4.0)\n",
      "(4, 4.0)\n",
      "(4, 4.0)\n",
      "(4, 4.0)\n",
      "(4, 4.0)\n",
      "(4, 4.0)\n",
      "(4, 4.0)\n",
      "(4, 4.0)\n",
      "(4, 4.0)\n",
      "(4, 4.0)\n",
      "(4, 4.0)\n",
      "(4, 4.0)\n",
      "(4, 4.0)\n",
      "(4, 4.0)\n",
      "(4, 4.0)\n",
      "(4, 4.0)\n",
      "(4, 4.0)\n",
      "(4, 4.0)\n",
      "(4, 4.0)\n",
      "(4, 4.0)\n",
      "(4, 4.0)\n",
      "(4, 4.0)\n",
      "(4, 4.0)\n",
      "(4, 4.0)\n",
      "(4, 4.0)\n",
      "(4, 4.0)\n",
      "(4, 4.0)\n",
      "(4, 4.0)\n",
      "(4, 4.0)\n",
      "(4, 4.0)\n",
      "(4, 4.0)\n",
      "(4, 4.0)\n",
      "(4, 4.0)\n",
      "(4, 4.0)\n",
      "(4, 4.0)\n",
      "(4, 4.0)\n",
      "(4, 4.0)\n",
      "(4, 4.0)\n",
      "(4, 4.0)\n"
     ]
    }
   ],
   "source": [
    "for v in zip(velocity, new_velocity):\n",
    "    print(v)"
   ]
  },
  {
   "cell_type": "markdown",
   "metadata": {},
   "source": [
    "#### Visualization"
   ]
  },
  {
   "cell_type": "code",
   "execution_count": 10,
   "metadata": {},
   "outputs": [
    {
     "data": {
      "image/png": "[encoded data removed]",
      "text/plain": [
       "<Figure size 576x360 with 1 Axes>"
      ]
     },
     "metadata": {
      "needs_background": "light"
     },
     "output_type": "display_data"
    },
    {
     "data": {
      "image/png": "[encoded data removed]",
      "text/plain": [
       "<Figure size 576x360 with 1 Axes>"
      ]
     },
     "metadata": {
      "needs_background": "light"
     },
     "output_type": "display_data"
    }
   ],
   "source": [
    "from matplotlib import pyplot as plt\n",
    "import seaborn as sns\n",
    "\n",
    "x = [i[0] for i in racing_track]\n",
    "y = [i[1] for i in racing_track]\n",
    "\n",
    "# # Without lookahead\n",
    "# velocity_no_lookahead = optimal_velocity(track=racing_track,\n",
    "#     min_speed=MIN_SPEED, max_speed=MAX_SPEED, look_ahead_points=LOOK_AHEAD_POINTS)\n",
    "\n",
    "fig, ax = plt.subplots(figsize=(8, 5))\n",
    "ax = sns.scatterplot(x=x, y=y, hue=new_velocity,\n",
    "                     palette=\"vlag\").set_title(\"New Velocity\")\n",
    "\n",
    "fig, ax = plt.subplots(figsize=(8, 5))\n",
    "ax = sns.scatterplot(x=x, y=y, hue=velocity, palette=\"vlag\").set_title(\n",
    "    f\"With lookahead: {LOOK_AHEAD_POINTS}\")"
   ]
  },
  {
   "cell_type": "code",
   "execution_count": 11,
   "metadata": {},
   "outputs": [],
   "source": [
    "velocity = new_velocity"
   ]
  },
  {
   "cell_type": "markdown",
   "metadata": {},
   "source": [
    "#### Calculate distance and optimal time between each racing point"
   ]
  },
  {
   "cell_type": "code",
   "execution_count": 12,
   "metadata": {},
   "outputs": [
    {
     "name": "stdout",
     "output_type": "stream",
     "text": [
      "Total time for track, if racing line and speeds are followed perfectly: 20.575703965938185 s\n"
     ]
    }
   ],
   "source": [
    "distance_to_prev = []\n",
    "for i in range(len(racing_track)):\n",
    "    indexes = circle_indexes(racing_track, i, add_index_1=-1, add_index_2=0)[0:2]\n",
    "    coords = [racing_track[indexes[0]],racing_track[indexes[1]]]\n",
    "    dist_to_prev = dist_2_points(x1=coords[0][0], x2=coords[1][0], y1=coords[0][1], y2=coords[1][1])\n",
    "    distance_to_prev.append(dist_to_prev)\n",
    "    \n",
    "time_to_prev = [(distance_to_prev[i]/velocity[i]) for i in range(len(racing_track))]\n",
    "\n",
    "total_time = sum(time_to_prev)\n",
    "print(f\"Total time for track, if racing line and speeds are followed perfectly: {total_time} s\")"
   ]
  },
  {
   "cell_type": "markdown",
   "metadata": {},
   "source": [
    "## Append everything together and save to .txt file"
   ]
  },
  {
   "cell_type": "code",
   "execution_count": 330,
   "metadata": {},
   "outputs": [],
   "source": [
    "# Now we have list with columns (x,y,speed,distance,time)\n",
    "racing_track_everything = []\n",
    "for i in range(len(racing_track)):\n",
    "    racing_track_everything.append([racing_track[i][0],\n",
    "                                    racing_track[i][1],\n",
    "                                    velocity[i],\n",
    "                                    time_to_prev[i]])\n",
    "# Round to 5 decimals\n",
    "racing_track_everything = np.around(racing_track_everything, 5).tolist()"
   ]
  },
  {
   "cell_type": "code",
   "execution_count": 331,
   "metadata": {},
   "outputs": [],
   "source": [
    "# Write to txt file\n",
    "with open(f'optimals_newest_{TRACK_NAME}.txt', 'w') as f:\n",
    "    f.write(\"[\")\n",
    "    for line in racing_track_everything:\n",
    "        f.write(\"%s\" % line)\n",
    "        if line != racing_track_everything[-1]:\n",
    "            f.write(\",\\n\")\n",
    "    f.write(\"]\")"
   ]
  },
  {
   "cell_type": "markdown",
   "metadata": {},
   "source": [
    "# Part 2: Calculate Optimal Action Space"
   ]
  },
  {
   "cell_type": "code",
   "execution_count": 332,
   "metadata": {},
   "outputs": [],
   "source": [
    "# Calculate the radius for every point of the racing_track\n",
    "radius = []\n",
    "for i in range(len(racing_track)):\n",
    "    indexes = circle_indexes(racing_track, i, add_index_1=-1, add_index_2=1) # CHANGE BACK? 1;2\n",
    "    coords = [racing_track[indexes[0]],\n",
    "              racing_track[indexes[1]], racing_track[indexes[2]]]\n",
    "    radius.append(circle_radius(coords))\n",
    "\n",
    "# Calculate curve direction\n",
    "left_curve = []\n",
    "for i in range(len(racing_track)):\n",
    "    indexes = circle_indexes(racing_track, i, add_index_1=-1, add_index_2=1)\n",
    "    coords = [racing_track[indexes[1]],\n",
    "              racing_track[indexes[0]], racing_track[indexes[2]]]\n",
    "    left_curve.append(is_left_curve(coords))\n",
    "\n",
    "# Calculate radius with + and - for direction (+ is left, - is right)\n",
    "radius_direction = []\n",
    "for i in range(len(racing_track)):\n",
    "    radius_with_direction = radius[i]\n",
    "    if left_curve[i] == False:\n",
    "        radius_with_direction *= -1\n",
    "    radius_direction.append(radius_with_direction)\n",
    "\n",
    "# Calculate steering with + and -\n",
    "dist_wheels_front_back = 0.165 # meters\n",
    "steering = []\n",
    "for i in range(len(racing_track)):\n",
    "    steer = math.degrees(math.asin(dist_wheels_front_back/radius_direction[i]))\n",
    "    steering.append(steer)\n",
    "    \n",
    "# Merge relevant lists into dataframe\n",
    "all_actions = pd.DataFrame({\"velocity\":velocity,\n",
    "                            \"steering\":steering})"
   ]
  },
  {
   "cell_type": "code",
   "execution_count": 333,
   "metadata": {},
   "outputs": [
    {
     "data": {
      "text/plain": [
       "0.2648630761178624"
      ]
     },
     "execution_count": 333,
     "metadata": {},
     "output_type": "execute_result"
    }
   ],
   "source": [
    "min(radius)"
   ]
  },
  {
   "cell_type": "code",
   "execution_count": 334,
   "metadata": {},
   "outputs": [
    {
     "data": {
      "text/html": [
       "<div>\n",
       "<style scoped>\n",
       "    .dataframe tbody tr th:only-of-type {\n",
       "        vertical-align: middle;\n",
       "    }\n",
       "\n",
       "    .dataframe tbody tr th {\n",
       "        vertical-align: top;\n",
       "    }\n",
       "\n",
       "    .dataframe thead th {\n",
       "        text-align: right;\n",
       "    }\n",
       "</style>\n",
       "<table border=\"1\" class=\"dataframe\">\n",
       "  <thead>\n",
       "    <tr style=\"text-align: right;\">\n",
       "      <th></th>\n",
       "      <th>velocity</th>\n",
       "      <th>steering</th>\n",
       "    </tr>\n",
       "  </thead>\n",
       "  <tbody>\n",
       "    <tr>\n",
       "      <th>0</th>\n",
       "      <td>4.5</td>\n",
       "      <td>-0.180195</td>\n",
       "    </tr>\n",
       "    <tr>\n",
       "      <th>1</th>\n",
       "      <td>4.5</td>\n",
       "      <td>-0.291053</td>\n",
       "    </tr>\n",
       "    <tr>\n",
       "      <th>2</th>\n",
       "      <td>4.5</td>\n",
       "      <td>-0.208653</td>\n",
       "    </tr>\n",
       "    <tr>\n",
       "      <th>3</th>\n",
       "      <td>4.5</td>\n",
       "      <td>-0.107280</td>\n",
       "    </tr>\n",
       "    <tr>\n",
       "      <th>4</th>\n",
       "      <td>4.5</td>\n",
       "      <td>-0.195020</td>\n",
       "    </tr>\n",
       "    <tr>\n",
       "      <th>...</th>\n",
       "      <td>...</td>\n",
       "      <td>...</td>\n",
       "    </tr>\n",
       "    <tr>\n",
       "      <th>702</th>\n",
       "      <td>4.5</td>\n",
       "      <td>-0.223760</td>\n",
       "    </tr>\n",
       "    <tr>\n",
       "      <th>703</th>\n",
       "      <td>4.5</td>\n",
       "      <td>-0.160583</td>\n",
       "    </tr>\n",
       "    <tr>\n",
       "      <th>704</th>\n",
       "      <td>4.5</td>\n",
       "      <td>-0.210770</td>\n",
       "    </tr>\n",
       "    <tr>\n",
       "      <th>705</th>\n",
       "      <td>4.5</td>\n",
       "      <td>-0.279832</td>\n",
       "    </tr>\n",
       "    <tr>\n",
       "      <th>706</th>\n",
       "      <td>4.5</td>\n",
       "      <td>-0.188942</td>\n",
       "    </tr>\n",
       "  </tbody>\n",
       "</table>\n",
       "<p>707 rows × 2 columns</p>\n",
       "</div>"
      ],
      "text/plain": [
       "     velocity  steering\n",
       "0         4.5 -0.180195\n",
       "1         4.5 -0.291053\n",
       "2         4.5 -0.208653\n",
       "3         4.5 -0.107280\n",
       "4         4.5 -0.195020\n",
       "..        ...       ...\n",
       "702       4.5 -0.223760\n",
       "703       4.5 -0.160583\n",
       "704       4.5 -0.210770\n",
       "705       4.5 -0.279832\n",
       "706       4.5 -0.188942\n",
       "\n",
       "[707 rows x 2 columns]"
      ]
     },
     "execution_count": 334,
     "metadata": {},
     "output_type": "execute_result"
    }
   ],
   "source": [
    "all_actions"
   ]
  },
  {
   "cell_type": "code",
   "execution_count": 335,
   "metadata": {},
   "outputs": [
    {
     "data": {
      "text/plain": [
       "Text(0.5, 1.0, 'With lookahead: 8')"
      ]
     },
     "execution_count": 335,
     "metadata": {},
     "output_type": "execute_result"
    },
    {
     "data": {
      "image/png": "[encoded data removed]",
      "text/plain": [
       "<Figure size 432x288 with 1 Axes>"
      ]
     },
     "metadata": {
      "needs_background": "light"
     },
     "output_type": "display_data"
    }
   ],
   "source": [
    "# Visualize action space\n",
    "ax = sns.scatterplot(data=all_actions, x=\"steering\", y=\"velocity\")\n",
    "ax.invert_xaxis()\n",
    "ax.set_title(f\"With lookahead: {LOOK_AHEAD_POINTS}\")"
   ]
  },
  {
   "cell_type": "code",
   "execution_count": 336,
   "metadata": {},
   "outputs": [
    {
     "data": {
      "image/png": "[encoded data removed]",
      "text/plain": [
       "<Figure size 720x360 with 2 Axes>"
      ]
     },
     "metadata": {
      "needs_background": "light"
     },
     "output_type": "display_data"
    }
   ],
   "source": [
    "# Visualize all actions\n",
    "plt.figure(figsize=(10, 5))\n",
    "sns.lineplot(data=all_actions[\"velocity\"], color=\"r\")\n",
    "ax2 = plt.twinx()\n",
    "sns.lineplot(data=all_actions[\"steering\"], color=\"g\", ax=ax2)\n",
    "plt.axhline(0, ls='--', color=\"g\")\n",
    "a = plt.title(\"Speed (red), Steering (green; positive=left)\")"
   ]
  },
  {
   "cell_type": "markdown",
   "metadata": {},
   "source": [
    "#### Calculate Action Space with K-Means and Resampling each point with normal distribution"
   ]
  },
  {
   "cell_type": "code",
   "execution_count": 337,
   "metadata": {},
   "outputs": [
    {
     "data": {
      "text/plain": [
       "<AxesSubplot:ylabel='Density'>"
      ]
     },
     "execution_count": 337,
     "metadata": {},
     "output_type": "execute_result"
    },
    {
     "data": {
      "image/png": "[encoded data removed]",
      "text/plain": [
       "<Figure size 432x288 with 1 Axes>"
      ]
     },
     "metadata": {
      "needs_background": "light"
     },
     "output_type": "display_data"
    }
   ],
   "source": [
    "# Steering: Find standard deviation so that probability of >10 degrees steering is 5%\n",
    "steering_sd = -15 / stats.norm.ppf(0.05)\n",
    "steering_sd\n",
    "sns.distplot(np.random.normal(0,steering_sd,10000))"
   ]
  },
  {
   "cell_type": "code",
   "execution_count": 338,
   "metadata": {},
   "outputs": [
    {
     "data": {
      "text/plain": [
       "<AxesSubplot:ylabel='Density'>"
      ]
     },
     "execution_count": 338,
     "metadata": {},
     "output_type": "execute_result"
    },
    {
     "data": {
      "image/png": "[encoded data removed]",
      "text/plain": [
       "<Figure size 432x288 with 1 Axes>"
      ]
     },
     "metadata": {
      "needs_background": "light"
     },
     "output_type": "display_data"
    }
   ],
   "source": [
    "# Velocity: Find standard deviation so that probability of >0.25m/s deviation is 0%\n",
    "# Note: Here, probability is set to 0%, so no noise regarding velocity\n",
    "velocity_sd = -0.25 / stats.norm.ppf(0.00)\n",
    "velocity_sd\n",
    "sns.distplot(np.random.normal(0,velocity_sd,10000))"
   ]
  },
  {
   "cell_type": "code",
   "execution_count": 339,
   "metadata": {},
   "outputs": [
    {
     "data": {
      "text/plain": [
       "(471758, 2)"
      ]
     },
     "execution_count": 339,
     "metadata": {},
     "output_type": "execute_result"
    }
   ],
   "source": [
    "all_actions_norm = all_actions.copy()\n",
    "\n",
    "all_actions_norm_len = len(all_actions_norm)\n",
    "resample_size = 1000\n",
    "\n",
    "# Add gaussian noise to action space\n",
    "for i in range(all_actions_norm_len):\n",
    "    v_true = all_actions_norm.iloc[i][\"velocity\"]\n",
    "    s_true = all_actions_norm.iloc[i][\"steering\"]\n",
    "    v_norm = np.random.normal(loc=v_true, scale=velocity_sd, size=resample_size)\n",
    "    s_norm = np.random.normal(loc=s_true, scale=steering_sd, size=resample_size)\n",
    "    vs_norm = pd.DataFrame(np.column_stack([v_norm,s_norm]), columns=[\"velocity\",\"steering\"])\n",
    "    all_actions_norm = pd.concat([all_actions_norm,vs_norm], axis=0, ignore_index=True)\n",
    "    \n",
    "# Take out actions with max speed, so that they are not affected by gaussian noise\n",
    "# We do this because there are disproportionally many points with max speed, so \n",
    "# K-Means will focus too much on these\n",
    "all_actions_norm = all_actions_norm[all_actions_norm[\"velocity\"] < MAX_SPEED]\n",
    "    \n",
    "# Add initial actions to action space (to make clustering more focused on initial actions)\n",
    "add_n_initial_actions = int(resample_size / 8)\n",
    "add_initial_actions = pd.DataFrame()\n",
    "for i in range(add_n_initial_actions):\n",
    "    add_initial_actions = pd.concat([add_initial_actions,all_actions], axis=0, ignore_index=True)\n",
    "all_actions_norm = pd.concat([all_actions_norm,add_initial_actions], axis=0, ignore_index=True)\n",
    "\n",
    "\n",
    "# Display actions shape\n",
    "all_actions_norm.shape"
   ]
  },
  {
   "cell_type": "code",
   "execution_count": 340,
   "metadata": {},
   "outputs": [
    {
     "data": {
      "image/png": "[encoded data removed]",
      "text/plain": [
       "<Figure size 432x288 with 1 Axes>"
      ]
     },
     "metadata": {
      "needs_background": "light"
     },
     "output_type": "display_data"
    }
   ],
   "source": [
    "all_actions_norm_less = all_actions_norm.sample(frac=0.01).reset_index(drop=True) # sample bc less compute time\n",
    "ax = sns.kdeplot(data=all_actions_norm_less[\"steering\"],data2=all_actions_norm_less[\"velocity\"])\n",
    "ax.invert_xaxis()"
   ]
  },
  {
   "cell_type": "code",
   "execution_count": 341,
   "metadata": {},
   "outputs": [],
   "source": [
    "X = all_actions_norm\n",
    "\n",
    "X = all_actions\n",
    "\n",
    "# Calculate action space with KMeans\n",
    "\n",
    "from sklearn.preprocessing import MinMaxScaler\n",
    "from sklearn.cluster import MiniBatchKMeans\n",
    "\n",
    "# Rescale data with minmax\n",
    "minmax_scaler = MinMaxScaler()\n",
    "X_minmax = pd.DataFrame(minmax_scaler.fit_transform(X), \n",
    "                                           columns=[\"velocity\",\"steering\"])\n",
    "\n",
    "# KMeans\n",
    "# remove 2 actions from KMeans so that low speed & high steering actions can be manually included\n",
    "n_clusters = 25-2#21-2\n",
    "model = MiniBatchKMeans(n_clusters=n_clusters).fit(X_minmax)\n",
    "\n",
    "# Centroids (interpretable)\n",
    "from sklearn.preprocessing import MinMaxScaler\n",
    "minmax_scaler = MinMaxScaler()\n",
    "X_minmax_fit = minmax_scaler.fit(X)\n",
    "X_centroids = pd.DataFrame(X_minmax_fit.inverse_transform(model.cluster_centers_), \n",
    "                                   columns=[\"velocity\",\"steering\"])\n",
    "\n",
    "# Add 2 manual actions\n",
    "# Reason: When car starts new episode, it does not start on or direction of racing line, so \n",
    "# it cannot steer enough to get on racing line\n",
    "manual_actions = pd.DataFrame({\"velocity\":[MIN_SPEED,MIN_SPEED],\"steering\":[30,-30]})\n",
    "X_centroids = pd.concat([X_centroids,manual_actions], ignore_index=True)\n",
    "\n",
    "action_space_e = X_centroids.copy()"
   ]
  },
  {
   "cell_type": "code",
   "execution_count": 342,
   "metadata": {},
   "outputs": [
    {
     "data": {
      "image/png": "[encoded data removed]",
      "text/plain": [
       "<Figure size 432x288 with 1 Axes>"
      ]
     },
     "metadata": {
      "needs_background": "light"
     },
     "output_type": "display_data"
    }
   ],
   "source": [
    "ax = sns.scatterplot(data=all_actions, x=\"steering\", y=\"velocity\", alpha=.1)\n",
    "ax = sns.scatterplot(data=action_space_e, x=\"steering\", y=\"velocity\")\n",
    "ax.invert_xaxis()"
   ]
  },
  {
   "cell_type": "markdown",
   "metadata": {},
   "source": [
    "*Note: Action space can be different every time it is computed because of randome resampling with gaussian noise and also because of the random seed with K-Means. Therefore, try out multiple iterations until you are happy with the result*"
   ]
  },
  {
   "cell_type": "markdown",
   "metadata": {},
   "source": [
    "#### Output as JSON format"
   ]
  },
  {
   "cell_type": "code",
   "execution_count": 343,
   "metadata": {},
   "outputs": [
    {
     "data": {
      "text/html": [
       "<div>\n",
       "<style scoped>\n",
       "    .dataframe tbody tr th:only-of-type {\n",
       "        vertical-align: middle;\n",
       "    }\n",
       "\n",
       "    .dataframe tbody tr th {\n",
       "        vertical-align: top;\n",
       "    }\n",
       "\n",
       "    .dataframe thead th {\n",
       "        text-align: right;\n",
       "    }\n",
       "</style>\n",
       "<table border=\"1\" class=\"dataframe\">\n",
       "  <thead>\n",
       "    <tr style=\"text-align: right;\">\n",
       "      <th></th>\n",
       "      <th>steering_angle</th>\n",
       "      <th>speed</th>\n",
       "      <th>index</th>\n",
       "    </tr>\n",
       "  </thead>\n",
       "  <tbody>\n",
       "    <tr>\n",
       "      <th>0</th>\n",
       "      <td>-2.0001</td>\n",
       "      <td>4.4833</td>\n",
       "      <td>0</td>\n",
       "    </tr>\n",
       "    <tr>\n",
       "      <th>1</th>\n",
       "      <td>1.0458</td>\n",
       "      <td>2.0903</td>\n",
       "      <td>1</td>\n",
       "    </tr>\n",
       "    <tr>\n",
       "      <th>2</th>\n",
       "      <td>-18.7730</td>\n",
       "      <td>1.8223</td>\n",
       "      <td>2</td>\n",
       "    </tr>\n",
       "    <tr>\n",
       "      <th>3</th>\n",
       "      <td>1.3371</td>\n",
       "      <td>3.2564</td>\n",
       "      <td>3</td>\n",
       "    </tr>\n",
       "    <tr>\n",
       "      <th>4</th>\n",
       "      <td>11.6759</td>\n",
       "      <td>2.2190</td>\n",
       "      <td>4</td>\n",
       "    </tr>\n",
       "    <tr>\n",
       "      <th>5</th>\n",
       "      <td>-3.6721</td>\n",
       "      <td>1.7317</td>\n",
       "      <td>5</td>\n",
       "    </tr>\n",
       "    <tr>\n",
       "      <th>6</th>\n",
       "      <td>-7.3570</td>\n",
       "      <td>2.6361</td>\n",
       "      <td>6</td>\n",
       "    </tr>\n",
       "    <tr>\n",
       "      <th>7</th>\n",
       "      <td>-11.6928</td>\n",
       "      <td>1.8709</td>\n",
       "      <td>7</td>\n",
       "    </tr>\n",
       "    <tr>\n",
       "      <th>8</th>\n",
       "      <td>0.1816</td>\n",
       "      <td>3.7913</td>\n",
       "      <td>8</td>\n",
       "    </tr>\n",
       "    <tr>\n",
       "      <th>9</th>\n",
       "      <td>20.0564</td>\n",
       "      <td>1.6611</td>\n",
       "      <td>9</td>\n",
       "    </tr>\n",
       "    <tr>\n",
       "      <th>10</th>\n",
       "      <td>0.7537</td>\n",
       "      <td>2.6541</td>\n",
       "      <td>10</td>\n",
       "    </tr>\n",
       "    <tr>\n",
       "      <th>11</th>\n",
       "      <td>-5.7494</td>\n",
       "      <td>3.1764</td>\n",
       "      <td>11</td>\n",
       "    </tr>\n",
       "    <tr>\n",
       "      <th>12</th>\n",
       "      <td>7.3762</td>\n",
       "      <td>1.5882</td>\n",
       "      <td>12</td>\n",
       "    </tr>\n",
       "    <tr>\n",
       "      <th>13</th>\n",
       "      <td>-0.1833</td>\n",
       "      <td>4.4991</td>\n",
       "      <td>13</td>\n",
       "    </tr>\n",
       "    <tr>\n",
       "      <th>14</th>\n",
       "      <td>15.7070</td>\n",
       "      <td>1.9705</td>\n",
       "      <td>14</td>\n",
       "    </tr>\n",
       "    <tr>\n",
       "      <th>15</th>\n",
       "      <td>-12.9711</td>\n",
       "      <td>2.1470</td>\n",
       "      <td>15</td>\n",
       "    </tr>\n",
       "    <tr>\n",
       "      <th>16</th>\n",
       "      <td>10.3087</td>\n",
       "      <td>2.5812</td>\n",
       "      <td>16</td>\n",
       "    </tr>\n",
       "    <tr>\n",
       "      <th>17</th>\n",
       "      <td>-29.5875</td>\n",
       "      <td>1.5364</td>\n",
       "      <td>17</td>\n",
       "    </tr>\n",
       "    <tr>\n",
       "      <th>18</th>\n",
       "      <td>-1.6929</td>\n",
       "      <td>4.2074</td>\n",
       "      <td>18</td>\n",
       "    </tr>\n",
       "    <tr>\n",
       "      <th>19</th>\n",
       "      <td>7.3444</td>\n",
       "      <td>1.9987</td>\n",
       "      <td>19</td>\n",
       "    </tr>\n",
       "    <tr>\n",
       "      <th>20</th>\n",
       "      <td>-1.2829</td>\n",
       "      <td>2.3701</td>\n",
       "      <td>20</td>\n",
       "    </tr>\n",
       "    <tr>\n",
       "      <th>21</th>\n",
       "      <td>1.9924</td>\n",
       "      <td>4.4723</td>\n",
       "      <td>21</td>\n",
       "    </tr>\n",
       "    <tr>\n",
       "      <th>22</th>\n",
       "      <td>-13.8233</td>\n",
       "      <td>1.5310</td>\n",
       "      <td>22</td>\n",
       "    </tr>\n",
       "    <tr>\n",
       "      <th>23</th>\n",
       "      <td>30.0000</td>\n",
       "      <td>1.4000</td>\n",
       "      <td>23</td>\n",
       "    </tr>\n",
       "    <tr>\n",
       "      <th>24</th>\n",
       "      <td>-30.0000</td>\n",
       "      <td>1.4000</td>\n",
       "      <td>24</td>\n",
       "    </tr>\n",
       "  </tbody>\n",
       "</table>\n",
       "</div>"
      ],
      "text/plain": [
       "    steering_angle   speed  index\n",
       "0          -2.0001  4.4833      0\n",
       "1           1.0458  2.0903      1\n",
       "2         -18.7730  1.8223      2\n",
       "3           1.3371  3.2564      3\n",
       "4          11.6759  2.2190      4\n",
       "5          -3.6721  1.7317      5\n",
       "6          -7.3570  2.6361      6\n",
       "7         -11.6928  1.8709      7\n",
       "8           0.1816  3.7913      8\n",
       "9          20.0564  1.6611      9\n",
       "10          0.7537  2.6541     10\n",
       "11         -5.7494  3.1764     11\n",
       "12          7.3762  1.5882     12\n",
       "13         -0.1833  4.4991     13\n",
       "14         15.7070  1.9705     14\n",
       "15        -12.9711  2.1470     15\n",
       "16         10.3087  2.5812     16\n",
       "17        -29.5875  1.5364     17\n",
       "18         -1.6929  4.2074     18\n",
       "19          7.3444  1.9987     19\n",
       "20         -1.2829  2.3701     20\n",
       "21          1.9924  4.4723     21\n",
       "22        -13.8233  1.5310     22\n",
       "23         30.0000  1.4000     23\n",
       "24        -30.0000  1.4000     24"
      ]
     },
     "execution_count": 343,
     "metadata": {},
     "output_type": "execute_result"
    }
   ],
   "source": [
    "# Output JSON format\n",
    "action_space_for_json = action_space_e[[\"steering\",\"velocity\"]].copy()\n",
    "    \n",
    "action_space_for_json = action_space_for_json.round(4)\n",
    "action_space_for_json.columns = [\"steering_angle\",\"speed\"]\n",
    "action_space_for_json[\"index\"] = action_space_for_json.index\n",
    "json_text = action_space_for_json.to_json(orient=\"records\", lines=False)\n",
    "\n",
    "action_space_for_json"
   ]
  },
  {
   "cell_type": "code",
   "execution_count": 344,
   "metadata": {},
   "outputs": [],
   "source": [
    "with open(f'AS21_newest_{TRACK_NAME}.txt', 'w') as f:\n",
    "    f.write(json_text)"
   ]
  },
  {
   "cell_type": "code",
   "execution_count": 345,
   "metadata": {},
   "outputs": [
    {
     "data": {
      "text/html": [
       "<div>\n",
       "<style scoped>\n",
       "    .dataframe tbody tr th:only-of-type {\n",
       "        vertical-align: middle;\n",
       "    }\n",
       "\n",
       "    .dataframe tbody tr th {\n",
       "        vertical-align: top;\n",
       "    }\n",
       "\n",
       "    .dataframe thead th {\n",
       "        text-align: right;\n",
       "    }\n",
       "</style>\n",
       "<table border=\"1\" class=\"dataframe\">\n",
       "  <thead>\n",
       "    <tr style=\"text-align: right;\">\n",
       "      <th></th>\n",
       "      <th>steering_angle</th>\n",
       "      <th>speed</th>\n",
       "      <th>index</th>\n",
       "    </tr>\n",
       "  </thead>\n",
       "  <tbody>\n",
       "    <tr>\n",
       "      <th>24</th>\n",
       "      <td>-30.0000</td>\n",
       "      <td>1.4000</td>\n",
       "      <td>24</td>\n",
       "    </tr>\n",
       "    <tr>\n",
       "      <th>17</th>\n",
       "      <td>-29.5875</td>\n",
       "      <td>1.5364</td>\n",
       "      <td>17</td>\n",
       "    </tr>\n",
       "    <tr>\n",
       "      <th>2</th>\n",
       "      <td>-18.7730</td>\n",
       "      <td>1.8223</td>\n",
       "      <td>2</td>\n",
       "    </tr>\n",
       "    <tr>\n",
       "      <th>22</th>\n",
       "      <td>-13.8233</td>\n",
       "      <td>1.5310</td>\n",
       "      <td>22</td>\n",
       "    </tr>\n",
       "    <tr>\n",
       "      <th>15</th>\n",
       "      <td>-12.9711</td>\n",
       "      <td>2.1470</td>\n",
       "      <td>15</td>\n",
       "    </tr>\n",
       "    <tr>\n",
       "      <th>7</th>\n",
       "      <td>-11.6928</td>\n",
       "      <td>1.8709</td>\n",
       "      <td>7</td>\n",
       "    </tr>\n",
       "    <tr>\n",
       "      <th>6</th>\n",
       "      <td>-7.3570</td>\n",
       "      <td>2.6361</td>\n",
       "      <td>6</td>\n",
       "    </tr>\n",
       "    <tr>\n",
       "      <th>11</th>\n",
       "      <td>-5.7494</td>\n",
       "      <td>3.1764</td>\n",
       "      <td>11</td>\n",
       "    </tr>\n",
       "    <tr>\n",
       "      <th>5</th>\n",
       "      <td>-3.6721</td>\n",
       "      <td>1.7317</td>\n",
       "      <td>5</td>\n",
       "    </tr>\n",
       "    <tr>\n",
       "      <th>0</th>\n",
       "      <td>-2.0001</td>\n",
       "      <td>4.4833</td>\n",
       "      <td>0</td>\n",
       "    </tr>\n",
       "    <tr>\n",
       "      <th>18</th>\n",
       "      <td>-1.6929</td>\n",
       "      <td>4.2074</td>\n",
       "      <td>18</td>\n",
       "    </tr>\n",
       "    <tr>\n",
       "      <th>20</th>\n",
       "      <td>-1.2829</td>\n",
       "      <td>2.3701</td>\n",
       "      <td>20</td>\n",
       "    </tr>\n",
       "    <tr>\n",
       "      <th>13</th>\n",
       "      <td>-0.1833</td>\n",
       "      <td>4.4991</td>\n",
       "      <td>13</td>\n",
       "    </tr>\n",
       "    <tr>\n",
       "      <th>8</th>\n",
       "      <td>0.1816</td>\n",
       "      <td>3.7913</td>\n",
       "      <td>8</td>\n",
       "    </tr>\n",
       "    <tr>\n",
       "      <th>10</th>\n",
       "      <td>0.7537</td>\n",
       "      <td>2.6541</td>\n",
       "      <td>10</td>\n",
       "    </tr>\n",
       "    <tr>\n",
       "      <th>1</th>\n",
       "      <td>1.0458</td>\n",
       "      <td>2.0903</td>\n",
       "      <td>1</td>\n",
       "    </tr>\n",
       "    <tr>\n",
       "      <th>3</th>\n",
       "      <td>1.3371</td>\n",
       "      <td>3.2564</td>\n",
       "      <td>3</td>\n",
       "    </tr>\n",
       "    <tr>\n",
       "      <th>21</th>\n",
       "      <td>1.9924</td>\n",
       "      <td>4.4723</td>\n",
       "      <td>21</td>\n",
       "    </tr>\n",
       "    <tr>\n",
       "      <th>19</th>\n",
       "      <td>7.3444</td>\n",
       "      <td>1.9987</td>\n",
       "      <td>19</td>\n",
       "    </tr>\n",
       "    <tr>\n",
       "      <th>12</th>\n",
       "      <td>7.3762</td>\n",
       "      <td>1.5882</td>\n",
       "      <td>12</td>\n",
       "    </tr>\n",
       "    <tr>\n",
       "      <th>16</th>\n",
       "      <td>10.3087</td>\n",
       "      <td>2.5812</td>\n",
       "      <td>16</td>\n",
       "    </tr>\n",
       "    <tr>\n",
       "      <th>4</th>\n",
       "      <td>11.6759</td>\n",
       "      <td>2.2190</td>\n",
       "      <td>4</td>\n",
       "    </tr>\n",
       "    <tr>\n",
       "      <th>14</th>\n",
       "      <td>15.7070</td>\n",
       "      <td>1.9705</td>\n",
       "      <td>14</td>\n",
       "    </tr>\n",
       "    <tr>\n",
       "      <th>9</th>\n",
       "      <td>20.0564</td>\n",
       "      <td>1.6611</td>\n",
       "      <td>9</td>\n",
       "    </tr>\n",
       "    <tr>\n",
       "      <th>23</th>\n",
       "      <td>30.0000</td>\n",
       "      <td>1.4000</td>\n",
       "      <td>23</td>\n",
       "    </tr>\n",
       "  </tbody>\n",
       "</table>\n",
       "</div>"
      ],
      "text/plain": [
       "    steering_angle   speed  index\n",
       "24        -30.0000  1.4000     24\n",
       "17        -29.5875  1.5364     17\n",
       "2         -18.7730  1.8223      2\n",
       "22        -13.8233  1.5310     22\n",
       "15        -12.9711  2.1470     15\n",
       "7         -11.6928  1.8709      7\n",
       "6          -7.3570  2.6361      6\n",
       "11         -5.7494  3.1764     11\n",
       "5          -3.6721  1.7317      5\n",
       "0          -2.0001  4.4833      0\n",
       "18         -1.6929  4.2074     18\n",
       "20         -1.2829  2.3701     20\n",
       "13         -0.1833  4.4991     13\n",
       "8           0.1816  3.7913      8\n",
       "10          0.7537  2.6541     10\n",
       "1           1.0458  2.0903      1\n",
       "3           1.3371  3.2564      3\n",
       "21          1.9924  4.4723     21\n",
       "19          7.3444  1.9987     19\n",
       "12          7.3762  1.5882     12\n",
       "16         10.3087  2.5812     16\n",
       "4          11.6759  2.2190      4\n",
       "14         15.7070  1.9705     14\n",
       "9          20.0564  1.6611      9\n",
       "23         30.0000  1.4000     23"
      ]
     },
     "execution_count": 345,
     "metadata": {},
     "output_type": "execute_result"
    }
   ],
   "source": [
    "action_space_for_json.sort_values(by=['steering_angle', 'speed'])"
   ]
  },
  {
   "cell_type": "code",
   "execution_count": 346,
   "metadata": {},
   "outputs": [],
   "source": [
    "for i in range(len(action_space_for_json)):\n",
    "    row = action_space_for_json.iloc[i]"
   ]
  },
  {
   "cell_type": "code",
   "execution_count": 347,
   "metadata": {},
   "outputs": [],
   "source": [
    "spaces = action_space_for_json.sort_values(by=['steering_angle', 'speed']).to_dict('records', )"
   ]
  },
  {
   "cell_type": "code",
   "execution_count": 348,
   "metadata": {},
   "outputs": [],
   "source": [
    "for space in spaces:\n",
    "    space.pop('index')\n",
    "\n",
    "ns = []\n",
    "for space in spaces:\n",
    "    space['speed']= min( space['speed'], 4.0 )\n",
    "    ns.append(space)"
   ]
  },
  {
   "cell_type": "code",
   "execution_count": 349,
   "metadata": {},
   "outputs": [
    {
     "data": {
      "text/plain": [
       "[{'steering_angle': -30.0, 'speed': 1.4},\n",
       " {'steering_angle': -29.5875, 'speed': 1.5364},\n",
       " {'steering_angle': -18.773, 'speed': 1.8223},\n",
       " {'steering_angle': -13.8233, 'speed': 1.531},\n",
       " {'steering_angle': -12.9711, 'speed': 2.147},\n",
       " {'steering_angle': -11.6928, 'speed': 1.8709},\n",
       " {'steering_angle': -7.357, 'speed': 2.6361},\n",
       " {'steering_angle': -5.7494, 'speed': 3.1764},\n",
       " {'steering_angle': -3.6721, 'speed': 1.7317},\n",
       " {'steering_angle': -2.0001, 'speed': 4.0},\n",
       " {'steering_angle': -1.6929, 'speed': 4.0},\n",
       " {'steering_angle': -1.2829, 'speed': 2.3701},\n",
       " {'steering_angle': -0.1833, 'speed': 4.0},\n",
       " {'steering_angle': 0.1816, 'speed': 3.7913},\n",
       " {'steering_angle': 0.7537, 'speed': 2.6541},\n",
       " {'steering_angle': 1.0458, 'speed': 2.0903},\n",
       " {'steering_angle': 1.3371, 'speed': 3.2564},\n",
       " {'steering_angle': 1.9924, 'speed': 4.0},\n",
       " {'steering_angle': 7.3444, 'speed': 1.9987},\n",
       " {'steering_angle': 7.3762, 'speed': 1.5882},\n",
       " {'steering_angle': 10.3087, 'speed': 2.5812},\n",
       " {'steering_angle': 11.6759, 'speed': 2.219},\n",
       " {'steering_angle': 15.707, 'speed': 1.9705},\n",
       " {'steering_angle': 20.0564, 'speed': 1.6611},\n",
       " {'steering_angle': 30.0, 'speed': 1.4}]"
      ]
     },
     "execution_count": 349,
     "metadata": {},
     "output_type": "execute_result"
    }
   ],
   "source": [
    "ns"
   ]
  },
  {
   "cell_type": "code",
   "execution_count": 291,
   "metadata": {},
   "outputs": [
    {
     "data": {
      "text/plain": [
       "25"
      ]
     },
     "execution_count": 291,
     "metadata": {},
     "output_type": "execute_result"
    }
   ],
   "source": [
    "len(ns)"
   ]
  },
  {
   "cell_type": "code",
   "execution_count": 3,
   "metadata": {},
   "outputs": [],
   "source": [
    "import pandas as pd\n",
    "data = pd.read_clipboard()"
   ]
  },
  {
   "cell_type": "code",
   "execution_count": 4,
   "metadata": {},
   "outputs": [
    {
     "data": {
      "text/plain": [
       "[{'steering_angle': -30, 'speed': 1.7},\n",
       " {'steering_angle': 30, 'speed': 1.7},\n",
       " {'steering_angle': -25, 'speed': 1.5},\n",
       " {'steering_angle': 25, 'speed': 1.5},\n",
       " {'steering_angle': -20, 'speed': 1.8},\n",
       " {'steering_angle': 20, 'speed': 1.8},\n",
       " {'steering_angle': -20, 'speed': 1.9},\n",
       " {'steering_angle': 20, 'speed': 1.9},\n",
       " {'steering_angle': -15, 'speed': 2.5},\n",
       " {'steering_angle': 15, 'speed': 2.5},\n",
       " {'steering_angle': -15, 'speed': 2.8},\n",
       " {'steering_angle': 15, 'speed': 2.8},\n",
       " {'steering_angle': -10, 'speed': 2.8},\n",
       " {'steering_angle': 10, 'speed': 2.8},\n",
       " {'steering_angle': -10, 'speed': 2.9},\n",
       " {'steering_angle': 10, 'speed': 2.9},\n",
       " {'steering_angle': -10, 'speed': 3.7},\n",
       " {'steering_angle': 10, 'speed': 3.7},\n",
       " {'steering_angle': -5, 'speed': 3.9},\n",
       " {'steering_angle': 5, 'speed': 3.9},\n",
       " {'steering_angle': -5, 'speed': 3.1},\n",
       " {'steering_angle': 5, 'speed': 3.1},\n",
       " {'steering_angle': -5, 'speed': 3.5},\n",
       " {'steering_angle': 5, 'speed': 3.5},\n",
       " {'steering_angle': 0, 'speed': 3.8},\n",
       " {'steering_angle': 0, 'speed': 3.0},\n",
       " {'steering_angle': 0, 'speed': 3.5},\n",
       " {'steering_angle': 0, 'speed': 4.0}]"
      ]
     },
     "execution_count": 4,
     "metadata": {},
     "output_type": "execute_result"
    }
   ],
   "source": [
    "data.to_dict('records')"
   ]
  },
  {
   "cell_type": "code",
   "execution_count": null,
   "metadata": {},
   "outputs": [],
   "source": []
  }
 ],
 "metadata": {
  "kernelspec": {
   "display_name": "Python 3",
   "language": "python",
   "name": "python3"
  },
  "language_info": {
   "codemirror_mode": {
    "name": "ipython",
    "version": 3
   },
   "file_extension": ".py",
   "mimetype": "text/x-python",
   "name": "python",
   "nbconvert_exporter": "python",
   "pygments_lexer": "ipython3",
   "version": "3.8.12"
  }
 },
 "nbformat": 4,
 "nbformat_minor": 4
}
