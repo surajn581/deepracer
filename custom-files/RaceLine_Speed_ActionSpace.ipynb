{
 "cells": [
  {
   "cell_type": "markdown",
   "metadata": {},
   "source": [
    "# INSTRUCTIONS\n",
    "\n",
    "#### Part 1: Computing the optimal speed from the optimal racing line\n",
    "- Part 1 of this notebook takes the optimal racing line, which can be generated with Race-Line-Calculation.ipynb ([GitHub](https://github.com/cdthompson/deepracer-k1999-race-lines)), and generates the optimal speed for each point on the racing line\n",
    "- Input: .py file with 2D array containing optimal racing line: 2 columns (x,y)\n",
    "- Output: .py file with 2D array: 4 columns (x,y,speed,expected time). This array can be inserted into the reward function\n",
    "- Note: The last point of the racing line is deleted because it is the same point as the first one\n",
    "\n",
    "#### Part 2: Computing the Action Space\n",
    "- Part 2 of this notebook takes the optimal racing line and speed, and uses K-Means with Gaussian Noise infused data, to calculate the action space"
   ]
  },
  {
   "cell_type": "code",
   "execution_count": 106,
   "metadata": {},
   "outputs": [],
   "source": [
    "%matplotlib inline\n",
    "\n",
    "import numpy as np\n",
    "import pandas as pd\n",
    "from scipy import stats\n",
    "import math\n",
    "\n",
    "# Ignore deprecation warnings we have no power over\n",
    "import warnings\n",
    "warnings.filterwarnings('ignore')"
   ]
  },
  {
   "cell_type": "code",
   "execution_count": 107,
   "metadata": {},
   "outputs": [],
   "source": [
    "from reward_function import Path"
   ]
  },
  {
   "cell_type": "code",
   "execution_count": 108,
   "metadata": {},
   "outputs": [],
   "source": [
    "# Path of the optimal racing line (.npy file)\n",
    "fpath = 'C:/Users/suraj/projects/deepracer24/FS_June2020.npy'\n",
    "\n",
    "# Change manually (this is only so that output files are named correctly)\n",
    "TRACK_NAME = \"FS_June2020\"\n",
    "\n",
    "waypoints = np.load(fpath)\n",
    "\n",
    "center_line = waypoints[:,0:2]\n",
    "inner_border = waypoints[:,2:4]\n",
    "outer_border = waypoints[:,4:6]\n",
    "\n",
    "center_line = Path(center_line, 2).get()\n",
    "\n",
    "# Convert np array to list and remove last point because it is the same point as the first one\n",
    "racing_track = center_line[:-1]\n",
    "# racing_track = center_line.tolist()[:-1]"
   ]
  },
  {
   "cell_type": "code",
   "execution_count": 109,
   "metadata": {},
   "outputs": [],
   "source": [
    "# racing_track"
   ]
  },
  {
   "cell_type": "markdown",
   "metadata": {},
   "source": [
    "# Helper functions for Part 1 and Part 2"
   ]
  },
  {
   "cell_type": "code",
   "execution_count": 110,
   "metadata": {},
   "outputs": [],
   "source": [
    "# Uses previous and next coords to calculate the radius of the curve\n",
    "# so you need to pass a list with form [[x1,y1],[x2,y2],[x3,y3]]\n",
    "# Input 3 coords [[x1,y1],[x2,y2],[x3,y3]]\n",
    "def circle_radius(coords):\n",
    "\n",
    "    # Flatten the list and assign to variables (makes code easier to read later)\n",
    "    x1, y1, x2, y2, x3, y3 = [i for sub in coords for i in sub]\n",
    "\n",
    "    a = x1*(y2-y3) - y1*(x2-x3) + x2*y3 - x3*y2\n",
    "    b = (x1**2+y1**2)*(y3-y2) + (x2**2+y2**2)*(y1-y3) + (x3**2+y3**2)*(y2-y1)\n",
    "    c = (x1**2+y1**2)*(x2-x3) + (x2**2+y2**2)*(x3-x1) + (x3**2+y3**2)*(x1-x2)\n",
    "    d = (x1**2+y1**2)*(x3*y2-x2*y3) + (x2**2+y2**2) * \\\n",
    "        (x1*y3-x3*y1) + (x3**2+y3**2)*(x2*y1-x1*y2)\n",
    "\n",
    "    # In case a is zero (so radius is infinity)\n",
    "    try:\n",
    "        r = abs((b**2+c**2-4*a*d) / abs(4*a**2)) ** 0.5\n",
    "    except:\n",
    "        r = 999\n",
    "\n",
    "    return r\n",
    "\n",
    "\n",
    "# Returns indexes of next index and index+lookfront\n",
    "# We need this to calculate the radius for next track section.\n",
    "def circle_indexes(mylist, index_car, add_index_1=0, add_index_2=0):\n",
    "\n",
    "    list_len = len(mylist)\n",
    "\n",
    "    # if index >= list_len:\n",
    "    #     raise ValueError(\"Index out of range in circle_indexes()\")\n",
    "\n",
    "    # Use modulo to consider that track is cyclical\n",
    "    index_1 = (index_car + add_index_1) % list_len\n",
    "    index_2 = (index_car + add_index_2) % list_len\n",
    "\n",
    "    return [index_car, index_1, index_2]\n",
    "\n",
    "\n",
    "def optimal_velocity(track, min_speed, max_speed, look_ahead_points):\n",
    "\n",
    "    # Calculate the radius for every point of the track\n",
    "    radius = []\n",
    "    for i in range(len(track)):\n",
    "        indexes = circle_indexes(track, i, add_index_1=-1, add_index_2=1)\n",
    "        coords = [track[indexes[0]],\n",
    "                  track[indexes[1]], track[indexes[2]]]\n",
    "        radius.append(circle_radius(coords))\n",
    "\n",
    "    # Get the max_velocity for the smallest radius\n",
    "    # That value should multiplied by a constant multiple\n",
    "    v_min_r = min(radius)**0.5\n",
    "    constant_multiple = min_speed / v_min_r\n",
    "    print(f\"Constant multiple for optimal speed: {constant_multiple}\")\n",
    "\n",
    "    if look_ahead_points == 0:\n",
    "        # Get the maximal velocity from radius\n",
    "        max_velocity = [(constant_multiple * i**0.5) for i in radius]\n",
    "        # Get velocity from max_velocity (cap at MAX_SPEED)\n",
    "        velocity = [min(v, max_speed) for v in max_velocity]\n",
    "        return velocity\n",
    "\n",
    "    else:\n",
    "        # Looks at the next n radii of points and takes the minimum\n",
    "        # goal: reduce lookahead until car crashes bc no time to break\n",
    "        LOOK_AHEAD_POINTS = look_ahead_points\n",
    "        radius_lookahead = []\n",
    "        for i in range(len(radius)):\n",
    "            next_n_radius = []\n",
    "            for j in range(LOOK_AHEAD_POINTS+1):\n",
    "                index = circle_indexes(\n",
    "                    mylist=radius, index_car=i, add_index_1=j)[1]\n",
    "                next_n_radius.append(radius[index])\n",
    "            radius_lookahead.append(min(next_n_radius))\n",
    "        max_velocity_lookahead = [(constant_multiple * i**0.5)\n",
    "                                  for i in radius_lookahead]\n",
    "        velocity_lookahead = [min(v, max_speed)\n",
    "                              for v in max_velocity_lookahead]\n",
    "        return velocity_lookahead\n",
    "\n",
    "\n",
    "# For each point in racing track, check if left curve (returns boolean)\n",
    "def is_left_curve(coords):\n",
    "\n",
    "    # Flatten the list and assign to variables (makes code easier to read later)\n",
    "    x1, y1, x2, y2, x3, y3 = [i for sub in coords for i in sub]\n",
    "\n",
    "    return ((x2-x1)*(y3-y1) - (y2-y1)*(x3-x1)) > 0\n",
    "\n",
    "\n",
    "# Calculate the distance between 2 points\n",
    "def dist_2_points(x1, x2, y1, y2):\n",
    "        return abs(abs(x1-x2)**2 + abs(y1-y2)**2)**0.5"
   ]
  },
  {
   "cell_type": "markdown",
   "metadata": {},
   "source": [
    "# Part 1: Calculate optimal speed\n",
    "\n",
    "- Change ```LOOK_AHEAD_POINTS``` to influence how many points the algorithm looks ahead (the higher, the sooner the car will start to break)\n",
    "- Change ```MIN_SPEED``` and ```MAX_SPEED``` to fit the track and model !"
   ]
  },
  {
   "cell_type": "code",
   "execution_count": 155,
   "metadata": {},
   "outputs": [
    {
     "name": "stdout",
     "output_type": "stream",
     "text": [
      "Constant multiple for optimal speed: 1.9973069472084928\n"
     ]
    }
   ],
   "source": [
    "LOOK_AHEAD_POINTS = 12\n",
    "MIN_SPEED = 1.1\n",
    "MAX_SPEED = 5.0\n",
    "\n",
    "# Calculate optimal speed\n",
    "velocity = optimal_velocity(track=racing_track, \n",
    "    min_speed=MIN_SPEED, max_speed=MAX_SPEED, look_ahead_points=LOOK_AHEAD_POINTS)"
   ]
  },
  {
   "cell_type": "code",
   "execution_count": 156,
   "metadata": {},
   "outputs": [],
   "source": [
    "new_velocity = []\n",
    "rev_v = velocity[::-1]\n",
    "for i, vel in enumerate(rev_v, LOOK_AHEAD_POINTS):\n",
    "    meanN = np.mean(rev_v[i-LOOK_AHEAD_POINTS:i])\n",
    "    if vel > 2.1 and vel >= meanN:\n",
    "        new_velocity.append(meanN)\n",
    "    else:\n",
    "        new_velocity.append(vel)\n",
    "\n",
    "new_velocity = new_velocity[::-1]"
   ]
  },
  {
   "cell_type": "code",
   "execution_count": 157,
   "metadata": {},
   "outputs": [
    {
     "data": {
      "text/plain": [
       "False"
      ]
     },
     "execution_count": 157,
     "metadata": {},
     "output_type": "execute_result"
    }
   ],
   "source": [
    "velocity == new_velocity"
   ]
  },
  {
   "cell_type": "code",
   "execution_count": 158,
   "metadata": {},
   "outputs": [],
   "source": [
    "# for v in zip(velocity, new_velocity):\n",
    "#     print(v)"
   ]
  },
  {
   "cell_type": "markdown",
   "metadata": {},
   "source": [
    "#### Visualization"
   ]
  },
  {
   "cell_type": "code",
   "execution_count": 159,
   "metadata": {},
   "outputs": [
    {
     "data": {
      "image/png": "[encoded data removed]",
      "text/plain": [
       "<Figure size 576x360 with 1 Axes>"
      ]
     },
     "metadata": {
      "needs_background": "light"
     },
     "output_type": "display_data"
    },
    {
     "data": {
      "image/png": "[encoded data removed]",
      "text/plain": [
       "<Figure size 576x360 with 1 Axes>"
      ]
     },
     "metadata": {
      "needs_background": "light"
     },
     "output_type": "display_data"
    }
   ],
   "source": [
    "from matplotlib import pyplot as plt\n",
    "import seaborn as sns\n",
    "\n",
    "x = [i[0] for i in racing_track]\n",
    "y = [i[1] for i in racing_track]\n",
    "\n",
    "# # Without lookahead\n",
    "# velocity_no_lookahead = optimal_velocity(track=racing_track,\n",
    "#     min_speed=MIN_SPEED, max_speed=MAX_SPEED, look_ahead_points=LOOK_AHEAD_POINTS)\n",
    "\n",
    "fig, ax = plt.subplots(figsize=(8, 5))\n",
    "ax = sns.scatterplot(x=x, y=y, hue=new_velocity,\n",
    "                     palette=\"vlag\").set_title(\"New Velocity\")\n",
    "\n",
    "fig, ax = plt.subplots(figsize=(8, 5))\n",
    "ax = sns.scatterplot(x=x, y=y, hue=velocity, palette=\"vlag\").set_title(\n",
    "    f\"With lookahead: {LOOK_AHEAD_POINTS}\")"
   ]
  },
  {
   "cell_type": "code",
   "execution_count": 160,
   "metadata": {},
   "outputs": [],
   "source": [
    "velocity = new_velocity"
   ]
  },
  {
   "cell_type": "markdown",
   "metadata": {},
   "source": [
    "#### Calculate distance and optimal time between each racing point"
   ]
  },
  {
   "cell_type": "code",
   "execution_count": 161,
   "metadata": {},
   "outputs": [
    {
     "name": "stdout",
     "output_type": "stream",
     "text": [
      "Total time for track, if racing line and speeds are followed perfectly: 22.200546328699115 s\n"
     ]
    }
   ],
   "source": [
    "distance_to_prev = []\n",
    "for i in range(len(racing_track)):\n",
    "    indexes = circle_indexes(racing_track, i, add_index_1=-1, add_index_2=0)[0:2]\n",
    "    coords = [racing_track[indexes[0]],racing_track[indexes[1]]]\n",
    "    dist_to_prev = dist_2_points(x1=coords[0][0], x2=coords[1][0], y1=coords[0][1], y2=coords[1][1])\n",
    "    distance_to_prev.append(dist_to_prev)\n",
    "    \n",
    "time_to_prev = [(distance_to_prev[i]/velocity[i]) for i in range(len(racing_track))]\n",
    "\n",
    "total_time = sum(time_to_prev)\n",
    "print(f\"Total time for track, if racing line and speeds are followed perfectly: {total_time} s\")"
   ]
  },
  {
   "cell_type": "markdown",
   "metadata": {},
   "source": [
    "## Append everything together and save to .txt file"
   ]
  },
  {
   "cell_type": "code",
   "execution_count": 118,
   "metadata": {},
   "outputs": [],
   "source": [
    "# Now we have list with columns (x,y,speed,distance,time)\n",
    "racing_track_everything = []\n",
    "for i in range(len(racing_track)):\n",
    "    racing_track_everything.append([racing_track[i][0],\n",
    "                                    racing_track[i][1],\n",
    "                                    velocity[i],\n",
    "                                    time_to_prev[i]])\n",
    "# Round to 5 decimals\n",
    "racing_track_everything = np.around(racing_track_everything, 5).tolist()"
   ]
  },
  {
   "cell_type": "code",
   "execution_count": 119,
   "metadata": {},
   "outputs": [],
   "source": [
    "def getEverything(waypoints):\n",
    "    pass"
   ]
  },
  {
   "cell_type": "code",
   "execution_count": 120,
   "metadata": {},
   "outputs": [
    {
     "data": {
      "text/plain": [
       "[[1.26219, -2.79859, 5.0, 0.05712],\n",
       " [1.11939, -2.79603, 5.0, 0.02856],\n",
       " [0.97643, -2.79304, 5.0, 0.0286],\n",
       " [0.8332, -2.7896, 5.0, 0.02865],\n",
       " [0.68961, -2.78573, 5.0, 0.02873],\n",
       " [0.54558, -2.78142, 5.0, 0.02882],\n",
       " [0.40107, -2.77669, 5.0, 0.02892],\n",
       " [0.25603, -2.77153, 5.0, 0.02903],\n",
       " [0.11044, -2.76594, 5.0, 0.02914],\n",
       " [-0.0357, -2.75993, 5.0, 0.02925],\n",
       " [-0.18235, -2.75349, 5.0, 0.02936],\n",
       " [-0.32951, -2.74664, 5.0, 0.02946],\n",
       " [-0.47712, -2.73936, 5.0, 0.02956],\n",
       " [-0.62515, -2.73166, 5.0, 0.02964],\n",
       " [-0.77352, -2.72355, 5.0, 0.02972],\n",
       " [-0.92221, -2.71501, 5.0, 0.02979],\n",
       " [-1.07114, -2.70606, 5.0, 0.02984],\n",
       " [-1.22028, -2.69669, 5.0, 0.02989],\n",
       " [-1.36958, -2.6869, 5.0, 0.02992],\n",
       " [-1.51901, -2.67669, 5.0, 0.02995],\n",
       " [-1.66852, -2.66605, 5.0, 0.02998],\n",
       " [-1.8181, -2.655, 5.0, 0.03],\n",
       " [-1.96771, -2.64351, 5.0, 0.03001],\n",
       " [-2.11734, -2.63159, 5.0, 0.03002],\n",
       " [-2.26697, -2.61924, 5.0, 0.03003],\n",
       " [-2.41659, -2.60645, 5.0, 0.03003],\n",
       " [-2.56618, -2.5932, 5.0, 0.03004],\n",
       " [-2.71575, -2.5795, 5.0, 0.03004],\n",
       " [-2.86529, -2.56533, 5.0, 0.03004],\n",
       " [-3.01477, -2.55069, 5.0, 0.03004],\n",
       " [-3.16421, -2.53556, 5.0, 0.03004],\n",
       " [-3.3136, -2.51993, 5.0, 0.03004],\n",
       " [-3.46292, -2.50378, 5.0, 0.03004],\n",
       " [-3.61218, -2.4871, 5.0, 0.03004],\n",
       " [-3.76136, -2.46986, 5.0, 0.03003],\n",
       " [-3.91045, -2.45205, 5.0, 0.03003],\n",
       " [-4.05944, -2.43363, 5.0, 0.03003],\n",
       " [-4.20832, -2.41458, 5.0, 0.03002],\n",
       " [-4.35705, -2.39486, 5.0, 0.03001],\n",
       " [-4.50563, -2.37443, 5.0, 0.02999],\n",
       " [-4.654, -2.35325, 5.0, 0.02998],\n",
       " [-4.80214, -2.33126, 5.0, 0.02995],\n",
       " [-4.94998, -2.30841, 5.0, 0.02992],\n",
       " [-5.09745, -2.28462, 5.0, 0.02988],\n",
       " [-5.24448, -2.25981, 4.93553, 0.03021],\n",
       " [-5.39096, -2.23388, 4.62884, 0.03214],\n",
       " [-5.53677, -2.20674, 4.35882, 0.03403],\n",
       " [-5.68175, -2.17825, 4.13247, 0.03575],\n",
       " [-5.82572, -2.14827, 3.94186, 0.03731],\n",
       " [-5.96849, -2.11664, 3.83443, 0.03813],\n",
       " [-6.1098, -2.0832, 3.73122, 0.03892],\n",
       " [-6.24939, -2.04774, 3.73122, 0.0386],\n",
       " [-6.38695, -2.01007, 3.73122, 0.03822],\n",
       " [-6.52214, -1.96996, 3.73122, 0.03779],\n",
       " [-6.6546, -1.92718, 3.73122, 0.03731],\n",
       " [-6.78396, -1.88153, 2.65701, 0.05163],\n",
       " [-6.90986, -1.83279, 2.65701, 0.05081],\n",
       " [-7.03193, -1.78076, 1.77066, 0.07494],\n",
       " [-7.14987, -1.72532, 1.77066, 0.0736],\n",
       " [-7.26344, -1.66636, 1.36374, 0.09383],\n",
       " [-7.37257, -1.60389, 1.36374, 0.0922],\n",
       " [-7.47721, -1.53794, 1.34536, 0.09194],\n",
       " [-7.57781, -1.46886, 1.34536, 0.09071],\n",
       " [-7.67466, -1.39689, 1.34536, 0.08969],\n",
       " [-7.76868, -1.32258, 1.34536, 0.08908],\n",
       " [-7.86422, -1.24945, 1.34536, 0.08943],\n",
       " [-7.95248, -1.16985, 1.34536, 0.08834],\n",
       " [-8.03444, -1.08524, 1.34536, 0.08755],\n",
       " [-8.09754, -0.99196, 1.34536, 0.08371],\n",
       " [-8.14406, -0.893, 1.34536, 0.08128],\n",
       " [-8.16131, -0.78937, 1.34536, 0.07809],\n",
       " [-8.15317, -0.68574, 1.34536, 0.07727],\n",
       " [-8.11628, -0.58617, 1.61252, 0.06585],\n",
       " [-8.06038, -0.49253, 1.61252, 0.06763],\n",
       " [-7.984, -0.40911, 1.79395, 0.06305],\n",
       " [-7.90012, -0.33104, 1.79395, 0.06388],\n",
       " [-7.80328, -0.26354, 1.79395, 0.0658],\n",
       " [-7.69126, -0.21057, 1.79395, 0.06907],\n",
       " [-7.56418, -0.17768, 1.72204, 0.07623],\n",
       " [-7.44262, -0.13565, 1.96732, 0.06538],\n",
       " [-7.31701, -0.09814, 2.26598, 0.05785],\n",
       " [-7.19199, -0.05824, 2.54583, 0.05155],\n",
       " [-7.06519, -0.01922, 2.78617, 0.04762],\n",
       " [-6.9377, 0.02067, 3.01886, 0.04425],\n",
       " [-6.80922, 0.06107, 3.23009, 0.0417],\n",
       " [-6.68026, 0.10279, 3.44132, 0.03939],\n",
       " [-6.55106, 0.1462, 3.65255, 0.03732],\n",
       " [-6.42209, 0.19197, 3.86378, 0.03542],\n",
       " [-6.29374, 0.24063, 3.90626, 0.03514],\n",
       " [-6.16647, 0.29277, 3.90626, 0.03521],\n",
       " [-6.0407, 0.34888, 3.90626, 0.03526],\n",
       " [-5.91684, 0.40941, 3.90626, 0.03529],\n",
       " [-5.79525, 0.47468, 3.90626, 0.03533],\n",
       " [-5.67624, 0.54494, 3.90626, 0.03538],\n",
       " [-5.56008, 0.62032, 3.90626, 0.03545],\n",
       " [-5.44698, 0.70087, 3.90683, 0.03554],\n",
       " [-5.33708, 0.7865, 3.91154, 0.03562],\n",
       " [-5.23048, 0.87709, 3.92383, 0.03565],\n",
       " [-5.12722, 0.97239, 3.94719, 0.0356],\n",
       " [-5.02728, 1.07213, 3.98536, 0.03543],\n",
       " [-4.93059, 1.17594, 4.04265, 0.03509],\n",
       " [-4.83702, 1.28344, 4.12435, 0.03455],\n",
       " [-4.7464, 1.39418, 4.23372, 0.0338],\n",
       " [-4.65849, 1.50768, 4.3431, 0.03306],\n",
       " [-4.57301, 1.62344, 4.45247, 0.03232],\n",
       " [-4.48964, 1.74092, 4.56128, 0.03158],\n",
       " [-4.40801, 1.85958, 4.66594, 0.03087],\n",
       " [-4.32773, 1.97886, 4.76303, 0.03018],\n",
       " [-4.2484, 2.09819, 2.05438, 0.06975],\n",
       " [-4.16962, 2.21703, 1.50635, 0.09466],\n",
       " [-4.09102, 2.33494, 1.50635, 0.09406],\n",
       " [-4.01224, 2.45139, 1.50635, 0.09334],\n",
       " [-3.93314, 2.56624, 1.50635, 0.09258],\n",
       " [-3.85336, 2.67903, 1.50635, 0.09171],\n",
       " [-3.77325, 2.79021, 1.50635, 0.09098],\n",
       " [-3.69214, 2.89892, 1.50635, 0.09004],\n",
       " [-3.61173, 3.00747, 1.50635, 0.08968],\n",
       " [-3.53158, 3.11513, 1.50635, 0.0891],\n",
       " [-3.44972, 3.21966, 1.50635, 0.08814],\n",
       " [-3.35659, 3.30805, 1.50635, 0.08524],\n",
       " [-3.24814, 3.36664, 1.84846, 0.06668],\n",
       " [-3.13376, 3.4105, 1.84846, 0.06627],\n",
       " [-3.01334, 3.43435, 1.63969, 0.07487],\n",
       " [-2.89117, 3.44726, 1.7046, 0.07207],\n",
       " [-2.76748, 3.44608, 1.76952, 0.0699],\n",
       " [-2.64388, 3.43348, 1.83443, 0.06772],\n",
       " [-2.52157, 3.40693, 1.89934, 0.0659],\n",
       " [-2.40135, 3.3713, 1.96426, 0.06384],\n",
       " [-2.28312, 3.32944, 2.02917, 0.06181],\n",
       " [-2.16764, 3.27974, 2.09408, 0.06004],\n",
       " [-2.05331, 3.22594, 2.12479, 0.05947],\n",
       " [-1.94616, 3.15733, 2.16361, 0.0588],\n",
       " [-1.84141, 3.08397, 2.17173, 0.05889],\n",
       " [-1.74562, 2.99775, 2.18893, 0.05888],\n",
       " [-1.65908, 2.89991, 2.2878, 0.05709],\n",
       " [-1.57821, 2.79596, 2.55888, 0.05147],\n",
       " [-1.49962, 2.68924, 2.84333, 0.04661],\n",
       " [-1.42237, 2.58045, 3.12778, 0.04266],\n",
       " [-1.34555, 2.47081, 3.34538, 0.04002],\n",
       " [-1.27037, 2.35927, 1.74535, 0.07706],\n",
       " [-1.19634, 2.24656, 1.74535, 0.07726],\n",
       " [-1.12358, 2.13276, 1.74535, 0.07739],\n",
       " [-1.05167, 2.01848, 1.74535, 0.07736],\n",
       " [-0.98025, 1.90425, 1.74535, 0.07719],\n",
       " [-0.90926, 1.79028, 1.74535, 0.07693],\n",
       " [-0.83798, 1.67734, 1.74535, 0.07652],\n",
       " [-0.76762, 1.56442, 1.74535, 0.07623],\n",
       " [-0.69555, 1.45386, 1.74535, 0.07562],\n",
       " [-0.62505, 1.34307, 1.74535, 0.07524],\n",
       " [-0.55136, 1.23532, 1.74535, 0.07479],\n",
       " [-0.46114, 1.14768, 2.06779, 0.06082],\n",
       " [-0.36318, 1.07181, 1.77139, 0.06995],\n",
       " [-0.25679, 1.01062, 1.77139, 0.06928],\n",
       " [-0.14527, 0.96109, 1.77139, 0.06889],\n",
       " [-0.029, 0.92494, 1.77139, 0.06874],\n",
       " [0.09011, 0.90116, 1.77139, 0.06856],\n",
       " [0.21116, 0.89052, 1.77139, 0.0686],\n",
       " [0.33287, 0.89259, 1.77139, 0.06872],\n",
       " [0.45398, 0.90818, 1.77139, 0.06894],\n",
       " [0.57319, 0.93661, 1.77139, 0.06918],\n",
       " [0.6892, 0.97978, 1.77139, 0.06988],\n",
       " [0.80009, 1.03878, 1.77139, 0.07091],\n",
       " [0.9013, 1.12113, 1.80871, 0.07214],\n",
       " [0.99327, 1.21969, 1.94533, 0.0693],\n",
       " [1.09015, 1.31093, 2.1389, 0.06222],\n",
       " [1.18423, 1.40814, 2.46176, 0.05495],\n",
       " [1.27901, 1.50545, 2.78462, 0.04878],\n",
       " [1.37265, 1.60601, 3.10748, 0.04422],\n",
       " [1.466, 1.70843, 3.43034, 0.0404],\n",
       " [1.55875, 1.81325, 3.7532, 0.03729],\n",
       " [1.65126, 1.91986, 4.07184, 0.03467],\n",
       " [1.74372, 2.028, 4.3774, 0.0325],\n",
       " [1.83648, 2.13711, 4.63604, 0.03089],\n",
       " [1.92988, 2.24667, 4.65978, 0.0309],\n",
       " [2.02429, 2.35611, 4.60471, 0.03139],\n",
       " [2.12005, 2.46487, 4.55857, 0.03179],\n",
       " [2.21749, 2.57245, 4.51499, 0.03215],\n",
       " [2.31691, 2.67836, 4.4689, 0.0325],\n",
       " [2.41854, 2.78217, 4.41632, 0.03289],\n",
       " [2.52257, 2.8835, 4.35584, 0.03334],\n",
       " [2.62915, 2.98202, 4.28822, 0.03385],\n",
       " [2.73836, 3.07744, 4.21616, 0.0344],\n",
       " [2.85025, 3.16951, 4.15266, 0.03489],\n",
       " [2.96479, 3.25802, 4.08858, 0.0354],\n",
       " [3.08195, 3.34276, 4.08858, 0.03536],\n",
       " [3.20163, 3.42356, 4.03488, 0.03579],\n",
       " [3.32369, 3.50024, 4.03488, 0.03573],\n",
       " [3.448, 3.57263, 4.00513, 0.03592],\n",
       " [3.57436, 3.64055, 4.00513, 0.03582],\n",
       " [3.70256, 3.7038, 3.3796, 0.0423],\n",
       " [3.83239, 3.76219, 3.32081, 0.04287],\n",
       " [3.96361, 3.81552, 2.13387, 0.06638],\n",
       " [4.09598, 3.86357, 1.88877, 0.07456],\n",
       " [4.22925, 3.90621, 1.88877, 0.07408],\n",
       " [4.3632, 3.94328, 1.88877, 0.07358],\n",
       " [4.49763, 3.97487, 1.88877, 0.07311],\n",
       " [4.63234, 4.00088, 1.88877, 0.07264],\n",
       " [4.76731, 4.0222, 1.88877, 0.07234],\n",
       " [4.90224, 4.03798, 1.88877, 0.07192],\n",
       " [5.03766, 4.05211, 1.88877, 0.07208],\n",
       " [5.17245, 4.05853, 1.88877, 0.07145],\n",
       " [5.3092, 4.07312, 1.88877, 0.07281],\n",
       " [5.44347, 4.06834, 1.88877, 0.07113],\n",
       " [5.57225, 4.0405, 1.92493, 0.06845],\n",
       " [5.69672, 3.99696, 1.96111, 0.06724],\n",
       " [5.81496, 3.93834, 2.11017, 0.06254],\n",
       " [5.93653, 3.88618, 2.4213, 0.05464],\n",
       " [6.0572, 3.83133, 2.73242, 0.04851],\n",
       " [6.17866, 3.77748, 3.04354, 0.04365],\n",
       " [6.30002, 3.72289, 3.35467, 0.03967],\n",
       " [6.42171, 3.66866, 3.66579, 0.03634],\n",
       " [6.54354, 3.61463, 3.97691, 0.03351],\n",
       " [6.6656, 3.56131, 4.28804, 0.03106],\n",
       " [6.78785, 3.50888, 3.39837, 0.03914],\n",
       " [6.91026, 3.45762, 2.61652, 0.05072],\n",
       " [7.03274, 3.40768, 1.47445, 0.08971],\n",
       " [7.15522, 3.35919, 1.47445, 0.08934],\n",
       " [7.27751, 3.31212, 1.47445, 0.08888],\n",
       " [7.39955, 3.26654, 1.47445, 0.08835],\n",
       " [7.52104, 3.22211, 1.47445, 0.08774],\n",
       " [7.64209, 3.17914, 1.47445, 0.08712],\n",
       " [7.76211, 3.13657, 1.47445, 0.08637],\n",
       " [7.88198, 3.09603, 1.47445, 0.08582],\n",
       " [7.99983, 3.05389, 1.2777, 0.09796],\n",
       " [8.11998, 3.01779, 1.2777, 0.09819],\n",
       " [8.23438, 2.97236, 1.2, 0.10257],\n",
       " [8.32766, 2.90287, 1.2, 0.09693],\n",
       " [8.40096, 2.81714, 1.2, 0.09399],\n",
       " [8.46312, 2.72453, 1.2, 0.09295],\n",
       " [8.51337, 2.62603, 1.2, 0.09215],\n",
       " [8.55041, 2.52251, 1.2, 0.09162],\n",
       " [8.57376, 2.41653, 1.2, 0.09043],\n",
       " [8.58332, 2.31003, 1.2, 0.08911],\n",
       " [8.58175, 2.20328, 1.2, 0.08897],\n",
       " [8.5485, 2.10407, 1.2, 0.08719],\n",
       " [8.4972, 2.01111, 1.2, 0.08848],\n",
       " [8.41115, 1.93811, 1.50643, 0.07491],\n",
       " [8.30181, 1.8843, 1.94489, 0.06266],\n",
       " [8.17765, 1.84601, 1.68513, 0.0771],\n",
       " [8.05199, 1.8103, 2.06513, 0.06326],\n",
       " [7.92704, 1.77304, 2.44513, 0.05333],\n",
       " [7.8014, 1.73635, 2.82513, 0.04633],\n",
       " [7.67421, 1.70093, 3.20513, 0.04119],\n",
       " [7.54582, 1.66648, 3.58513, 0.03708],\n",
       " [7.41601, 1.63317, 3.96513, 0.0338],\n",
       " [7.28512, 1.60063, 4.30733, 0.03131],\n",
       " [7.15338, 1.56858, 3.39232, 0.03997],\n",
       " [7.02122, 1.53655, 1.93646, 0.07023],\n",
       " [6.88904, 1.50406, 1.93646, 0.07029],\n",
       " [6.7573, 1.47063, 1.58047, 0.086],\n",
       " [6.62639, 1.43585, 1.58047, 0.0857],\n",
       " [6.49666, 1.39936, 1.58047, 0.08527],\n",
       " [6.36823, 1.36112, 1.58047, 0.08478],\n",
       " [6.24139, 1.32081, 1.58047, 0.08421],\n",
       " [6.11557, 1.27933, 1.58047, 0.08382],\n",
       " [5.99184, 1.23525, 1.58047, 0.08311],\n",
       " [5.86579, 1.19447, 1.58047, 0.08382],\n",
       " [5.74393, 1.1476, 1.58047, 0.08261],\n",
       " [5.63645, 1.08481, 1.58047, 0.07876],\n",
       " [5.54288, 1.00917, 1.58047, 0.07613],\n",
       " [5.47124, 0.918, 1.59151, 0.07285],\n",
       " [5.41909, 0.8163, 1.47127, 0.07768],\n",
       " [5.385, 0.70782, 1.47127, 0.07728],\n",
       " [5.36275, 0.5966, 1.47127, 0.07709],\n",
       " [5.35412, 0.48283, 1.47127, 0.07755],\n",
       " [5.36013, 0.36899, 1.47127, 0.07748],\n",
       " [5.37452, 0.25617, 1.47127, 0.0773],\n",
       " [5.4019, 0.14593, 1.47127, 0.0772],\n",
       " [5.44177, 0.04065, 1.47127, 0.07652],\n",
       " [5.48925, -0.06121, 1.47127, 0.07638],\n",
       " [5.55634, -0.15014, 1.47127, 0.07572],\n",
       " [5.63905, -0.22439, 1.47127, 0.07555],\n",
       " [5.73952, -0.27728, 1.57955, 0.07188],\n",
       " [5.85446, -0.30821, 1.61637, 0.07364],\n",
       " [5.98178, -0.3131, 1.66447, 0.07655],\n",
       " [6.11183, -0.31009, 1.92873, 0.06744],\n",
       " [6.24076, -0.31179, 2.2816, 0.05652],\n",
       " [6.37052, -0.31214, 2.63448, 0.04926],\n",
       " [6.50075, -0.31258, 2.98735, 0.04359],\n",
       " [6.63153, -0.31248, 2.08691, 0.06267],\n",
       " [6.76269, -0.31229, 1.79244, 0.07318],\n",
       " [6.89411, -0.31209, 1.66936, 0.07872],\n",
       " [7.02557, -0.31227, 1.66936, 0.07875],\n",
       " [7.15692, -0.31299, 1.66936, 0.07869],\n",
       " [7.28794, -0.31464, 1.66936, 0.07849],\n",
       " [7.41863, -0.31704, 1.66936, 0.0783],\n",
       " [7.54878, -0.3204, 1.66936, 0.07799],\n",
       " [7.67853, -0.32458, 1.66936, 0.07776],\n",
       " [7.80777, -0.32916, 1.66936, 0.07747],\n",
       " [7.93645, -0.33542, 1.39139, 0.0926],\n",
       " [8.05823, -0.3584, 1.39139, 0.08907],\n",
       " [8.16939, -0.40103, 1.39139, 0.08556],\n",
       " [8.26694, -0.46307, 1.39139, 0.08309],\n",
       " [8.35286, -0.53874, 1.39139, 0.08228],\n",
       " [8.42326, -0.62826, 1.39139, 0.08185],\n",
       " [8.48477, -0.72358, 1.39139, 0.08153],\n",
       " [8.53359, -0.82568, 1.39139, 0.08134],\n",
       " [8.57038, -0.93211, 1.39139, 0.08093],\n",
       " [8.59244, -1.04149, 1.39139, 0.0802],\n",
       " [8.60633, -1.15246, 1.39139, 0.08037],\n",
       " [8.58962, -1.26281, 1.41668, 0.07878],\n",
       " [8.54914, -1.3689, 1.41668, 0.08015],\n",
       " [8.47765, -1.4647, 1.47673, 0.08095],\n",
       " [8.39316, -1.55382, 1.55701, 0.07887],\n",
       " [8.29427, -1.63517, 1.65821, 0.07722],\n",
       " [8.18384, -1.70772, 1.92401, 0.06867],\n",
       " [8.07665, -1.78234, 2.18981, 0.05964],\n",
       " [7.9656, -1.85353, 2.47611, 0.05327],\n",
       " [7.85276, -1.92285, 2.76241, 0.04794],\n",
       " [7.7364, -1.98884, 3.04967, 0.04387],\n",
       " [7.61685, -2.05165, 3.3344, 0.0405],\n",
       " [7.49375, -2.11086, 3.62795, 0.03765],\n",
       " [7.36725, -2.16642, 3.85257, 0.03586],\n",
       " [7.23748, -2.21831, 4.09305, 0.03414],\n",
       " [7.10471, -2.2666, 4.33209, 0.03261],\n",
       " [6.96924, -2.31142, 4.42715, 0.03223],\n",
       " [6.83138, -2.35294, 4.52221, 0.03184],\n",
       " [6.69147, -2.39135, 4.59677, 0.03156],\n",
       " [6.5498, -2.42686, 4.67133, 0.03127],\n",
       " [6.40665, -2.45967, 4.74493, 0.03095],\n",
       " [6.26226, -2.49, 4.81853, 0.03062],\n",
       " [6.11686, -2.51804, 4.88331, 0.03032],\n",
       " [5.97062, -2.54397, 4.93928, 0.03007],\n",
       " [5.8237, -2.56797, 4.97938, 0.0299],\n",
       " [5.67621, -2.59018, 5.0, 0.02983],\n",
       " [5.52827, -2.61074, 5.0, 0.02987],\n",
       " [5.37997, -2.62979, 5.0, 0.02991],\n",
       " [5.23136, -2.64743, 5.0, 0.02993],\n",
       " [5.08251, -2.66377, 5.0, 0.02995],\n",
       " [4.93348, -2.67889, 5.0, 0.02996],\n",
       " [4.78429, -2.69287, 5.0, 0.02997],\n",
       " [4.63499, -2.70579, 5.0, 0.02997],\n",
       " [4.48563, -2.7177, 5.0, 0.02997],\n",
       " [4.33622, -2.72866, 5.0, 0.02996],\n",
       " [4.18682, -2.73872, 5.0, 0.02995],\n",
       " [4.03747, -2.74792, 5.0, 0.02993],\n",
       " [3.88819, -2.75631, 5.0, 0.0299],\n",
       " [3.73905, -2.76392, 5.0, 0.02987],\n",
       " [3.59009, -2.77079, 5.0, 0.02982],\n",
       " [3.44137, -2.77694, 5.0, 0.02977],\n",
       " [3.29294, -2.78241, 5.0, 0.02971],\n",
       " [3.14485, -2.78722, 5.0, 0.02963],\n",
       " [2.99717, -2.79139, 5.0, 0.02955],\n",
       " [2.84995, -2.79495, 5.0, 0.02945],\n",
       " [2.70322, -2.79791, 5.0, 0.02935],\n",
       " [2.55702, -2.8003, 5.0, 0.02924],\n",
       " [2.41136, -2.80213, 5.0, 0.02913],\n",
       " [2.26626, -2.80343, 5.0, 0.02902],\n",
       " [2.12169, -2.8042, 5.0, 0.02891],\n",
       " [1.97762, -2.80447, 5.0, 0.02881],\n",
       " [1.834, -2.80424, 5.0, 0.02873],\n",
       " [1.69074, -2.80353, 5.0, 0.02865],\n",
       " [1.54775, -2.80234, 5.0, 0.0286]]"
      ]
     },
     "execution_count": 120,
     "metadata": {},
     "output_type": "execute_result"
    }
   ],
   "source": [
    "racing_track_everything"
   ]
  },
  {
   "cell_type": "code",
   "execution_count": 121,
   "metadata": {},
   "outputs": [],
   "source": [
    "# Write to txt file\n",
    "with open(f'optimals_newest_{TRACK_NAME}.txt', 'w') as f:\n",
    "    f.write(\"[\")\n",
    "    for line in racing_track_everything:\n",
    "        f.write(\"%s\" % line)\n",
    "        if line != racing_track_everything[-1]:\n",
    "            f.write(\",\\n\")\n",
    "    f.write(\"]\")"
   ]
  },
  {
   "cell_type": "markdown",
   "metadata": {},
   "source": [
    "# Part 2: Calculate Optimal Action Space"
   ]
  },
  {
   "cell_type": "code",
   "execution_count": 122,
   "metadata": {},
   "outputs": [],
   "source": [
    "# Calculate the radius for every point of the racing_track\n",
    "radius = []\n",
    "for i in range(len(racing_track)):\n",
    "    indexes = circle_indexes(racing_track, i, add_index_1=-1, add_index_2=1) # CHANGE BACK? 1;2\n",
    "    coords = [racing_track[indexes[0]],\n",
    "              racing_track[indexes[1]], racing_track[indexes[2]]]\n",
    "    radius.append(circle_radius(coords))\n",
    "\n",
    "# Calculate curve direction\n",
    "left_curve = []\n",
    "for i in range(len(racing_track)):\n",
    "    indexes = circle_indexes(racing_track, i, add_index_1=-1, add_index_2=1)\n",
    "    coords = [racing_track[indexes[1]],\n",
    "              racing_track[indexes[0]], racing_track[indexes[2]]]\n",
    "    left_curve.append(is_left_curve(coords))\n",
    "\n",
    "# Calculate radius with + and - for direction (+ is left, - is right)\n",
    "radius_direction = []\n",
    "for i in range(len(racing_track)):\n",
    "    radius_with_direction = radius[i]\n",
    "    if left_curve[i] == False:\n",
    "        radius_with_direction *= -1\n",
    "    radius_direction.append(radius_with_direction)\n",
    "\n",
    "# Calculate steering with + and -\n",
    "dist_wheels_front_back = 0.165 # meters\n",
    "steering = []\n",
    "for i in range(len(racing_track)):\n",
    "    steer = math.degrees(math.asin(dist_wheels_front_back/radius_direction[i]))\n",
    "    steering.append(steer)\n",
    "    \n",
    "# Merge relevant lists into dataframe\n",
    "all_actions = pd.DataFrame({\"velocity\":velocity,\n",
    "                            \"steering\":steering})"
   ]
  },
  {
   "cell_type": "code",
   "execution_count": 123,
   "metadata": {},
   "outputs": [
    {
     "data": {
      "text/plain": [
       "0.303316296847045"
      ]
     },
     "execution_count": 123,
     "metadata": {},
     "output_type": "execute_result"
    }
   ],
   "source": [
    "min(radius)"
   ]
  },
  {
   "cell_type": "code",
   "execution_count": 124,
   "metadata": {},
   "outputs": [
    {
     "data": {
      "text/html": [
       "<div>\n",
       "<style scoped>\n",
       "    .dataframe tbody tr th:only-of-type {\n",
       "        vertical-align: middle;\n",
       "    }\n",
       "\n",
       "    .dataframe tbody tr th {\n",
       "        vertical-align: top;\n",
       "    }\n",
       "\n",
       "    .dataframe thead th {\n",
       "        text-align: right;\n",
       "    }\n",
       "</style>\n",
       "<table border=\"1\" class=\"dataframe\">\n",
       "  <thead>\n",
       "    <tr style=\"text-align: right;\">\n",
       "      <th></th>\n",
       "      <th>velocity</th>\n",
       "      <th>steering</th>\n",
       "    </tr>\n",
       "  </thead>\n",
       "  <tbody>\n",
       "    <tr>\n",
       "      <th>0</th>\n",
       "      <td>5.0</td>\n",
       "      <td>-0.209146</td>\n",
       "    </tr>\n",
       "    <tr>\n",
       "      <th>1</th>\n",
       "      <td>5.0</td>\n",
       "      <td>-0.203856</td>\n",
       "    </tr>\n",
       "    <tr>\n",
       "      <th>2</th>\n",
       "      <td>5.0</td>\n",
       "      <td>-0.199778</td>\n",
       "    </tr>\n",
       "    <tr>\n",
       "      <th>3</th>\n",
       "      <td>5.0</td>\n",
       "      <td>-0.195698</td>\n",
       "    </tr>\n",
       "    <tr>\n",
       "      <th>4</th>\n",
       "      <td>5.0</td>\n",
       "      <td>-0.191709</td>\n",
       "    </tr>\n",
       "    <tr>\n",
       "      <th>...</th>\n",
       "      <td>...</td>\n",
       "      <td>...</td>\n",
       "    </tr>\n",
       "    <tr>\n",
       "      <th>348</th>\n",
       "      <td>5.0</td>\n",
       "      <td>-0.229832</td>\n",
       "    </tr>\n",
       "    <tr>\n",
       "      <th>349</th>\n",
       "      <td>5.0</td>\n",
       "      <td>-0.226144</td>\n",
       "    </tr>\n",
       "    <tr>\n",
       "      <th>350</th>\n",
       "      <td>5.0</td>\n",
       "      <td>-0.222588</td>\n",
       "    </tr>\n",
       "    <tr>\n",
       "      <th>351</th>\n",
       "      <td>5.0</td>\n",
       "      <td>-0.219053</td>\n",
       "    </tr>\n",
       "    <tr>\n",
       "      <th>352</th>\n",
       "      <td>5.0</td>\n",
       "      <td>-0.214211</td>\n",
       "    </tr>\n",
       "  </tbody>\n",
       "</table>\n",
       "<p>353 rows × 2 columns</p>\n",
       "</div>"
      ],
      "text/plain": [
       "     velocity  steering\n",
       "0         5.0 -0.209146\n",
       "1         5.0 -0.203856\n",
       "2         5.0 -0.199778\n",
       "3         5.0 -0.195698\n",
       "4         5.0 -0.191709\n",
       "..        ...       ...\n",
       "348       5.0 -0.229832\n",
       "349       5.0 -0.226144\n",
       "350       5.0 -0.222588\n",
       "351       5.0 -0.219053\n",
       "352       5.0 -0.214211\n",
       "\n",
       "[353 rows x 2 columns]"
      ]
     },
     "execution_count": 124,
     "metadata": {},
     "output_type": "execute_result"
    }
   ],
   "source": [
    "all_actions"
   ]
  },
  {
   "cell_type": "code",
   "execution_count": 125,
   "metadata": {},
   "outputs": [
    {
     "data": {
      "text/plain": [
       "Text(0.5, 1.0, 'With lookahead: 10')"
      ]
     },
     "execution_count": 125,
     "metadata": {},
     "output_type": "execute_result"
    },
    {
     "data": {
      "image/png": "[encoded data removed]",
      "text/plain": [
       "<Figure size 432x288 with 1 Axes>"
      ]
     },
     "metadata": {
      "needs_background": "light"
     },
     "output_type": "display_data"
    }
   ],
   "source": [
    "# Visualize action space\n",
    "ax = sns.scatterplot(data=all_actions, x=\"steering\", y=\"velocity\")\n",
    "ax.invert_xaxis()\n",
    "ax.set_title(f\"With lookahead: {LOOK_AHEAD_POINTS}\")"
   ]
  },
  {
   "cell_type": "code",
   "execution_count": 126,
   "metadata": {},
   "outputs": [
    {
     "data": {
      "image/png": "[encoded data removed]",
      "text/plain": [
       "<Figure size 720x360 with 2 Axes>"
      ]
     },
     "metadata": {
      "needs_background": "light"
     },
     "output_type": "display_data"
    }
   ],
   "source": [
    "# Visualize all actions\n",
    "plt.figure(figsize=(10, 5))\n",
    "sns.lineplot(data=all_actions[\"velocity\"], color=\"r\")\n",
    "ax2 = plt.twinx()\n",
    "sns.lineplot(data=all_actions[\"steering\"], color=\"g\", ax=ax2)\n",
    "plt.axhline(0, ls='--', color=\"g\")\n",
    "a = plt.title(\"Speed (red), Steering (green; positive=left)\")"
   ]
  },
  {
   "cell_type": "markdown",
   "metadata": {},
   "source": [
    "#### Calculate Action Space with K-Means and Resampling each point with normal distribution"
   ]
  },
  {
   "cell_type": "code",
   "execution_count": 127,
   "metadata": {},
   "outputs": [
    {
     "data": {
      "text/plain": [
       "<AxesSubplot:ylabel='Density'>"
      ]
     },
     "execution_count": 127,
     "metadata": {},
     "output_type": "execute_result"
    },
    {
     "data": {
      "image/png": "[encoded data removed]",
      "text/plain": [
       "<Figure size 432x288 with 1 Axes>"
      ]
     },
     "metadata": {
      "needs_background": "light"
     },
     "output_type": "display_data"
    }
   ],
   "source": [
    "# Steering: Find standard deviation so that probability of >10 degrees steering is 5%\n",
    "steering_sd = -15 / stats.norm.ppf(0.05)\n",
    "steering_sd\n",
    "sns.distplot(np.random.normal(0,steering_sd,10000))"
   ]
  },
  {
   "cell_type": "code",
   "execution_count": 128,
   "metadata": {},
   "outputs": [
    {
     "data": {
      "text/plain": [
       "<AxesSubplot:ylabel='Density'>"
      ]
     },
     "execution_count": 128,
     "metadata": {},
     "output_type": "execute_result"
    },
    {
     "data": {
      "image/png": "[encoded data removed]",
      "text/plain": [
       "<Figure size 432x288 with 1 Axes>"
      ]
     },
     "metadata": {
      "needs_background": "light"
     },
     "output_type": "display_data"
    }
   ],
   "source": [
    "# Velocity: Find standard deviation so that probability of >0.25m/s deviation is 0%\n",
    "# Note: Here, probability is set to 0%, so no noise regarding velocity\n",
    "velocity_sd = -0.25 / stats.norm.ppf(0.00)\n",
    "velocity_sd\n",
    "sns.distplot(np.random.normal(0,velocity_sd,10000))"
   ]
  },
  {
   "cell_type": "code",
   "execution_count": 129,
   "metadata": {},
   "outputs": [
    {
     "data": {
      "text/plain": [
       "(324405, 2)"
      ]
     },
     "execution_count": 129,
     "metadata": {},
     "output_type": "execute_result"
    }
   ],
   "source": [
    "all_actions_norm = all_actions.copy()\n",
    "\n",
    "all_actions_norm_len = len(all_actions_norm)\n",
    "resample_size = 1000\n",
    "\n",
    "# Add gaussian noise to action space\n",
    "for i in range(all_actions_norm_len):\n",
    "    v_true = all_actions_norm.iloc[i][\"velocity\"]\n",
    "    s_true = all_actions_norm.iloc[i][\"steering\"]\n",
    "    v_norm = np.random.normal(loc=v_true, scale=velocity_sd, size=resample_size)\n",
    "    s_norm = np.random.normal(loc=s_true, scale=steering_sd, size=resample_size)\n",
    "    vs_norm = pd.DataFrame(np.column_stack([v_norm,s_norm]), columns=[\"velocity\",\"steering\"])\n",
    "    all_actions_norm = pd.concat([all_actions_norm,vs_norm], axis=0, ignore_index=True)\n",
    "    \n",
    "# Take out actions with max speed, so that they are not affected by gaussian noise\n",
    "# We do this because there are disproportionally many points with max speed, so \n",
    "# K-Means will focus too much on these\n",
    "all_actions_norm = all_actions_norm[all_actions_norm[\"velocity\"] < MAX_SPEED]\n",
    "    \n",
    "# Add initial actions to action space (to make clustering more focused on initial actions)\n",
    "add_n_initial_actions = int(resample_size / 8)\n",
    "add_initial_actions = pd.DataFrame()\n",
    "for i in range(add_n_initial_actions):\n",
    "    add_initial_actions = pd.concat([add_initial_actions,all_actions], axis=0, ignore_index=True)\n",
    "all_actions_norm = pd.concat([all_actions_norm,add_initial_actions], axis=0, ignore_index=True)\n",
    "\n",
    "\n",
    "# Display actions shape\n",
    "all_actions_norm.shape"
   ]
  },
  {
   "cell_type": "code",
   "execution_count": 130,
   "metadata": {},
   "outputs": [
    {
     "data": {
      "image/png": "[encoded data removed]",
      "text/plain": [
       "<Figure size 432x288 with 1 Axes>"
      ]
     },
     "metadata": {
      "needs_background": "light"
     },
     "output_type": "display_data"
    }
   ],
   "source": [
    "all_actions_norm_less = all_actions_norm.sample(frac=0.01).reset_index(drop=True) # sample bc less compute time\n",
    "ax = sns.kdeplot(data=all_actions_norm_less[\"steering\"],data2=all_actions_norm_less[\"velocity\"])\n",
    "ax.invert_xaxis()"
   ]
  },
  {
   "cell_type": "code",
   "execution_count": 131,
   "metadata": {},
   "outputs": [],
   "source": [
    "X = all_actions_norm\n",
    "\n",
    "X = all_actions\n",
    "\n",
    "# Calculate action space with KMeans\n",
    "\n",
    "from sklearn.preprocessing import MinMaxScaler\n",
    "from sklearn.cluster import MiniBatchKMeans\n",
    "\n",
    "# Rescale data with minmax\n",
    "minmax_scaler = MinMaxScaler()\n",
    "X_minmax = pd.DataFrame(minmax_scaler.fit_transform(X), \n",
    "                                           columns=[\"velocity\",\"steering\"])\n",
    "\n",
    "# KMeans\n",
    "# remove 2 actions from KMeans so that low speed & high steering actions can be manually included\n",
    "n_clusters = 30-2#21-2\n",
    "model = MiniBatchKMeans(n_clusters=n_clusters).fit(X_minmax)\n",
    "\n",
    "# Centroids (interpretable)\n",
    "from sklearn.preprocessing import MinMaxScaler\n",
    "minmax_scaler = MinMaxScaler()\n",
    "X_minmax_fit = minmax_scaler.fit(X)\n",
    "X_centroids = pd.DataFrame(X_minmax_fit.inverse_transform(model.cluster_centers_), \n",
    "                                   columns=[\"velocity\",\"steering\"])\n",
    "\n",
    "# Add 2 manual actions\n",
    "# Reason: When car starts new episode, it does not start on or direction of racing line, so \n",
    "# it cannot steer enough to get on racing line\n",
    "manual_actions = pd.DataFrame({\"velocity\":[MIN_SPEED,MIN_SPEED],\"steering\":[30,-30]})\n",
    "X_centroids = pd.concat([X_centroids,manual_actions], ignore_index=True)\n",
    "\n",
    "action_space_e = X_centroids.copy()"
   ]
  },
  {
   "cell_type": "code",
   "execution_count": 132,
   "metadata": {},
   "outputs": [
    {
     "data": {
      "image/png": "[encoded data removed]",
      "text/plain": [
       "<Figure size 432x288 with 1 Axes>"
      ]
     },
     "metadata": {
      "needs_background": "light"
     },
     "output_type": "display_data"
    }
   ],
   "source": [
    "ax = sns.scatterplot(data=all_actions, x=\"steering\", y=\"velocity\", alpha=.1)\n",
    "ax = sns.scatterplot(data=action_space_e, x=\"steering\", y=\"velocity\")\n",
    "ax.invert_xaxis()"
   ]
  },
  {
   "cell_type": "markdown",
   "metadata": {},
   "source": [
    "*Note: Action space can be different every time it is computed because of randome resampling with gaussian noise and also because of the random seed with K-Means. Therefore, try out multiple iterations until you are happy with the result*"
   ]
  },
  {
   "cell_type": "markdown",
   "metadata": {},
   "source": [
    "#### Output as JSON format"
   ]
  },
  {
   "cell_type": "code",
   "execution_count": 133,
   "metadata": {},
   "outputs": [
    {
     "data": {
      "text/html": [
       "<div>\n",
       "<style scoped>\n",
       "    .dataframe tbody tr th:only-of-type {\n",
       "        vertical-align: middle;\n",
       "    }\n",
       "\n",
       "    .dataframe tbody tr th {\n",
       "        vertical-align: top;\n",
       "    }\n",
       "\n",
       "    .dataframe thead th {\n",
       "        text-align: right;\n",
       "    }\n",
       "</style>\n",
       "<table border=\"1\" class=\"dataframe\">\n",
       "  <thead>\n",
       "    <tr style=\"text-align: right;\">\n",
       "      <th></th>\n",
       "      <th>steering_angle</th>\n",
       "      <th>speed</th>\n",
       "      <th>index</th>\n",
       "    </tr>\n",
       "  </thead>\n",
       "  <tbody>\n",
       "    <tr>\n",
       "      <th>0</th>\n",
       "      <td>-0.2836</td>\n",
       "      <td>4.9991</td>\n",
       "      <td>0</td>\n",
       "    </tr>\n",
       "    <tr>\n",
       "      <th>1</th>\n",
       "      <td>0.4338</td>\n",
       "      <td>1.5020</td>\n",
       "      <td>1</td>\n",
       "    </tr>\n",
       "    <tr>\n",
       "      <th>2</th>\n",
       "      <td>2.4315</td>\n",
       "      <td>3.9348</td>\n",
       "      <td>2</td>\n",
       "    </tr>\n",
       "    <tr>\n",
       "      <th>3</th>\n",
       "      <td>-18.6926</td>\n",
       "      <td>1.5328</td>\n",
       "      <td>3</td>\n",
       "    </tr>\n",
       "    <tr>\n",
       "      <th>4</th>\n",
       "      <td>-0.3144</td>\n",
       "      <td>3.1024</td>\n",
       "      <td>4</td>\n",
       "    </tr>\n",
       "    <tr>\n",
       "      <th>5</th>\n",
       "      <td>8.4826</td>\n",
       "      <td>1.7929</td>\n",
       "      <td>5</td>\n",
       "    </tr>\n",
       "    <tr>\n",
       "      <th>6</th>\n",
       "      <td>-8.3269</td>\n",
       "      <td>1.6538</td>\n",
       "      <td>6</td>\n",
       "    </tr>\n",
       "    <tr>\n",
       "      <th>7</th>\n",
       "      <td>-0.5713</td>\n",
       "      <td>2.4346</td>\n",
       "      <td>7</td>\n",
       "    </tr>\n",
       "    <tr>\n",
       "      <th>8</th>\n",
       "      <td>-0.6380</td>\n",
       "      <td>4.5920</td>\n",
       "      <td>8</td>\n",
       "    </tr>\n",
       "    <tr>\n",
       "      <th>9</th>\n",
       "      <td>17.0671</td>\n",
       "      <td>1.5730</td>\n",
       "      <td>9</td>\n",
       "    </tr>\n",
       "    <tr>\n",
       "      <th>10</th>\n",
       "      <td>-0.3791</td>\n",
       "      <td>1.7134</td>\n",
       "      <td>10</td>\n",
       "    </tr>\n",
       "    <tr>\n",
       "      <th>11</th>\n",
       "      <td>-0.8460</td>\n",
       "      <td>3.9192</td>\n",
       "      <td>11</td>\n",
       "    </tr>\n",
       "    <tr>\n",
       "      <th>12</th>\n",
       "      <td>-0.6597</td>\n",
       "      <td>4.8602</td>\n",
       "      <td>12</td>\n",
       "    </tr>\n",
       "    <tr>\n",
       "      <th>13</th>\n",
       "      <td>1.5558</td>\n",
       "      <td>2.0119</td>\n",
       "      <td>13</td>\n",
       "    </tr>\n",
       "    <tr>\n",
       "      <th>14</th>\n",
       "      <td>-4.6640</td>\n",
       "      <td>1.3494</td>\n",
       "      <td>14</td>\n",
       "    </tr>\n",
       "    <tr>\n",
       "      <th>15</th>\n",
       "      <td>-15.4512</td>\n",
       "      <td>1.3217</td>\n",
       "      <td>15</td>\n",
       "    </tr>\n",
       "    <tr>\n",
       "      <th>16</th>\n",
       "      <td>-3.3901</td>\n",
       "      <td>1.8987</td>\n",
       "      <td>16</td>\n",
       "    </tr>\n",
       "    <tr>\n",
       "      <th>17</th>\n",
       "      <td>-10.2111</td>\n",
       "      <td>1.2886</td>\n",
       "      <td>17</td>\n",
       "    </tr>\n",
       "    <tr>\n",
       "      <th>18</th>\n",
       "      <td>-25.8418</td>\n",
       "      <td>1.3065</td>\n",
       "      <td>18</td>\n",
       "    </tr>\n",
       "    <tr>\n",
       "      <th>19</th>\n",
       "      <td>-0.2174</td>\n",
       "      <td>4.3414</td>\n",
       "      <td>19</td>\n",
       "    </tr>\n",
       "    <tr>\n",
       "      <th>20</th>\n",
       "      <td>-8.9424</td>\n",
       "      <td>2.0774</td>\n",
       "      <td>20</td>\n",
       "    </tr>\n",
       "    <tr>\n",
       "      <th>21</th>\n",
       "      <td>-0.6326</td>\n",
       "      <td>3.3780</td>\n",
       "      <td>21</td>\n",
       "    </tr>\n",
       "    <tr>\n",
       "      <th>22</th>\n",
       "      <td>9.3907</td>\n",
       "      <td>1.4969</td>\n",
       "      <td>22</td>\n",
       "    </tr>\n",
       "    <tr>\n",
       "      <th>23</th>\n",
       "      <td>-0.6984</td>\n",
       "      <td>2.7311</td>\n",
       "      <td>23</td>\n",
       "    </tr>\n",
       "    <tr>\n",
       "      <th>24</th>\n",
       "      <td>-0.7752</td>\n",
       "      <td>3.6939</td>\n",
       "      <td>24</td>\n",
       "    </tr>\n",
       "    <tr>\n",
       "      <th>25</th>\n",
       "      <td>-12.1519</td>\n",
       "      <td>1.8450</td>\n",
       "      <td>25</td>\n",
       "    </tr>\n",
       "    <tr>\n",
       "      <th>26</th>\n",
       "      <td>-1.8032</td>\n",
       "      <td>4.0929</td>\n",
       "      <td>26</td>\n",
       "    </tr>\n",
       "    <tr>\n",
       "      <th>27</th>\n",
       "      <td>-3.0159</td>\n",
       "      <td>2.1666</td>\n",
       "      <td>27</td>\n",
       "    </tr>\n",
       "    <tr>\n",
       "      <th>28</th>\n",
       "      <td>30.0000</td>\n",
       "      <td>1.2000</td>\n",
       "      <td>28</td>\n",
       "    </tr>\n",
       "    <tr>\n",
       "      <th>29</th>\n",
       "      <td>-30.0000</td>\n",
       "      <td>1.2000</td>\n",
       "      <td>29</td>\n",
       "    </tr>\n",
       "  </tbody>\n",
       "</table>\n",
       "</div>"
      ],
      "text/plain": [
       "    steering_angle   speed  index\n",
       "0          -0.2836  4.9991      0\n",
       "1           0.4338  1.5020      1\n",
       "2           2.4315  3.9348      2\n",
       "3         -18.6926  1.5328      3\n",
       "4          -0.3144  3.1024      4\n",
       "5           8.4826  1.7929      5\n",
       "6          -8.3269  1.6538      6\n",
       "7          -0.5713  2.4346      7\n",
       "8          -0.6380  4.5920      8\n",
       "9          17.0671  1.5730      9\n",
       "10         -0.3791  1.7134     10\n",
       "11         -0.8460  3.9192     11\n",
       "12         -0.6597  4.8602     12\n",
       "13          1.5558  2.0119     13\n",
       "14         -4.6640  1.3494     14\n",
       "15        -15.4512  1.3217     15\n",
       "16         -3.3901  1.8987     16\n",
       "17        -10.2111  1.2886     17\n",
       "18        -25.8418  1.3065     18\n",
       "19         -0.2174  4.3414     19\n",
       "20         -8.9424  2.0774     20\n",
       "21         -0.6326  3.3780     21\n",
       "22          9.3907  1.4969     22\n",
       "23         -0.6984  2.7311     23\n",
       "24         -0.7752  3.6939     24\n",
       "25        -12.1519  1.8450     25\n",
       "26         -1.8032  4.0929     26\n",
       "27         -3.0159  2.1666     27\n",
       "28         30.0000  1.2000     28\n",
       "29        -30.0000  1.2000     29"
      ]
     },
     "execution_count": 133,
     "metadata": {},
     "output_type": "execute_result"
    }
   ],
   "source": [
    "# Output JSON format\n",
    "action_space_for_json = action_space_e[[\"steering\",\"velocity\"]].copy()\n",
    "    \n",
    "action_space_for_json = action_space_for_json.round(4)\n",
    "action_space_for_json.columns = [\"steering_angle\",\"speed\"]\n",
    "action_space_for_json[\"index\"] = action_space_for_json.index\n",
    "json_text = action_space_for_json.to_json(orient=\"records\", lines=False)\n",
    "\n",
    "action_space_for_json"
   ]
  },
  {
   "cell_type": "code",
   "execution_count": 134,
   "metadata": {},
   "outputs": [],
   "source": [
    "with open(f'AS21_newest_{TRACK_NAME}.txt', 'w') as f:\n",
    "    f.write(json_text)"
   ]
  },
  {
   "cell_type": "code",
   "execution_count": 135,
   "metadata": {},
   "outputs": [
    {
     "data": {
      "text/html": [
       "<div>\n",
       "<style scoped>\n",
       "    .dataframe tbody tr th:only-of-type {\n",
       "        vertical-align: middle;\n",
       "    }\n",
       "\n",
       "    .dataframe tbody tr th {\n",
       "        vertical-align: top;\n",
       "    }\n",
       "\n",
       "    .dataframe thead th {\n",
       "        text-align: right;\n",
       "    }\n",
       "</style>\n",
       "<table border=\"1\" class=\"dataframe\">\n",
       "  <thead>\n",
       "    <tr style=\"text-align: right;\">\n",
       "      <th></th>\n",
       "      <th>steering_angle</th>\n",
       "      <th>speed</th>\n",
       "      <th>index</th>\n",
       "    </tr>\n",
       "  </thead>\n",
       "  <tbody>\n",
       "    <tr>\n",
       "      <th>29</th>\n",
       "      <td>-30.0000</td>\n",
       "      <td>1.2000</td>\n",
       "      <td>29</td>\n",
       "    </tr>\n",
       "    <tr>\n",
       "      <th>18</th>\n",
       "      <td>-25.8418</td>\n",
       "      <td>1.3065</td>\n",
       "      <td>18</td>\n",
       "    </tr>\n",
       "    <tr>\n",
       "      <th>3</th>\n",
       "      <td>-18.6926</td>\n",
       "      <td>1.5328</td>\n",
       "      <td>3</td>\n",
       "    </tr>\n",
       "    <tr>\n",
       "      <th>15</th>\n",
       "      <td>-15.4512</td>\n",
       "      <td>1.3217</td>\n",
       "      <td>15</td>\n",
       "    </tr>\n",
       "    <tr>\n",
       "      <th>25</th>\n",
       "      <td>-12.1519</td>\n",
       "      <td>1.8450</td>\n",
       "      <td>25</td>\n",
       "    </tr>\n",
       "    <tr>\n",
       "      <th>17</th>\n",
       "      <td>-10.2111</td>\n",
       "      <td>1.2886</td>\n",
       "      <td>17</td>\n",
       "    </tr>\n",
       "    <tr>\n",
       "      <th>20</th>\n",
       "      <td>-8.9424</td>\n",
       "      <td>2.0774</td>\n",
       "      <td>20</td>\n",
       "    </tr>\n",
       "    <tr>\n",
       "      <th>6</th>\n",
       "      <td>-8.3269</td>\n",
       "      <td>1.6538</td>\n",
       "      <td>6</td>\n",
       "    </tr>\n",
       "    <tr>\n",
       "      <th>14</th>\n",
       "      <td>-4.6640</td>\n",
       "      <td>1.3494</td>\n",
       "      <td>14</td>\n",
       "    </tr>\n",
       "    <tr>\n",
       "      <th>16</th>\n",
       "      <td>-3.3901</td>\n",
       "      <td>1.8987</td>\n",
       "      <td>16</td>\n",
       "    </tr>\n",
       "    <tr>\n",
       "      <th>27</th>\n",
       "      <td>-3.0159</td>\n",
       "      <td>2.1666</td>\n",
       "      <td>27</td>\n",
       "    </tr>\n",
       "    <tr>\n",
       "      <th>26</th>\n",
       "      <td>-1.8032</td>\n",
       "      <td>4.0929</td>\n",
       "      <td>26</td>\n",
       "    </tr>\n",
       "    <tr>\n",
       "      <th>11</th>\n",
       "      <td>-0.8460</td>\n",
       "      <td>3.9192</td>\n",
       "      <td>11</td>\n",
       "    </tr>\n",
       "    <tr>\n",
       "      <th>24</th>\n",
       "      <td>-0.7752</td>\n",
       "      <td>3.6939</td>\n",
       "      <td>24</td>\n",
       "    </tr>\n",
       "    <tr>\n",
       "      <th>23</th>\n",
       "      <td>-0.6984</td>\n",
       "      <td>2.7311</td>\n",
       "      <td>23</td>\n",
       "    </tr>\n",
       "    <tr>\n",
       "      <th>12</th>\n",
       "      <td>-0.6597</td>\n",
       "      <td>4.8602</td>\n",
       "      <td>12</td>\n",
       "    </tr>\n",
       "    <tr>\n",
       "      <th>8</th>\n",
       "      <td>-0.6380</td>\n",
       "      <td>4.5920</td>\n",
       "      <td>8</td>\n",
       "    </tr>\n",
       "    <tr>\n",
       "      <th>21</th>\n",
       "      <td>-0.6326</td>\n",
       "      <td>3.3780</td>\n",
       "      <td>21</td>\n",
       "    </tr>\n",
       "    <tr>\n",
       "      <th>7</th>\n",
       "      <td>-0.5713</td>\n",
       "      <td>2.4346</td>\n",
       "      <td>7</td>\n",
       "    </tr>\n",
       "    <tr>\n",
       "      <th>10</th>\n",
       "      <td>-0.3791</td>\n",
       "      <td>1.7134</td>\n",
       "      <td>10</td>\n",
       "    </tr>\n",
       "    <tr>\n",
       "      <th>4</th>\n",
       "      <td>-0.3144</td>\n",
       "      <td>3.1024</td>\n",
       "      <td>4</td>\n",
       "    </tr>\n",
       "    <tr>\n",
       "      <th>0</th>\n",
       "      <td>-0.2836</td>\n",
       "      <td>4.9991</td>\n",
       "      <td>0</td>\n",
       "    </tr>\n",
       "    <tr>\n",
       "      <th>19</th>\n",
       "      <td>-0.2174</td>\n",
       "      <td>4.3414</td>\n",
       "      <td>19</td>\n",
       "    </tr>\n",
       "    <tr>\n",
       "      <th>1</th>\n",
       "      <td>0.4338</td>\n",
       "      <td>1.5020</td>\n",
       "      <td>1</td>\n",
       "    </tr>\n",
       "    <tr>\n",
       "      <th>13</th>\n",
       "      <td>1.5558</td>\n",
       "      <td>2.0119</td>\n",
       "      <td>13</td>\n",
       "    </tr>\n",
       "    <tr>\n",
       "      <th>2</th>\n",
       "      <td>2.4315</td>\n",
       "      <td>3.9348</td>\n",
       "      <td>2</td>\n",
       "    </tr>\n",
       "    <tr>\n",
       "      <th>5</th>\n",
       "      <td>8.4826</td>\n",
       "      <td>1.7929</td>\n",
       "      <td>5</td>\n",
       "    </tr>\n",
       "    <tr>\n",
       "      <th>22</th>\n",
       "      <td>9.3907</td>\n",
       "      <td>1.4969</td>\n",
       "      <td>22</td>\n",
       "    </tr>\n",
       "    <tr>\n",
       "      <th>9</th>\n",
       "      <td>17.0671</td>\n",
       "      <td>1.5730</td>\n",
       "      <td>9</td>\n",
       "    </tr>\n",
       "    <tr>\n",
       "      <th>28</th>\n",
       "      <td>30.0000</td>\n",
       "      <td>1.2000</td>\n",
       "      <td>28</td>\n",
       "    </tr>\n",
       "  </tbody>\n",
       "</table>\n",
       "</div>"
      ],
      "text/plain": [
       "    steering_angle   speed  index\n",
       "29        -30.0000  1.2000     29\n",
       "18        -25.8418  1.3065     18\n",
       "3         -18.6926  1.5328      3\n",
       "15        -15.4512  1.3217     15\n",
       "25        -12.1519  1.8450     25\n",
       "17        -10.2111  1.2886     17\n",
       "20         -8.9424  2.0774     20\n",
       "6          -8.3269  1.6538      6\n",
       "14         -4.6640  1.3494     14\n",
       "16         -3.3901  1.8987     16\n",
       "27         -3.0159  2.1666     27\n",
       "26         -1.8032  4.0929     26\n",
       "11         -0.8460  3.9192     11\n",
       "24         -0.7752  3.6939     24\n",
       "23         -0.6984  2.7311     23\n",
       "12         -0.6597  4.8602     12\n",
       "8          -0.6380  4.5920      8\n",
       "21         -0.6326  3.3780     21\n",
       "7          -0.5713  2.4346      7\n",
       "10         -0.3791  1.7134     10\n",
       "4          -0.3144  3.1024      4\n",
       "0          -0.2836  4.9991      0\n",
       "19         -0.2174  4.3414     19\n",
       "1           0.4338  1.5020      1\n",
       "13          1.5558  2.0119     13\n",
       "2           2.4315  3.9348      2\n",
       "5           8.4826  1.7929      5\n",
       "22          9.3907  1.4969     22\n",
       "9          17.0671  1.5730      9\n",
       "28         30.0000  1.2000     28"
      ]
     },
     "execution_count": 135,
     "metadata": {},
     "output_type": "execute_result"
    }
   ],
   "source": [
    "action_space_for_json.sort_values(by=['steering_angle', 'speed'])"
   ]
  },
  {
   "cell_type": "code",
   "execution_count": 136,
   "metadata": {},
   "outputs": [],
   "source": [
    "for i in range(len(action_space_for_json)):\n",
    "    row = action_space_for_json.iloc[i]"
   ]
  },
  {
   "cell_type": "code",
   "execution_count": 137,
   "metadata": {},
   "outputs": [],
   "source": [
    "spaces = action_space_for_json.sort_values(by=['steering_angle', 'speed']).to_dict('records', )"
   ]
  },
  {
   "cell_type": "code",
   "execution_count": 138,
   "metadata": {},
   "outputs": [],
   "source": [
    "for space in spaces:\n",
    "    space.pop('index')\n",
    "\n",
    "ns = []\n",
    "for space in spaces:\n",
    "    space['speed']= min( space['speed'], 4.0 )\n",
    "    ns.append(space)"
   ]
  },
  {
   "cell_type": "code",
   "execution_count": 139,
   "metadata": {},
   "outputs": [
    {
     "data": {
      "text/plain": [
       "[{'steering_angle': -30.0, 'speed': 1.2},\n",
       " {'steering_angle': -25.8418, 'speed': 1.3065},\n",
       " {'steering_angle': -18.6926, 'speed': 1.5328},\n",
       " {'steering_angle': -15.4512, 'speed': 1.3217},\n",
       " {'steering_angle': -12.1519, 'speed': 1.845},\n",
       " {'steering_angle': -10.2111, 'speed': 1.2886},\n",
       " {'steering_angle': -8.9424, 'speed': 2.0774},\n",
       " {'steering_angle': -8.3269, 'speed': 1.6538},\n",
       " {'steering_angle': -4.664, 'speed': 1.3494},\n",
       " {'steering_angle': -3.3901, 'speed': 1.8987},\n",
       " {'steering_angle': -3.0159, 'speed': 2.1666},\n",
       " {'steering_angle': -1.8032, 'speed': 4.0},\n",
       " {'steering_angle': -0.846, 'speed': 3.9192},\n",
       " {'steering_angle': -0.7752, 'speed': 3.6939},\n",
       " {'steering_angle': -0.6984, 'speed': 2.7311},\n",
       " {'steering_angle': -0.6597, 'speed': 4.0},\n",
       " {'steering_angle': -0.638, 'speed': 4.0},\n",
       " {'steering_angle': -0.6326, 'speed': 3.378},\n",
       " {'steering_angle': -0.5713, 'speed': 2.4346},\n",
       " {'steering_angle': -0.3791, 'speed': 1.7134},\n",
       " {'steering_angle': -0.3144, 'speed': 3.1024},\n",
       " {'steering_angle': -0.2836, 'speed': 4.0},\n",
       " {'steering_angle': -0.2174, 'speed': 4.0},\n",
       " {'steering_angle': 0.4338, 'speed': 1.502},\n",
       " {'steering_angle': 1.5558, 'speed': 2.0119},\n",
       " {'steering_angle': 2.4315, 'speed': 3.9348},\n",
       " {'steering_angle': 8.4826, 'speed': 1.7929},\n",
       " {'steering_angle': 9.3907, 'speed': 1.4969},\n",
       " {'steering_angle': 17.0671, 'speed': 1.573},\n",
       " {'steering_angle': 30.0, 'speed': 1.2}]"
      ]
     },
     "execution_count": 139,
     "metadata": {},
     "output_type": "execute_result"
    }
   ],
   "source": [
    "ns"
   ]
  },
  {
   "cell_type": "code",
   "execution_count": 140,
   "metadata": {},
   "outputs": [
    {
     "data": {
      "text/plain": [
       "30"
      ]
     },
     "execution_count": 140,
     "metadata": {},
     "output_type": "execute_result"
    }
   ],
   "source": [
    "len(ns)"
   ]
  },
  {
   "cell_type": "code",
   "execution_count": 47,
   "metadata": {},
   "outputs": [],
   "source": [
    "import pandas as pd\n",
    "data = pd.read_clipboard()"
   ]
  },
  {
   "cell_type": "code",
   "execution_count": 48,
   "metadata": {},
   "outputs": [
    {
     "data": {
      "text/plain": [
       "[]"
      ]
     },
     "execution_count": 48,
     "metadata": {},
     "output_type": "execute_result"
    }
   ],
   "source": [
    "data.to_dict('records')"
   ]
  },
  {
   "cell_type": "code",
   "execution_count": null,
   "metadata": {},
   "outputs": [],
   "source": []
  }
 ],
 "metadata": {
  "kernelspec": {
   "display_name": "Python 3",
   "language": "python",
   "name": "python3"
  },
  "language_info": {
   "codemirror_mode": {
    "name": "ipython",
    "version": 3
   },
   "file_extension": ".py",
   "mimetype": "text/x-python",
   "name": "python",
   "nbconvert_exporter": "python",
   "pygments_lexer": "ipython3",
   "version": "3.8.12"
  }
 },
 "nbformat": 4,
 "nbformat_minor": 4
}
